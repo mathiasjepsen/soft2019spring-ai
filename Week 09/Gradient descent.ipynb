{
 "cells": [
  {
   "cell_type": "markdown",
   "metadata": {
    "slideshow": {
     "slide_type": "slide"
    }
   },
   "source": [
    "## Gradient descent\n",
    "\n",
    "* Derivatives\n",
    "* Gradients and partial derivatives\n",
    "* Gradient descents"
   ]
  },
  {
   "cell_type": "code",
<<<<<<< HEAD
   "execution_count": null,
=======
   "execution_count": 227,
   "metadata": {},
   "outputs": [
    {
     "data": {
      "text/plain": [
       "array([[[-5, -4, -3, -2, -1,  0,  1,  2,  3,  4],\n",
       "        [-5, -4, -3, -2, -1,  0,  1,  2,  3,  4],\n",
       "        [-5, -4, -3, -2, -1,  0,  1,  2,  3,  4],\n",
       "        [-5, -4, -3, -2, -1,  0,  1,  2,  3,  4],\n",
       "        [-5, -4, -3, -2, -1,  0,  1,  2,  3,  4],\n",
       "        [-5, -4, -3, -2, -1,  0,  1,  2,  3,  4],\n",
       "        [-5, -4, -3, -2, -1,  0,  1,  2,  3,  4],\n",
       "        [-5, -4, -3, -2, -1,  0,  1,  2,  3,  4],\n",
       "        [-5, -4, -3, -2, -1,  0,  1,  2,  3,  4],\n",
       "        [-5, -4, -3, -2, -1,  0,  1,  2,  3,  4]],\n",
       "\n",
       "       [[-5, -5, -5, -5, -5, -5, -5, -5, -5, -5],\n",
       "        [-4, -4, -4, -4, -4, -4, -4, -4, -4, -4],\n",
       "        [-3, -3, -3, -3, -3, -3, -3, -3, -3, -3],\n",
       "        [-2, -2, -2, -2, -2, -2, -2, -2, -2, -2],\n",
       "        [-1, -1, -1, -1, -1, -1, -1, -1, -1, -1],\n",
       "        [ 0,  0,  0,  0,  0,  0,  0,  0,  0,  0],\n",
       "        [ 1,  1,  1,  1,  1,  1,  1,  1,  1,  1],\n",
       "        [ 2,  2,  2,  2,  2,  2,  2,  2,  2,  2],\n",
       "        [ 3,  3,  3,  3,  3,  3,  3,  3,  3,  3],\n",
       "        [ 4,  4,  4,  4,  4,  4,  4,  4,  4,  4]]])"
      ]
     },
     "execution_count": 227,
     "metadata": {},
     "output_type": "execute_result"
    }
   ],
   "source": [
    "np.array(np.meshgrid(np.arange(-5, 5), np.arange(-5, 5)))"
   ]
  },
  {
   "cell_type": "code",
   "execution_count": 199,
>>>>>>> upstream/master
   "metadata": {
    "slideshow": {
     "slide_type": "subslide"
    }
   },
<<<<<<< HEAD
   "outputs": [],
=======
   "outputs": [
    {
     "name": "stdout",
     "output_type": "stream",
     "text": [
      "Populating the interactive namespace from numpy and matplotlib\n"
     ]
    }
   ],
>>>>>>> upstream/master
   "source": [
    "%pylab inline"
   ]
  },
  {
   "cell_type": "markdown",
   "metadata": {
    "slideshow": {
     "slide_type": "subslide"
    }
   },
   "source": [
    "## Linear models\n",
    "\n",
    "$f(x) = \\alpha x + \\beta$ "
   ]
  },
  {
   "cell_type": "code",
<<<<<<< HEAD
   "execution_count": null,
=======
   "execution_count": 200,
>>>>>>> upstream/master
   "metadata": {
    "slideshow": {
     "slide_type": "fragment"
    }
   },
<<<<<<< HEAD
   "outputs": [],
=======
   "outputs": [
    {
     "data": {
      "text/plain": [
       "[<matplotlib.lines.Line2D at 0x7f759db01d68>]"
      ]
     },
     "execution_count": 200,
     "metadata": {},
     "output_type": "execute_result"
    },
    {
     "data": {
      "image/png": "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\n",
      "text/plain": [
       "<Figure size 432x288 with 1 Axes>"
      ]
     },
     "metadata": {
      "needs_background": "light"
     },
     "output_type": "display_data"
    }
   ],
>>>>>>> upstream/master
   "source": [
    "def f(x):\n",
    "    return 1.5 * x + 10\n",
    "\n",
    "xs = np.arange(0, 100)\n",
    "plt.plot(xs, f(xs))"
   ]
  },
  {
   "cell_type": "code",
<<<<<<< HEAD
   "execution_count": null,
=======
   "execution_count": 201,
>>>>>>> upstream/master
   "metadata": {
    "slideshow": {
     "slide_type": "subslide"
    }
   },
<<<<<<< HEAD
   "outputs": [],
=======
   "outputs": [
    {
     "data": {
      "text/plain": [
       "[<matplotlib.lines.Line2D at 0x7f759daddcf8>]"
      ]
     },
     "execution_count": 201,
     "metadata": {},
     "output_type": "execute_result"
    },
    {
     "data": {
      "image/png": "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\n",
      "text/plain": [
       "<Figure size 432x288 with 1 Axes>"
      ]
     },
     "metadata": {
      "needs_background": "light"
     },
     "output_type": "display_data"
    }
   ],
>>>>>>> upstream/master
   "source": [
    "plt.ylabel('Murders in million people')\n",
    "plt.xlabel('Growth rate in %')\n",
    "plt.plot(xs, f(xs))"
   ]
  },
  {
   "cell_type": "markdown",
   "metadata": {
    "slideshow": {
     "slide_type": "fragment"
    }
   },
   "source": [
    "* How many murders do we get if our growth rate is 2%?"
   ]
  },
  {
   "cell_type": "code",
<<<<<<< HEAD
   "execution_count": null,
=======
   "execution_count": 202,
>>>>>>> upstream/master
   "metadata": {
    "slideshow": {
     "slide_type": "fragment"
    }
   },
<<<<<<< HEAD
   "outputs": [],
   "source": [
    "f(60)"
=======
   "outputs": [
    {
     "data": {
      "text/plain": [
       "13.0"
      ]
     },
     "execution_count": 202,
     "metadata": {},
     "output_type": "execute_result"
    }
   ],
   "source": [
    "f(2)"
>>>>>>> upstream/master
   ]
  },
  {
   "cell_type": "code",
<<<<<<< HEAD
   "execution_count": null,
=======
   "execution_count": 203,
>>>>>>> upstream/master
   "metadata": {
    "slideshow": {
     "slide_type": "subslide"
    }
   },
<<<<<<< HEAD
   "outputs": [],
=======
   "outputs": [
    {
     "data": {
      "text/plain": [
       "[<matplotlib.lines.Line2D at 0x7f759da43048>]"
      ]
     },
     "execution_count": 203,
     "metadata": {},
     "output_type": "execute_result"
    },
    {
     "data": {
      "image/png": "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\n",
      "text/plain": [
       "<Figure size 432x288 with 1 Axes>"
      ]
     },
     "metadata": {
      "needs_background": "light"
     },
     "output_type": "display_data"
    }
   ],
>>>>>>> upstream/master
   "source": [
    "plt.ylabel('Murders in million people')\n",
    "plt.xlabel('Growth rate in %')\n",
    "plt.plot(xs, f(xs))"
   ]
  },
  {
   "cell_type": "markdown",
   "metadata": {
    "slideshow": {
     "slide_type": "fragment"
    }
   },
   "source": [
<<<<<<< HEAD
    "* What is the minimum amount of murders we can get, if we have a positive inflation?"
=======
    "* What is the minimum amount of murders we can get, if we have a positive growth rate?"
>>>>>>> upstream/master
   ]
  },
  {
   "cell_type": "code",
<<<<<<< HEAD
   "execution_count": null,
=======
   "execution_count": 204,
>>>>>>> upstream/master
   "metadata": {
    "slideshow": {
     "slide_type": "fragment"
    }
   },
<<<<<<< HEAD
   "outputs": [],
=======
   "outputs": [
    {
     "data": {
      "text/plain": [
       "10.0"
      ]
     },
     "execution_count": 204,
     "metadata": {},
     "output_type": "execute_result"
    }
   ],
>>>>>>> upstream/master
   "source": [
    "f(0)"
   ]
  },
  {
   "cell_type": "markdown",
   "metadata": {
    "slideshow": {
     "slide_type": "subslide"
    }
   },
   "source": [
    "## Non-linear models\n",
    "\n",
    "\n",
    "\\begin{align} y =\\tfrac{1}{4}x^3+\\tfrac{3}{4}x^2-\\tfrac{3}{2}x + 10 \\end{align} "
   ]
  },
  {
   "cell_type": "code",
<<<<<<< HEAD
   "execution_count": null,
=======
   "execution_count": 205,
>>>>>>> upstream/master
   "metadata": {
    "slideshow": {
     "slide_type": "subslide"
    }
   },
<<<<<<< HEAD
   "outputs": [],
=======
   "outputs": [
    {
     "data": {
      "text/plain": [
       "[<matplotlib.lines.Line2D at 0x7f759d9fd588>]"
      ]
     },
     "execution_count": 205,
     "metadata": {},
     "output_type": "execute_result"
    },
    {
     "data": {
      "image/png": "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\n",
      "text/plain": [
       "<Figure size 432x288 with 1 Axes>"
      ]
     },
     "metadata": {
      "needs_background": "light"
     },
     "output_type": "display_data"
    }
   ],
>>>>>>> upstream/master
   "source": [
    "def g(x):\n",
    "    return x ** 3 / 4 + 3 * x ** 2 / 4 - 3 * x / 2 + 10\n",
    "\n",
    "plt.ylabel('Murders')\n",
    "plt.xlabel('Growth rate')\n",
    "\n",
    "xs = np.arange(-5, 5, 0.1)\n",
    "plt.plot(xs, g(xs))"
   ]
  },
  {
   "cell_type": "markdown",
   "metadata": {
    "slideshow": {
     "slide_type": "fragment"
    }
   },
   "source": [
    "* How many murders do we get if our growth rate is 2%?"
   ]
  },
  {
   "cell_type": "code",
<<<<<<< HEAD
   "execution_count": null,
=======
   "execution_count": 206,
>>>>>>> upstream/master
   "metadata": {
    "slideshow": {
     "slide_type": "fragment"
    }
   },
<<<<<<< HEAD
   "outputs": [],
=======
   "outputs": [
    {
     "data": {
      "text/plain": [
       "12.0"
      ]
     },
     "execution_count": 206,
     "metadata": {},
     "output_type": "execute_result"
    }
   ],
>>>>>>> upstream/master
   "source": [
    "g(2)"
   ]
  },
  {
   "cell_type": "code",
<<<<<<< HEAD
   "execution_count": null,
=======
   "execution_count": 207,
>>>>>>> upstream/master
   "metadata": {
    "slideshow": {
     "slide_type": "subslide"
    }
   },
<<<<<<< HEAD
   "outputs": [],
=======
   "outputs": [
    {
     "data": {
      "text/plain": [
       "[<matplotlib.lines.Line2D at 0x7f759d9edeb8>]"
      ]
     },
     "execution_count": 207,
     "metadata": {},
     "output_type": "execute_result"
    },
    {
     "data": {
      "image/png": "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\n",
      "text/plain": [
       "<Figure size 432x288 with 1 Axes>"
      ]
     },
     "metadata": {
      "needs_background": "light"
     },
     "output_type": "display_data"
    }
   ],
>>>>>>> upstream/master
   "source": [
    "plt.plot(xs, g(xs))"
   ]
  },
  {
   "cell_type": "markdown",
   "metadata": {
    "slideshow": {
     "slide_type": "fragment"
    }
   },
   "source": [
<<<<<<< HEAD
    "* What is the minimum amount of murders we can get, if we have a positive inflation?"
=======
    "* What is the minimum amount of murders we can get, if we have a positive growth rate?"
>>>>>>> upstream/master
   ]
  },
  {
   "cell_type": "code",
<<<<<<< HEAD
   "execution_count": null,
=======
   "execution_count": 208,
>>>>>>> upstream/master
   "metadata": {
    "slideshow": {
     "slide_type": "fragment"
    }
   },
<<<<<<< HEAD
   "outputs": [],
=======
   "outputs": [
    {
     "data": {
      "text/plain": [
       "10.0"
      ]
     },
     "execution_count": 208,
     "metadata": {},
     "output_type": "execute_result"
    }
   ],
>>>>>>> upstream/master
   "source": [
    "g(0)"
   ]
  },
  {
   "cell_type": "code",
<<<<<<< HEAD
   "execution_count": null,
=======
   "execution_count": 216,
>>>>>>> upstream/master
   "metadata": {
    "slideshow": {
     "slide_type": "fragment"
    }
   },
<<<<<<< HEAD
   "outputs": [],
   "source": [
    "g(1)"
=======
   "outputs": [
    {
     "data": {
      "text/plain": [
       "9.408"
      ]
     },
     "execution_count": 216,
     "metadata": {},
     "output_type": "execute_result"
    }
   ],
   "source": [
    "g(0.8)"
>>>>>>> upstream/master
   ]
  },
  {
   "cell_type": "markdown",
   "metadata": {
    "slideshow": {
     "slide_type": "subslide"
    }
   },
   "source": [
    "## Optimum\n",
    "\n",
    "* Global: The best value for the **entire** model\n",
    "* Local: The best value for the model, in a local, small place\n",
    "\n",
    "\n",
    "* **Very** important term\n",
    "  * Models exist to be optimised: deaths, cancer, stock prices..."
   ]
  },
  {
   "cell_type": "markdown",
   "metadata": {
    "slideshow": {
     "slide_type": "subslide"
    }
   },
   "source": [
    "## Loss functions and optimum\n",
    "\n",
    "* Your models has a loss function\n",
    "  * Remember the MAE or RMSE\n",
    "* You want to keep the loss function *low*"
   ]
  },
  {
   "cell_type": "markdown",
   "metadata": {
    "slideshow": {
     "slide_type": "fragment"
    }
   },
   "source": [
    "* Think about yourself as a human. You want to minimise pain and optimise pleasure"
   ]
  },
  {
   "cell_type": "markdown",
   "metadata": {
    "slideshow": {
     "slide_type": "fragment"
    }
   },
   "source": [
    "* New life purpose: How do we find the local or global optimum?\n",
    "  * Video: [CCC: The ghost in the machine](https://media.ccc.de/v/35c3-10030-the_ghost_in_the_machine)"
   ]
  },
  {
   "cell_type": "markdown",
   "metadata": {
    "slideshow": {
     "slide_type": "subslide"
    }
   },
   "source": [
    "## Function gradients"
   ]
  },
  {
   "cell_type": "markdown",
   "metadata": {
    "slideshow": {
     "slide_type": "fragment"
    }
   },
   "source": [
    "\\begin{align} y =\\tfrac{1}{4}x^3+\\tfrac{3}{4}x^2-\\tfrac{3}{2}x + 10 \\end{align} "
   ]
  },
  {
   "cell_type": "markdown",
   "metadata": {
    "slideshow": {
     "slide_type": "fragment"
    }
   },
   "source": [
    "\n",
    "\\begin{align} y =\\tfrac{3}{4}x^2+\\tfrac{6}{4}x-\\tfrac{3}{2} \\end{align} "
   ]
  },
  {
   "cell_type": "code",
<<<<<<< HEAD
   "execution_count": null,
=======
   "execution_count": 217,
>>>>>>> upstream/master
   "metadata": {
    "slideshow": {
     "slide_type": "fragment"
    }
   },
<<<<<<< HEAD
   "outputs": [],
=======
   "outputs": [
    {
     "data": {
      "text/plain": [
       "[<matplotlib.lines.Line2D at 0x7f759d99c780>]"
      ]
     },
     "execution_count": 217,
     "metadata": {},
     "output_type": "execute_result"
    },
    {
     "data": {
      "image/png": "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\n",
      "text/plain": [
       "<Figure size 432x288 with 1 Axes>"
      ]
     },
     "metadata": {
      "needs_background": "light"
     },
     "output_type": "display_data"
    }
   ],
>>>>>>> upstream/master
   "source": [
    "def g_prime(x):\n",
    "    return 3 / 4 * x ** 2 + 6 / 4 * x - 3 / 2\n",
    "\n",
    "plt.plot(xs, g(xs))\n",
    "plt.plot(xs, g_prime(xs))"
   ]
  },
  {
   "cell_type": "code",
<<<<<<< HEAD
   "execution_count": null,
=======
   "execution_count": 218,
>>>>>>> upstream/master
   "metadata": {
    "slideshow": {
     "slide_type": "subslide"
    }
   },
<<<<<<< HEAD
   "outputs": [],
=======
   "outputs": [
    {
     "data": {
      "text/plain": [
       "[<matplotlib.lines.Line2D at 0x7f759d9236d8>]"
      ]
     },
     "execution_count": 218,
     "metadata": {},
     "output_type": "execute_result"
    },
    {
     "data": {
      "image/png": "iVBORw0KGgoAAAANSUhEUgAAAXQAAAD8CAYAAABn919SAAAABHNCSVQICAgIfAhkiAAAAAlwSFlzAAALEgAACxIB0t1+/AAAADl0RVh0U29mdHdhcmUAbWF0cGxvdGxpYiB2ZXJzaW9uIDMuMC4yLCBodHRwOi8vbWF0cGxvdGxpYi5vcmcvOIA7rQAAIABJREFUeJzt3Xl4lNXd//H3yb4nZAESQkjYVwEJO6JorfuuVHHBFRWtta2PWvX3tHax2rq0T6u1rsUiKLIIroAUFFSWhH0nBEISCGTft5k5vz/OgFRZkjAz9yzf13XlSmYyk/s7gfncJ+c+i9JaI4QQwvcFWV2AEEII15BAF0IIPyGBLoQQfkICXQgh/IQEuhBC+AkJdCGE8BMS6EII4Sck0IUQwk9IoAshhJ8I8eTBkpOTdWZmpicPKYQQPi83N7dMa51yusd5NNAzMzPJycnx5CGFEMLnKaUK2vI46XIRQgg/IYEuhBB+QgJdCCH8hAS6EEL4CQl0IYTwE20a5aKU2g/UAnbAprXOVkolAu8DmcB+YLLWutI9ZQohhDid9rTQJ2mth2mts523HweWaa37AMuct4UQQljkTLpcrgJmOL+eAVx95uUIIYR/Kaxo4E+f7+RITZPbj9XWQNfAEqVUrlJqmvO+LlrrQ86vS4AuLq9OCCF83MKNxbyyYi+tDvfv39zWmaITtNbFSqnOwFKl1M7jv6m11kqpE1brPAFMA8jIyDijYoUQwtcs2nSQ7B6d6JYQ6fZjtamFrrUudn4+AiwARgGHlVKpAM7PR07y3Ne01tla6+yUlNMuRSCEEH5jZ0kNuw/XceWwNI8c77SBrpSKVkrFHv0a+DGwFVgETHU+bCqw0F1FCiGEL1q08SDBQYpLh6R65Hht6XLpAixQSh19/Cyt9edKqXXAHKXUXUABMNl9ZQohhG/RWvPR5oOM65VEcky4R4552kDXWucDQ09wfzlwgTuKEkIIX7ehsIrCikYeOr+Px44pM0WFEMINFm08SFhIEBcN7uqxY0qgCyGEi9kdmk+2HGJSvxTiIkI9dlwJdCGEcLHV+eWU1jZz5dBuHj2uBLoQQrjYhxuKiQkP4fz+nT16XAl0IYRwoaZWO59tLeGSwV2JDAv26LEl0IUQwoW+2HGYumYb1wz3bHcLSKALIYRLLVhfTNe4CEb3TPL4sSXQhRDCRcrrmvlydylXDU8jOEh5/PgS6EII4SKfbDmEzaEt6W4BCXQhhHCZ+euLGZAaR/+ucZYcXwJdCCFcYF9ZPRsLq7hmuGdWVjwRCXQhhHCBBRuKUQqPTyY6ngS6EEKcIYdDMy+3iAm9k+kaH2FZHRLoQghxhlbvK6e4qpHrR6RbWocEuhBCnKG5uUXEhodw0SDPrax4IhLoQghxBuqabXy2pYTLh6YREerZqf7fJ4EuhBBn4NMth2hstVve3QIS6EIIcUbm5hbRMzmaszMSrC5FAl0IITqqoLyetfsquG5EOs59ly0lgS6EEB00L7cIpeDas60be348CXQhhOgAu0PzQW4R5/RJITU+0upyAAl0IYTokJV7SjlU3cRNI7tbXcoxEuhCCNEB768rJCk6jAsGdLG6lGMk0IUQop3K6ppZuv0w141IJyzEe2LUeyoRQggfMX99ETaHZnK293S3gAS6EEK0i9aa99YVMjKzE707x1hdzn+RQBdCiHbIKagkv7Te61rnIIEuhBDtMnvtAWLCQ7jsrFSrS/kBCXQhhGijqoYWPtl8iGuGdyMqLMTqcn6gzYGulApWSm1QSn3svJ2llFqjlMpTSr2vlApzX5lCCGG9eeuLabY5mDI6w+pSTqg9LfSfATuOu/0c8JLWujdQCdzlysKEEMKbaK15d00BI3p0YkCqNZtAn06bAl0plQ5cBrzhvK2A84G5zofMAK52R4FCCOENVudXkF9az5RR3tk6h7a30P8CPAo4nLeTgCqttc15uwg44eo0SqlpSqkcpVROaWnpGRUrhBBWeXdNAfGRoV55MfSo0wa6Uupy4IjWOrcjB9Bav6a1ztZaZ6ekpHTkRwghhKVKa5tZvK2E60ekW74r0am05TLteOBKpdSlQAQQB/wVSFBKhThb6elAsfvKFEII63yQW0irXXvtxdCjTttC11r/SmudrrXOBG4E/qO1vhlYDlzvfNhUYKHbqhRCCIvYHZp3Vx9gbM8keqV418zQ7zuTceiPAb9QSuVh+tTfdE1JQgjhPZbtOExxVSNTx/WwupTTatfIeK31CmCF8+t8YJTrSxJCCO8x49v9pMVH8CMvWib3ZGSmqBBCnETekVq+zivn5jE9CAn2/rj0/gqFEMIi73xbQFhIEDd60a5EpyKBLoQQJ1Db1Mq83CKuOCuNpJhwq8tpEwl0IYQ4gXm5RdS32H3iYuhREuhCCPE9DofmnW8LGNY9gbPSE6wup80k0IUQ4nuW7zpCflk9d07IsrqUdpFAF0KI73lz1T5S4yO4ZHBXq0tpFwl0IYQ4zraD1Xyzt5yp4zIJ9YGhisfzrWqFEMLN3lq1n8jQYG4a6d3rtpyIBLoQQjgdqW3io00HuSE7nfioUKvLaTcJdCGEcJr5bQGtDgd3jPeti6FHSaALIQTQ2GJn5poDXNC/M1nJ0VaX0yES6EIIAczNLaSivoVpE3tZXUqHSaALIQKeze7gtZX5nJ2RwMjMTlaX02ES6EKIgPfZ1hIKKxq599xeKKWsLqfDJNCFEAFNa80/v9pLz+RoLvSBNc9PRQJdCBHQvtlbztbiGqZN7ElQkO+2zkECXQgR4F79ci8pseFcPbyb1aWcMQl0IUTA2lxUxco9ZdwxPpOI0GCryzljEuhCiID18vI84iJCuHWM76x5fioS6EKIgLSrpJbF2w5z+/gsYiN8b5r/iUigCyEC0isr8ogKC+aOcZlWl+IyEuhCiICzv6yejzYd5NYxPegUHWZ1OS4jgS6ECDj/WLGXkOAg7jrHNxfhOhkJdCFEQCmqbGD+hiJuHNmdzrERVpfjUhLoQoiA8vLyPBSK+8/z3UW4TkYCXQgRMAorGvggp4ibRnUnNT7S6nJcTgJdCBEw/vafPQQFKaZP6m11KW5x2kBXSkUopdYqpTYppbYppZ523p+llFqjlMpTSr2vlPKfS8VCCL9TUF7PvPXFTBmVQZc4/+o7P6otLfRm4Hyt9VBgGHCxUmoM8Bzwkta6N1AJ3OW+MoUQ4sz87T95hAQppvth3/lRpw10bdQ5b4Y6PzRwPjDXef8M4Gq3VCiEEGcov7SOBRuKuXl0Dzr7aesc2tiHrpQKVkptBI4AS4G9QJXW2uZ8SBHg+0uVCSH80gtLdxMeEsT0Sf7bOoc2BrrW2q61HgakA6OA/m09gFJqmlIqRymVU1pa2sEyhRCiY7YWV/PJ5kPcNSGL5Jhwq8txq3aNctFaVwHLgbFAglIqxPmtdKD4JM95TWudrbXOTklJOaNihRCivf60eBcJUaHcM7Gn1aW4XVtGuaQopRKcX0cCFwI7MMF+vfNhU4GF7ipSCCE6YnV+OV/tLmX6eb2I85MVFU8l5PQPIRWYoZQKxpwA5mitP1ZKbQfeU0r9HtgAvOnGOoUQol201vzp8510jYvgtrGZVpfjEacNdK31ZmD4Ce7Px/SnCyGE11my/TDrD1TxzDVD/GI3oraQmaJCCL/Tanfw7Gc76d05hsnZ6VaX4zES6EIIvzNrzQH2ldXzxKX9CQkOnJgLnFcqhAgINU2t/OWL3YzrlcSkfp2tLsejJNCFEH7lleV7qWps5YlLB6CUsrocj5JAF0L4jaLKBt76eh/XDO/G4G7xVpfjcRLoQgi/8cynOwhS8MiP+1ldiiUk0IUQfuGbvWV8uqWE6ef1Ji3B/zavaAsJdCGEz7PZHfz2o+2kd4pkWgBM8T8ZCXQhhM+bvfYAO0tqefLSAQEziehEJNCFED6tsr6FF5aaYYoXD+5qdTmWkkAXQvi0Py3eSW2TjV9fMSjghil+nwS6EMJn5RZUMnttIXeOz6Rf11iry7GcBLoQwifZ7A6e+nArXeMiePhHfa0uxytIoAshfNK/vtnPjkM1/PqKgUSHt2UlcP8ngS6E8Dkl1U28tHQ35/VLCfgLoceTQBdC+BStNf9v4VZsDs1vrxwc8BdCjyeBLoTwKZ9uKWHp9sP84sK+ZCRFWV2OV5FAF0L4jKqGFn69aCtDusVz14Qsq8tpm4YK+OJpsLW4/VAS6EIIn/H7T3ZQ2dDKs9cN8Y2NK5rr4N0b4NuX4cg2tx/OB34jQggBX+0uZW5uEfdO7MmgNB9YGtfWDO/fAgc3wA1vQ9oPtmZ2ORnrI4TwetWNrTw2bzO9UqJ56II+Vpdzeg47zL8H8pfD1f+A/pd55LAS6EIIr/f0R9s4UtvMvPvHef/iW1rDRz+D7Qvhomdg2BSPHVq6XIQQXm3xthLmry9m+nm9GNY9wepyTk1rWPwEbPg3THwUxj7g0cNLoAshvFZ5XTNPLtjCwNQ4fnq+D3S1rHgWVr8Co++HSU94/PDS5SKE8Epaax6fv4WaRhsz7x5KWIiXtz+/+Rt8+SwMv8V0tVgw4cnLf0NCiED17poDLN1+mEcv7kf/rnFWl3Nqa1+HJU/BoGvgiv+DIGuiVQJdCOF1dh+u5Xcfb+ecPsncOd7LJxBteBc+fQT6XQrXvg5B1l20lUAXQniVplY7D83eQEx4CC9MHkpQkBev1bJlLix6EHpOguvfhuBQS8uRPnQhhFd55tMd7Cyp5e3bR9I5NsLqck5u+0KYPw0yxsKNsyDU+lpP20JXSnVXSi1XSm1XSm1TSv3MeX+iUmqpUmqP83Mn95crhPBnH206yDvfFnDXhCwm9e9sdTknt/NTmHsnpGfDlPchzDsWCWtLl4sN+KXWeiAwBnhAKTUQeBxYprXuAyxz3hZCiA7ZW1rH4/M2M6JHJx6/pL/V5Zzc7iUw5zZIHQo3fwDh3rP13WkDXWt9SGu93vl1LbAD6AZcBcxwPmwGcLW7ihRC+LeGFhv3z8wlPDSYv08ZTqi3Lry1Zym8fzN0GQi3zIMI71pTpl196EqpTGA4sAboorU+5PxWCdDFpZUJIQKC1ponF2xlz5E6ZtwxitT4SKtLOrE9X8B7N0NKf7j1Q4j0vl7mNp8GlVIxwDzgYa11zfHf01prQJ/kedOUUjlKqZzS0tIzKlYI4X/eXLWPBRuKefiCvkzsm2J1OSeW9wW8NwVS+sJtCyEq0eqKTqhNga6UCsWE+bta6/nOuw8rpVKd308FjpzouVrr17TW2Vrr7JQUL/3HEkJYYuWeUp75dAcXDerCT8/vbXU5J7ZnKcw+GuaLvDbMoW2jXBTwJrBDa/3icd9aBEx1fj0VWOj68oQQ/qqgvJ4HZ22gT+dYXpg8zDvHm+/63LTMO/f3+jCHtvWhjwduBbYopTY673sCeBaYo5S6CygAJrunRCGEv6lpauWed3IAeO22EcSEe+GUmJ2fmtEsXQfDrQu8ss/8+077W9RarwJOduq8wLXlCCH8XavdwfSZ68kvreedO0fRIyna6pJ+aNuHMO8uMzTxlvkQ6eXL9jp56dggIYQ/0lrz1IKtrMor44/XDmFc72SrS/qhzXNg7h3QLds5msU3whwk0IUQHvTKir28n1PIT8/vzQ3Z3a0u54fWv2Om8/cY7xxn7uWrPH6PBLoQwiPm5BTy58W7uHJoGr+4sK/V5fzQ6ldh0U+h1/nOGaAxVlfUbhLoQgi3W7KthMfnbeacPsk8f8NQlAWbP5zSV8/D549B/8vhptkQ6qWTm07DCy8tCyH8yer8ch6cvYGz0hN49ZYR3rXzkNaw7GlY9RKc9RO46hUI9t1Y9N3KhRBeb8OBSu6ekUNGYhRv3z6SaG8anuiwwye/hNy3YcQdcNmLlu005Cpe9NsVQviTzUVV3PbmWpJiwph512g6RYdZXdJ3bC2w4F7YNh8m/Bwu+LUle4C6mgS6EMLlthZXc8sba4iPCmXWPWPoGm/95g/HtNTDnKmQtxR+9DRMeNjqilxGAl0I4VKbi6q47a21xEaEMvueMXRL8KILjA0VMGsyFOfCFX+FEbdbXZFLSaALIVxm7b4K7vzXOhKiQpl19xi6J3rHTj4AVBfDzGuhYh/cMAMGXml1RS4ngS6EcImvdpcy7d85pCVE8u7do71rXfPSXfDva6G5xkwYyjrH6orcQgJdCHHGFm06yCNzNtEzJZqZd48mOSbc6pK+U/AtzL4RgsPg9o/N+ix+SgJdCNFhWmveWLmPP3y6g1GZibx+WzbxUaFWl/WdHR/BvLshPt20zDtlWl2RW0mgCyE6xO7Q/P6T7bz99X4uG5LKC5OHEhEabHVZ31n7Onz2KKSdDVPmQHSS1RW5nQS6l2q1OyitbaaivoXKhhaqGlppbLHT2Go+7A6N1hqtIThYERYcRFhIEFFhIcSEhxAbEUJ8ZChJMWEkRocRHuJFbzTh82qaWnlo9gZW7CrlrglZPHnpAO/ZoMLhgC/+F775G/S9BK5/E8K8cIleN5BAt5DdockvrWNHSS37SuvJL6tjf3kDh6oaKa1rRp9wl9aOiYsIITU+kq7xEaQlRJKRGEVGYhQ9kqLISo72rhl8wqvll9Zx9zs5HChv4A/XDObm0T2sLuk7rU3w4X2wbQGMvAcueQ6CAqcxI+9iDyqpbiKnoIKc/ZVsKKxiV0kNTa0OwExSS4uPJCs5mn79Uo6Fb2J0GJ2iwkiICiU6PITI0GAiQoMIDlIoFEqZE0OL3UGLzUFji52aplZqm2xUNbRSUd9CeV0zpXXNHKpu4lB1I1uKq6mob/mv2lLjI+jdOYa+XWLp1zWWAV3j6Ns1Rlr24r8s3X6YX87ZSEhwEO/ePZrRPb2oG6O+DGbfBEVr4cLfwbif+sXsz/aQQHejxhY73+aX8dXuMr7aXUp+WT0AkaHBDO0ezy2jezAwLY4BqXFkJUd3uP8xNJh2P7eu2UZhRQP7y+rJL6tn75E69hypY+bqAppt5iQTEqTo3TmGwd3iGZoez9DuCfTvGuddiysJj2i1O3h+8S7++VU+g9LiePWWEd41xrx0N8y6AWpLYPI7MPAqqyuyhAS6i9U121i24zCfby1hxa5SGlvtRIQGMaZnElNGZzAyM5GBaXGEBlsbijHhIQxINSeT49kdmgMVDew4VMO2g9VsLa5h+c4jzM0tAiAsJIgh3eI5OyOBET06MaJHIimxXjRETbhccVUjD7+3gXX7K7llTAZPXTbQuy5+5n8Jc251Dkv8BNKzra7IMkq7sqP2NLKzs3VOTo7Hjucpdofmm71lzMst4vNtJTS1OugcG85Fg7ry40FdGJmZ6F1vgHbSWlNU2cjmomo2Flay/kAVW4qraXG25HsmRzMyM5HRPRMZ0zOJNG+a6i06TGvNwo0H+X8Lt+JwaJ65dghXDetmdVn/Ledt+PQRSOptRrJ08qL+fBdSSuVqrU97ppJAPwMV9S28v66QmasLKK5qJC4ihMuHpnHN8G6MyOjkPVf93aDZZmdrcQ05+ytYt7+CdfsrqW5sBaB7YiTjeiYzrncSY3sm0TnOixZmEm1SWd/CUwu38snmQ2T36MSLk4eRkeRFXSwOOyx+Etb8A3pfCNe/5XPbxbWHBLob5R2p459f7mXhpoO02ByM7ZnEzWMy+NGALj7dEj8TDodmZ0ktq/PLj33UNNkA6N05hgm9kxnfO5kxPROJjfCiiSfiv2itWbTpIE9/tJ2axlZ+fmFf7ju3F8He1DhprIK5d8LeZTBmurkA6sObUrSFBLobbCmq5uXleSzeXkJYcBDXj0hn6rhM+naJtbo0r2N3aHYcquHrvDK+3lvO2n3lNLU6CA5SDO+ewIQ+yZzTJ4Wh6fGEWHw9QRgHyhv430VbWbGrlKHdE3juuiH07+plrd6yPWYaf+V+uPR5yL7D6oo8QgLdhfKO1PL84t18vq2E2IgQpo7N5Pbxmd61XoWXa7bZyS2o5Ou8MlbuKWNLcTVaQ2xECON7JXNO32Qm9knxrpETAaK+2cYrK/J4feU+QoIU/3NRP24bm+ldrXKAPV+YlnlwKPzk39BjnNUVeYwEugscqWni+SW7mJtbRFRYCHefk8VdE7Kky8AFKutb+HpvGSt3l/HVnlIOVTcB5gLrxL4pTOybzOisJJnw5EY2u4P5G4p5YckuDtc0c83wbjx2cX/v2owCzL6fq16EZb+DLoPhplmQkGF1VR4lgX4Gmm123lq1n7//Zw+tds1tY3swfVJvEr1pCy0/orVmb2kdXzrH669xds+EBiuyeyQea70PTI3z6wvNnqK15rOtJbywZBd7S+sZmh7P/14xiBE9Olld2g8118HC6bB9IQy+Dq78O4QF3l9xEugd9E1eGU8s2ML+8gZ+NKALT102gMzkwFgHwls0tZruma92l/LVnjJ2HKoBICk6jPG9k53978netd62D7DZHXyy5RD/WLGXnSW19Okcwy9/3I+LBnVBeeOMyrI8eP8WKNtltooLwJmfR0mgt1NVQwt/+GQHH+QWkZkUxW+vGszEvilWlyUwXV8r95Sxytn/XlbXDECvlGjGHx09k5XkXcu2epG6Zhvz1xfxxsp9HKhooHfnGKaf14urhnXzvn7yo3Z+AgvuM/3l170JvSZZXZGlJNDb4Yvth3l8/hYqG1q4d2JPHrqgT8AOP/R2Wpvhkav2lPH13jLW5FfQ2GonSMHgbvGM7ZnEmJ5JZGd2CvhrHbsP1/Lu6gLmrS+mrtnG0O4JTD+vFxcO6OK9XVd2Gyz/g+kzTxsOk/8NCd2trspyLgt0pdRbwOXAEa31YOd9icD7QCawH5ista483cG8LdDrm238/pPtzF5byIDUOF64YSgD07xsmJY4pRabgw0HKvk2v5xv9paz4UAlrXZ9LOBHZiY6PzqRFACjksrrmvlo00HmrS9mS3E1YcFBXH5WKreNy2RY9wSryzu12sNmFEvBKjh7KlzyJwj1sgu0FnFloE8E6oB3jgv0PwEVWutnlVKPA5201o+d7mDeFOhbiqp5cPZ6DlQ0cO/EXvz8wj6ysqAfaGyxs+FApZnctK+CjYVVx5YoyEqOZnhGAmdndGJ4RgJ9u8RavqaOKxyqbmTJNrN+0Jp95Tg0DEqL47qz07lqWJpvnMj2rzJh3lQDl78Ew26yuiKv4tIuF6VUJvDxcYG+CzhPa31IKZUKrNBa9zvdz/GGQNdaM3N1Ab/7eAfJMWG89JNh3rUEqHAps0RBNWv3VbL+QCXrCyopdy4dHBEaxKC0eIZ0i2dgWhyD0uLo0znW61eTrGlqJbegklV7zKigPUfqADMj95LBXbl0SOoPFl3zWg47rHwBVvwREnualRK7DLK6Kq/T1kDv6CDfLlrrQ86vS4AuHfw5bVOxD0IiIC71jH5MfbONx+dv4aNNB5nUL4UXJw+jkwxF9GvhIcGM6JHIiB6JgDmhH6hoYGNhFZuLqtlUWMWcnEIaWuyAWTK4Z0o0/brG0adzDD1ToumVEkNmUjSRYZ7/C66p1c6uklq2HTSrX+YWVLLrcC1am5UvR2UmckN2Ouf370zvzj42Y7nuCMy/B/JXwJDJcPmLEO5jr8HLnPGsDa21VkqdtJmvlJoGTAPIyOjAZACt4cP7oWw3XP0P6HtRh+osrGjgnndy2H24lkcv7sd9E3t574Uh4TZKKXokRdMjKfrYyoF2h2Z/eT1bi6vZVVLLrpJa1hdU8tGmg//13JTYcDISo+iWEElqfARd4yPoHGs2IUmOCSMhKozYiBDCQ4LaNAzQZndQ1dh6bCOSkpomDlU1crCqkX3lDewrq6OosvHYzlWx4SEMy0jgksGpZGd24uyMTpacZFwib5kZxdJcA1f+DYbfGrBDEl3JN7pcSneb/rXDW2D0/XDh0xDS9n7B1fnlTH93PTa7g79POVuGI4o2aWyxk19Wx97Seg6U13OgooEDFQ3OnZ+ajvXNf19IkCIqLJiwkCBCg4MICVZobdomdoemyWanocV+0ufHhIeQmRxFVnIMWcnRDOgay6C0eLonRnrnePH2sLXAf34H3/wfpAwwqyR2GWh1VV7P3V0ui4CpwLPOzws7+HPaJqUv3P0FfPFrs1zm/lVw3RvQuf9pn/pBTiG/mr+FHklRvDF1JFkySUi0UWRYMIPS4hmUFv+D72mtqahvobSumYq6FsrrW6hqaKGu2U5dcyv1zXZandsC2hwapUChCA4yO1ZFhAUTGRp8bHvBTlFhx1r9fjvcsiwP5t8NBzdA9p3w4z8E5KxPd2rLKJfZwHlAMnAY+DXwITAHyAAKMMMWK053MJdcFN31GSx8AFrq4ce/h5F3n/BPNa01/7csj5e+2M05fZJ5+eazifPXN4oQ3kxrWP8OfP642VXoyr/BwCutrsqn+PfEotrDpl997zLoc5H5DxL73XVZm93BUx9u5b11hVx7djeeu+4svxieJoTPqS+Dj34GOz+GrHPhmlchLs3qqnxOWwPdN1MutgvcPBcufg72fQmvjIHtiwAzTO3+d9fz3rpCHpzUmxduGCphLoQVdn1u3pt7lphNKG79UMLczXx3bdKgIBhzn1njYf40mHMrtiE38lDFZJbubeI3Vwzk9vFZVlcpROBpqoElT5puli5D4LaFMrbcQ3w30I9K6Qd3f0Hzsj8S8s1L/EYv4eZznmGihLkQnpe/AhY+CDXFMOHncN6v2jUiTZwZ3w90oM6muC3vAhytnfh34ttMXHcf2L8xF00jfjhCQQjhYs21sPTXkPMmJPWBO5dA95FWVxVwfL5zuaHFxp1vr2NTUTX33ng9sQ99A+Mfhg0z4eUxsHux1SUK4d/ylsErYyHnLRjzANy3UsLcIj4d6I0tdu781zpyCir4y0+GccmQVLM624VPm3HrEfEwa7LpY68vt7pcIfxLQwV8+ADMvBZCI+HOxXDxM+ZrYQmfDfQWm4P7ZuayZl8FL04exhVDv3f1vNsIuPdLOPcx2DoPXh4Jm94HDw7TFMIvae18T42CTbNNX/m9KyFjtNWVBTyfDHSHQ/PIB5v4cncpf7xmCFcP73biB4aEw6QnzH+2xJ6wYJppTVTke7ZgIfxF1QGY9ROzFEd8OkwJts3vAAAL8UlEQVRbAT/6jaxb7iV8LtC11vz24+0s2nSQRy/ux42j2rDgV5eB5s/BS/4MhWtNf99XfwZbs/sLFsIf2Fth1V/g5dGwfyVc9Azc9QWknmV1ZeI4PhfoLy/P41/f7OeuCVncf26vtj8xKBhGT4MH10Hfi+E/v4dXJ0D+l+4rVgh/sP9r+OdEs5ZSz0nwwFoY+wAE+8UgOb/iU4G+cGMxzy/ZzdXD0njy0gEdW3kuLg0mzzAzTe0t8M6V8MEdUF3s+oKF8GW1JTDvHvjXpWZY4o2z4KZZssenF/OZU+zafRX8zwebGZWVyHPXn3Xma5n3uRCmr4Gv/2o2pN29GCY+YloeMhFCBDJbC6z9J6x4DuzNcM4jcM4vZWVEH+ATi3PtK6vnmle+JjEqjPnTx5EQ5eJdhir3w+dPwK5PoFMWXPQH6HepLLgvAs/uJbD4V1CeB70vhEueg6R2dG0Kt/Cbxbm0NiNagpTi7TtGuj7MATplmj8lb11glvd8bwq8cxWUbHH9sYTwRkd2wMzrYNYN5vaUD+CWuRLmPsYnWugF5fVUNrQyrHuCG6r6HnurmfG24o/QWAXDb4Hzn4LYru4/thCeVlcKK56B3H+Z/TwnPgqjpkGI7LXrTfx7PXRPaKyEr56HNf+E4FAY+yCMf0g2sRX+obkOvn3ZbAVnazIbxZz7GEQlWl2ZOAEJdFepyIdlv4Nt8yEqGSb+D2TfIRdOhW+ytcCGd8wFz/ojMOBKuOB/IbmP1ZWJU5BAd7XiXLOa3P6VEJ8B5z0OZ/1ExuIK3+Cww5a5pnulcj9kjDNrHnUfZXVlog385qKo1+g2AqZ+ZC6cRifBwulmN5Ytc82bRQhv5HDAtgXwj3Fm6YvwWDMH445PJcz9kAR6eygFvc6He5bD5H+bvvV5d5mlBLbOk2AX3sPhgO0LzWzoD243C2pd/zZM+8rMwZAhuX5JulzOhMMB2z+EL5+D0p2Q3NdMwBh8vXTFCGs47KZF/tXzULoDknrDuY/D4GvN8hfCJ0kfuic57LBjEXz5ZziyzYxrH/cQDLtZVqETnmFrhs3vm5nP5XmQ0t9cwB90jQS5H5BAt4LDAbs+NUsJFOdCdGcYcz9k3wmRHhhDLwJPUzXkzoDVr0DtIUgdChN+YUavBEmPqr+QQLeS1mY0zMoXIX85hMXA2bfB6PugUw+rqxP+oLoIVv/DhHlLLWSeA+f8wqyGKP3jfqetgS4dve6gFGRNNB+HNpsJHGtfgzWvQv/LYPT90GOcvPFE+2gNhWvM/6Pti8x9g66BcQ9C2nBraxNeQVronlJdDOteN1OsGyuhyxAYdTcMuQHCoq2uTniz1kYzimrt63Boo9kr9+zbzBT9hDZs8CJ8nnS5eKuWBtgyB9a8Zi6ghsfDsCkw4nbo3N/q6oQ3KdtjGgAbZkJTlbnQOeoeGHqTNAICjAS6tzv65/Pa1814YUcrdB8NZ0+FQVfLGzZQtTSYEVO5M+DANxAUAv0vN0HeY7x00wUoCXRfUl8GG2fB+hlmyFlYjAn1YbdAxhh5E/s7raFonWmJb1sAzTVmXf4RU2HoFIjtYnWFwmIeCXSl1MXAX4Fg4A2t9bOnerwE+mloDQe+hQ3vmjd2a70Z0z5kMpw1WRZQ8jfle2HLB2b8eEU+hEbBwKtMF1yPCTLsUBzj9kBXSgUDu4ELgSJgHXCT1nr7yZ4jgd4OzXWw4yPzZt/3JWiHGWM86FozskGGP/qm6iJzst46Hw6uBxRknWNO2oOuluWZxQl5ItDHAr/RWl/kvP0rAK31H0/2nI4G+nNrn2Nnxc4O1ekX7C1QX2q6ZpprzX3hMWY536gkCI20tj5xarYm82/XUP7Df7/oFFmK2SL9E/vz2KjHrC6jTTwxDr0bUHjc7SJg9AkKmQZMA8jIkCFWHRIcBnHdzMexcCgzy6BW7jeb90Ymms0JwmMB6XO3XHMtNFRAYwW01Jv7wmPMX1ZRyXISFm7h9olFWuvXgNfAtNA78jN85SzqcVWFsPMTs9zAnq/BYTPB3vsCs8Fvr/MhJsXqKgNDfbmZFbxnCeQtMydcFWwmkA29xIxUkW4y4WZnEujFQPfjbqc77xOektAdxtxnPhqrIO8L2LPUfN7ygXlMlyHQ6zzIOg8yRksfras015lhp/u+hL3LoWSzuf/4E2qfC2VLN+FRZ9KHHoK5KHoBJsjXAVO01ttO9hy5KOohDoeZUbj3P5C/wgSPvcW0GNOGmVZj9zFmSGR0stXV+ob6cvN7LFwNBd+aC5oOGwSFmo0iek6CXpPMFHxZ3VC4mKeGLV4K/AUzbPEtrfUfTvV4CXSLtNRD4Voo+Br2rzIrQdpbzPcSe0K3bLMjU7cR0GWQ6ZMPZK2NcHgbFK83v6viXCjfY74XFGpCO3OC+eg+2vSNC+FGMrFInFxrk2nBH1htJrQU55qlVwFUECT1gdSzoPNAE/CdB5oLsv42LlprqCmGIztMgB/ZbhZTK9sN2rn7VEwXc8JLzzZ/0aQNlwuawuNktUVxcqERJpwyxnx3X81B0yIt2WxCreDb7/rhwUx6SeptJjcl9oLELDObMSEDYrt6bzeDwwF1JeYCcuU+M4GnIt+sk1KeBy113z02Ng26DoEBV5gTWtpwcyKTmbrCR0igCyMuzXwMuPy7+xqrzNZ6R7abACzbbVr02xaYiU5HBYWY58ammXCPTTV989HJZoheZCezwUdEgumeCI3u+BZ9DrvpQmquNZs7NFWZ1SuPDuWsKzUBXltiTlI1B806OUepIIhLNyemjLGQ3Nv8BdJ5gKlTCB8mgS5OLjLhhy15AFsLVB0wLd7qQtP6rS4y3TaHt5lhey21p/7ZIRFmQk1wuPkcFGLC9mhL32E3Jw2HzWyvZm82n21Np/65YTHfnVS6j4L4dIjvbj4SnX9RyEQe4ack0EX7hYSZlm1y75M/prXJtJjry0wL+mhruqXe+VFnHmNvNicIh830W2uH6dsOCjajcoJCzPGOBn94rOn+CYv+rtUfmeCcdSkTdkRgk0AX7hEa4Wwdp1tdiRABw8+GLQghROCSQBdCCD8hgS6EEH5CAl0IIfyEBLoQQvgJCXQhhPATEuhCCOEnJNCFEMJPeHS1RaVUKVDgsQO6TjJQZnURHhaIrxkC83UH4msG33rdPbTWp91+zKOB7quUUjltWbrSnwTia4bAfN2B+JrBP1+3dLkIIYSfkEAXQgg/IYHeNq9ZXYAFAvE1Q2C+7kB8zeCHr1v60IUQwk9IC10IIfyEBHo7KaV+qZTSSqlkq2txN6XUn5VSO5VSm5VSC5RSCVbX5C5KqYuVUruUUnlKqcetrscTlFLdlVLLlVLblVLblFI/s7omT1FKBSulNiilPra6FleSQG8HpVR34MfAAatr8ZClwGCt9VnAbuBXFtfjFkqpYOBl4BJgIHCTUmqgtVV5hA34pdZ6IDAGeCBAXjfAz4AdVhfhahLo7fMS8CgQEBcetNZLtNY2583VgL9uPzQKyNNa52utW4D3gKssrsnttNaHtNbrnV/XYgKum7VVuZ9SKh24DHjD6lpcTQK9jZRSVwHFWutNVtdikTuBz6wuwk26AYXH3S4iAILteEqpTGA4sMbaSjziL5iGmcPqQlxN9hQ9jlLqC6DrCb71JPAEprvFr5zqNWutFzof8yTmz/N3PVmb8AylVAwwD3hYa11jdT3upJS6HDiitc5VSp1ndT2uJoF+HK31j050v1JqCJAFbFJKgel6WK+UGqW1LvFgiS53std8lFLqduBy4ALtv2Nci4Hux91Od97n95RSoZgwf1drPd/qejxgPHClUupSIAKIU0rN1FrfYnFdLiHj0DtAKbUfyNZa+8rCPh2ilLoYeBE4V2tdanU97qKUCsFc9L0AE+TrgCla622WFuZmyrROZgAVWuuHra7H05wt9Ee01pdbXYurSB+6OJW/A7HAUqXURqXUq1YX5A7OC78PAosxFwbn+HuYO40HbgXOd/77bnS2XIWPkha6EEL4CWmhCyGEn5BAF0IIPyGBLoQQfkICXQgh/IQEuhBC+AkJdCGE8BMS6EII4Sck0IUQwk/8f4N0igL2buJMAAAAAElFTkSuQmCC\n",
      "text/plain": [
       "<Figure size 432x288 with 1 Axes>"
      ]
     },
     "metadata": {
      "needs_background": "light"
     },
     "output_type": "display_data"
    }
   ],
>>>>>>> upstream/master
   "source": [
    "plt.plot(xs, g(xs))\n",
    "plt.plot(xs, g_prime(xs))\n",
    "plt.plot(np.arange(-5, 5), np.repeat(0, 10))"
   ]
  },
  {
   "cell_type": "code",
<<<<<<< HEAD
   "execution_count": null,
=======
   "execution_count": 221,
>>>>>>> upstream/master
   "metadata": {
    "slideshow": {
     "slide_type": "subslide"
    }
   },
<<<<<<< HEAD
   "outputs": [],
   "source": [
=======
   "outputs": [
    {
     "data": {
      "text/plain": [
       "<mpl_toolkits.mplot3d.art3d.Poly3DCollection at 0x7f759d8b8470>"
      ]
     },
     "execution_count": 221,
     "metadata": {},
     "output_type": "execute_result"
    },
    {
     "data": {
      "image/png": "iVBORw0KGgoAAAANSUhEUgAAAV0AAADnCAYAAAC9roUQAAAABHNCSVQICAgIfAhkiAAAAAlwSFlzAAALEgAACxIB0t1+/AAAADl0RVh0U29mdHdhcmUAbWF0cGxvdGxpYiB2ZXJzaW9uIDMuMC4yLCBodHRwOi8vbWF0cGxvdGxpYi5vcmcvOIA7rQAAIABJREFUeJzsnXl4W3eV/l/tu215X+N9dxwnjrNAgZbSspVCSymdspShUGBYCh2Wzq8M28zQdAbKWmiZKUMplKEwAy0ldA2F0jqxs9lO4jiWLMmSLEuWZO3rXX5/uFfRrqvFW3I/z5OnoOXeK+veV+ee7znv4dE0DQ4ODg6OjYG/2QfAwcHBcTnBiS4HBwfHBsKJLgcHB8cGwokuBwcHxwbCiS4HBwfHBiLM8TxX2sDBwcGRP7xMT3CRLgcHB8cGwokuBwcHxwbCiS4HBwfHBsKJLgcHB8cGwokuBwcHxwbCiS4HBwfHBsKJLgcHB8cGwokuBwcHxwbCiS4HBwfHBsKJLgcHB8cGwokuBwcHxwbCiS4HBwfHBsKJLgcHB8cGkstljIMjIzRNg6IohMNhEAQBoVAIPp8PgUAAPp8PPp8PHi+j2RIHx2UJL8dgSs7akSMFmqZBkiQIgkj438xz8ULLiDDzjxNjjsuEjCc4J7ocrEkWWx6Ph1AoBJ1OB4IgoFQqIZfLoVAoIBaLY+9h/nFizHEZwYkuR+HQNA2CIGAymVBWVgaFQgG/34+FhQUEAgHs2LEDAoEAwWAQfr8ffr8fkUgEAoEACoUCCoUiJsYSiSRhu8nnHyfGHJcInOhy5A8jtkzqYG5uDkqlEna7HQRBoL29HVVVVbHol89PXJclCAKBQCAmxH6/H+FwGHw+P0WMpVJpwn6To+NIJAIAKCsriwmxQCDgxJhjq5LxxOQW0jhSoCgqIU8LAC6XCzabDW63G319faioqIg9l0n4hEIhysrKUFZWlvA4SZIxMXa73VhaWkIoFAKfz4+JMCPIMpkMAODxeBAIBCAWi2NiTNN01siYE2SOrQgX6XLEoCgKBEGAJMnYY3a7HTqdDlKpFAKBAHV1daipqUl4H0mSiEajKZFuvpAkmZCi8Pv9CIVCABAT0+bm5pgYM6KaLk3B4/HA5/MhFAo5MebYDLj0Akd6GMGKRqOgKCr2mNVqhcFgQFlZGdrb2yGXy6HRaFBWVoba2tqEbZRKdDNBURRMJhM8Hk8snxwMBgEAMpksITKWy+WsxFggEMRK3Dgx5lgHuPQCRyJMjS1BEAliu7S0hMXFRVRVVWH37t0JuVYejxd77UbC5/Mhk8lAkiTa29tjj1MUhVAoFIuKV1ZWEAgEQNN0ghgrFArIZDIIBILY5yZJMpYnZohPUzDRMSfGHKWGE93LjGSx5fF4IEkSJpMJZrMZ9fX1GBsbi5V8xcPkUbcKTA5YLpcnpDxomkYwGIzljR0OBwKBACiKglQqTRBjuVyeIsbJ5W0kSYLH40GhUMQiY66igqNQONG9TEhXYxuNRmE0GrG8vIzm5mYcOHAAQmHmU4LP528p0c0Ej8eLiXF1dXXscZqmEQqFYmK8urqKQCAAkiQhkUhSxFgoFIKmadhsNoTDYTQ3N3O1xhxFw4nuJU46sY1EItDr9XA4HNixYwde85rXsMrHblZ6gaFYwefxeJDJZJDJZKiqqkrYbiQSgc/nQyAQwNLSEvx+P0iSjEX8QqEQfr8fcrkcIpEoIRceiUQ4MeZgDSe6lyhMja3P54PRaERPT0+se8zj8aCtrQ09PT15LX5tZnphPQWLx+NBIpFAIpGkFWOj0YhgMIjl5WX4/X4QBAGRSJQQGSsUipgYA2s1ytFoNGE/nBhzAJzoXnIkNzTQNA23243p6WmEQiG0t7djYGCgoAudz+enjXQvVdFgxFgul0MqlaK5uTn2XCQSgd/vRyAQgM1mg9/vRzQahVAoTCvGDJnEmClv4xo/Ln040b1ESG5o4PF4cLvdmJ+fh9frRVdXF9RqdVEX8manFzaL5IU1ABCLxRCLxVCr1QmPR6PRWDWF3W6HwWBIaYlm/sUvViangOIbP2iahkQi4crbLhE40d3mpGtocDqd0Ol0EAqFaG9vh06nQ2VlZdH72mrVCxtFOtHNhEgkQkVFRULHHrAW4TJi7HQ6YTQaEQ6HIRAIErrwkv0pSJLE8ePHMTo6GnuMa/zY3nCiuw1J19AAACsrK9DpdFAoFOjv74dSqUyowy2Wza5e2Mx9FytmQqEQ5eXlKC8vT3icJMmYGLtcLpjN5pSWaKamOL5mmvExTj5GrvFj68OJ7jYiU0PD8vIyDAYDKioqsGvXrphfAZA5D1sIm5le2EzRyCfSzReBQJDTn4IkSWg0GgSDwVg5XHLjB3MXwjV+bH040d0GpGtooCgKZrMZJpMJNTU1GB0dTbgtZShlSuByTi9sNAKBACqVCiqVCkajETt37gSwFuEyYuz1emG1WtO2RDNizNydJDd+MP9NV03BVVSsL5zobmHS1diSJAmj0YilpSU0NDRg3759CavjyZTy4rlcRRfYOhUafD4fSqUSSqUy4XGKohLMgpiWaAAFdeFx5W3rBye6W5B0YksQBPR6PVZWVtDc3IyDBw9CIBBs6HFlS1VsxMW4WYK/numFUhHvURxPsj+F3W5HMBjM2RId3/gxNzcXq+nmxLh4ONHdQjA1tg6HAz6fD83NzQiHw9Dr9VhdXUVrayu6urrWzc0rF5dqc0QuNlN0i/17Z/OniBdjp9OZ4E8Rnzf2+/0J7eFc40dxcKK7BUhuaCAIAm63Gy6XC36/H21tbejr69v0EzhT9UIgEIDT6YRKpYrlES8lNrtiYz2+9/iW6GR/inA4HBNjs9mMQCCAycnJWKNIfHTM+FMAuRs/ODFegxPdTSRdQ4PX64VOp4Pf78fOnTtRVVW1ZU7Q5OoFZk6a3+9HRUVFzM0LuLioo1QqE1bYtyubGelu5I8Yj8eDVCqFVCqNtUR7vV6MjY3FuvD8fj8sFkusskIkEiUMJU1uic7W+BFf2na5VFRworsJJDc08Hg8rK6uYmFhATweD42NjXC5XAkRyFaAuWB8Ph8WFhYQDAbR0dGBqqoqRKPR2MUSv6jj9XqxvLycUO7ECDEzG43tRXY55nSZapXNJt6fIr7Rhsn9MmJstVpT/CnixZgZtwQgIeCI38+l3vjBie4GkamhweFwYGFhAVKpFL29vVCpVPD5fHA4HCXff7EnbTAYhNPpRDAYRGdnJyorK9PmeXk8HoIEUFtbmzBlgil38vl8KbPR4m9ZlUolxGJxwvFerjldiqK2dLqGx+OxaoleWVmBXq9P8KdIFmOG5MaPaDQKt9uNurq6S6LxgxPddSZdQwMAWK1W6PV6qFQqDA0NJaw6l7KhIX57hVY7eL1eaDQahMNhyGQy7Nu3L+vrnz2pwX8/dxK//OJ7IIgTjEzlTvFdWaurqzCZTLEWWeaiZCo6Ljc2W3SLibQztURHo9EEg/nFxcUUfwpGkCUSSWxxuaamJmfjBxPUJDebbCU40V0n0jU00DQNi8WCxcVFVFZWpozDYRAIBCUVmEJF1+12Q6vVgqIodHZ2QiKRYG5uLuf7Hjw8iRm9Fd/7/TjuuvG1OV+fqSsr3q/A4XDA4/FgYmIiFinFpymy1SoXy2ZXL2xmJFfMj3UmRCJR2pZogiASDOaZH1/mLtFkMsXEmElLxdcaA8AzzzyDqakpfPOb3yzpMZcSTnRLTKaGBrPZDLPZjNraWuzduzftOByG9RJdtrhcLmi1WgBAZ2dnLFIJhUI586ovnzNgRm8FsCa+B/pa8JqBHQUdd7xfgUwmw8rKCnp6erLmEOOFmFldL5bLOb1AkuSG1YMLhcK0P74rKyuw2+0Qi8UpaSmmHE6hUCAQCGB1dTVFzLcanOiWiExiu7i4iOXlZTQ2NmL//v2sRGC90gu5WF1dhVarBZ/PR1dXV8rJy8Z74cE/Tsb+N0XT+Mf/+hOe+toHUFUmL+zg4/bNkOm2lZn+kLy6njyKR6FQbHhjSaFsBdHd7JwyRVGQy+Wor69PeJwkyYQF2/vuuw9Hjx4FRVGYnp7GwMAAPvWpT+Utwm1tbVCpVLH88fHjx+F0OvHe974Xer0ebW1tePzxx1Ny2GzhRLdImOkCNpsN1dXVsdljer0edrsdLS0tOHDgQF4XeandvHKJrtPphFarhVAoRE9PT8Z8WK7miKmFZYyfNyY8tuIO4K7//BN+dteN6x4tisViVFZWpqyux4ux2WyG3+9P6chiSp7SCcxmpxc2O6e72T9QBEGkDVYEAkHCGsFDDz2E++67DwMDA9i1axfOnTuX9Y4yG3/+858TqocOHTqEq6++GnfffTcOHTqEQ4cO4b777ito25zoFkh8QwNFUdBqtVAqlbFxOK2treju7t70KAFIL7o0TcfEViwWo6+vDyqVKud2sonuj/84kfbxl88t4sHDk/jE27MvwK0H2UbxxHdkMTXG8ePbmVTFZpZtbXbJ2EamFzJBEERaM6d0uN1uVFdXY3BwEIODgyU7hieeeAIvvvgiAOC2227DlVdeyYnuRpGuoYGZMDszM1PUOJz1Il50aZqGw+GAVquFTCbDwMBASjVBJrKlF+bNDrwwpc343u89MY79vc3Y09WY/wdA6VuQs3VkMbesPp8PNpsNq6urcLlcUKlUaS0V15OtkF7YbNElSZJ1bt7j8aSknfKFx+Ph2muvBY/Hw8c+9jHccccdsFqtaGhoAADU19fDarUWvH1OdFmSrqHB7XZjYWEh1pWzb9++LSW2DHw+HyRJYmVlBVqtFgqFIqVMjQ3ZhO8nTx9HNk0kSAqffegw/vC196NckVqxsVWIH9/OeBWcP38e9fX1EIlE8Pl8CQ0f8WbjTHQskUhKdh5shfTCZt+tZUovpMPj8RS9kPa3v/0NTU1NsNlsuOaaa9DX15fwfLG1wZzoZiFTQwPTPSYUCtHZ2Yny8nK88sorW1Jwmcjt7NmzUKvVGB4ehlxe2KJWJtE1rrjx1ETuUrIlpxdf+umzePDT1xe0/82CpumEGtJ44s3GMzV8MGmK5IYPNnDphfxE1+12F7zAxdDU1ARgrbnnhhtuwMTEBOrq6mCxWNDQ0ACLxZLQ9JMvnOimIVNDA9NVI5PJYuNw1vs4Cr3gaJqG1WqFTqcDRVFob29PmGZbCJmO5Sd/mgBBsqu2eP60Fo88fwq3vWl3UceykWT7HuLNxuOJb/hwOp0JDQDJZW3ZFns2O9LcKqLL9hjcbndR6QVmkVWlUsHv9+PZZ5/FV77yFVx//fV45JFHcPfdd+ORRx7BO9/5zoL3wYluHEzZF0mSCQ0NTPdYRUUFdu7cmTZSZPKdpbpAmFrdfOtMmfE9Op0OFRUV2L17N4xGY8GruLmwu/14/K8zeb3n0G9ewmh3I4Za61i/ZzNtJQvZb66GD5/Pl9Aay/gUJI9u32zR3ez9A/nldJlUX6FYrVbccMMNANa+q1tvvRVvectbMDY2hptvvhkPP/wwWltb8fjjjxe8D050kb7GlqIoLC0twWg0orq6OuM4HAZGJEt1guZbq0tRFJaXl6HX66FWq7Fnz55Yt1up637jefiZ4whFiNwvjCNKkLjzwcN44ivvg1K2Pj8GpaZUt/iZBlRGo9FYWVt8wwdFUbHx60xZWykaPthSrIiVArbphVL8KHd0dGBqairl8aqqKrzwwgtFbx+4zEU3k9gajUaYzWZW43AYhEJhSU9Qtl1pzI+DwWDI+OOwXqLrCYTx6AunCnqvwebCPz/6PL5zx9tKfFSlZyPqdEUiEdRqdUI+kqZp6PX62N0X420b3/DBpCqYqQ+lZiukFwB2P3qM6G7FtZV4LkvRTTYNZ8bhGAwG2Gw2NDU15T0ORyAQpNjUFUMu0WUGUy4uLqKmpgZjY2MZUwjrJbo/f/4kPIFw7hdm4A/H5nCwfwduft0Qq9dvp/RCKWBsDuVyOerqLqZiko3G46c+JA+nzNTwwZat0JHGllAoVPAi8UZyWYkuI7YWiwU0TaOurg7hcBg6nQ6rq6vYsWMHDh48WNBJtlF+CRRFwWQywWg0ora2NqvY5tpWMYQiUfz0meNFb+dfHvszdnc2oLuxKuvrNjt62UreC+mMxoGLDR9MmsJut6eYyidPCmaz/60Q6bLB5XJtaXcxhstCdJMbGkiShMfjgd1uh9frRXt7e9HjcJj0QqlIFnGSJGEymWAymVBXV8c67QGsiW7yGJVi+fVfZmD3BIreTjBC4DM//iN+98+3QiremqfjZrcBs913fMNH/Dy05EnBNpstNradqTFm0hTJpvKbnV7Ip2Su2MqFjWJrnuUlIl1Dg9frhdFoRDAYjLUKluKCWq/0AjNy3WQyoaGhgbVpTjyljnQJksJDh4+VbHvzSw5847E/45sfuqZk2ywl291lLNukYKbG2OPxwGKxJDR8KJVKBIPBhDWPjSbfGt2t7jAGXIKim66hgcfjweVyYWFhAQDQ0NAAn8+XEA0US6nTCwBgsVhw/vx5NDU14cCBAwWvWpdadJ8YPweT3VOy7QHA4y+dwWv6d+C6/b0ZX7OZAyI3i/XsSMtmKs9M+GDSb9FoNKFBJL7GeD3FOJ8aXZfLxUW6G0mmhgaHwwGdTgexWIzu7m6UlZXB6/XC5XKVdP+lSi8wC3pmsxnV1dV5L+ilo5SiS5AUnp6cLcm2krnn589jZ3sdWmtTL5zLeVzPRu87vuHDYrFg586dEAqFMZNxZpwU0/DBmMrHd+CVqoonnxpdLr2wQaRraAAAm80GvV4PpVKJwcHBhFsr5gQqJcyokEKJRqMwGAywWq1obm5GW1sbxGJxSfJppRJdgiDwuwktnju5iI76KizYvEVvMx5/KIJP/vAJPPaFd0OlVGz64hnDZovuVulIy2QynjwLTafTJQymjM8Z53u3lq/vAie660i6GluaprG0tITFxUWo1WqMjIykHYezXqIbCoXyfl8kEomVqrW0tMSqJ4xGY8mi02JFlyAILC4uYmpuAU+eNoKkaPiDYZTJxfAEIrk3kAfnzU5887HncePuxlguUqlUQiAQrFuDRy4uZ9EFct9lZDOVZ8R4eXkZPp8PJElCLBantEJnCi7yzekyTmBbmW0nupnElllsYjMOZz1EN9/0QiQSgV6vx8rKClpbW1NK1QQCQcJE1GIoVHSZyRdLS0toamrCkzMriBBr21le9WKkqwlTentJjpGhuboM/3fSjLr6Bnzmut2xllnGXnFiYiJhLA/z3+1S1pQvmz0jrRjSTQlmTOWZ7zWTqTxTY5yv6HKR7jpAkiSi0WhR43DW4yRmW70QDoeh1+vhcDjQ2tqKrq6utJFMKfOw+W6LqZgwm81obGzEgQMHcOS0Bs+fmk943WmNGfv72zAxbynJcQJAfWUZzK4QfnT4OKpUMnzwjcMJt7SDg4MZJ0Ekm4/L5fKSfNeXe6RbSuJN5ZMnfMSbyjMNH+FwGCKRCNFoNPbdZqox5kR3nWBqTosZhwOUfiU8V/VCKBSKNWG0tbXlnCpRymoItqIb33gRX54WjETx1UeeSfuekxcW0d1Uh/klZ9HHWVOuwJRhJfb///Xxl6BWSvGOfT0JopdpLE+8+bjVak0pf2Iu2nxX3DnRXX8ymcrrdDoIhUJIpdKsDR82m40T3fXC7Xbj9OnTrIQrGxRNIxyJQiIuzSprpvRCKBTCwsICXC5XXk0YGym68S3F9fX1KXcMP/jdSzCupK/2iJIUfH4/lFIxfKHi8rvt9ZWY1F505Kdp4Es/ewEVCin2tOXuWEs2HwcSy59WV1dhNBpjK+7JKYqNNJJhy2aK7lYo0SNJEuXl5aisrMzY8GGz2XDPPfdgdnYWt956K4aGhvD6178eH/3oRwva3969e9HU1ISnnnoKOp0Ot9xyCxwOB0ZHR/Hoo48W7di39c6yHJSVleHgwYNFRx5CgQDhyFqaQiwq/s+QnF4IBoNYWFiAx+NBe3s7+vv78zrmjUgvxJvl1NbWpu1yW7A48NBT41m3v+TwYKSzCVOGwvO75XIJzhodKY9HSQqfeuhPeOjjb0b2CW7pyeR3G+/qFT85mMkrxqcotktHWqnZClF2ppKx+IaP2tpaPPHEE3jjG9+I559/HgaDAaurqwXt73vf+x76+/vh8azVoX/pS1/C5z73Odxyyy34+Mc/jocffhif+MQnivpM2+6+hc/nl+QkFAqFkIqFWFktTZE/E5kGAgGcOXMGU1NTqKmpwYEDB1BfX5/3Ma9npMtEtuPj4wgEAhgbG0N3d3fa2sov//QwIkTu4zitNWNvF3t/3GT6WmoRyGARGQgT+PR/PY9Fh6/g7SfDuHo1Nzejr68Po6Ojsb9DeXk5gsEgDAYDTpw4Ab/fj3PnzsFgMMButyMUCm1YFLiZwrfZLcBAfs0R0WgUZWVlGB4exhve8Ia892UymfDHP/4RH/nIRwCs/eAdOXIEN910E4C1gZS///3v895uMtsu0i0VTAVDU20lFkxWdDQXLhgAYkYj09PT6OzsLLq9eD1El6ZpWCwW6PV6VFVV5TTLeXL8LF46o2O9nymNGe111dBZ82s8kUlEOL+UPTJx+cP4xhMzGBkaQENlITFvbjLlFScmJtDa2gqfzwe32w2z2YxwOJwwBYL573p4z25WpLsVHMY20kv3s5/9LP793/8dXu9a/bnD4UBFRUVs/83NzTCbzUXvZ9uJbinNpJl0QF1VOQxLNrQ25j/3yOfzYWFhAcFgECKRCPv37y/JMZYyvcDj8RAOhzE+Po7KysqchuwA4AuG8Y1Hn81rPxGCRDgcglwiQiDMvlFkZ1sdJrW2nK+z+8L40Pf+gP/5wo1QKzduuCWPx0vbLksQRFrj8WSvW4VCseniVQhbwWEsn5IxoHB9eOqpp1BbW4vR0dHYqPX1YtuJLlCa0S3xoquQSeH0+GB1uFBXxW710+v1QqvVIhKJoLOzE5WVlRgfHy/Zj0IpIt34OWkkSWL//v1pm0XS8e3fvgjrav4dZ2a7G3u6m3FKt5L7xQBEQj50eXS2LSyv4iM/+AMevetdkEs2d6KBUChMaQpg6lB9Ph98Ph+cTif8fj8AJJS0KZXKFEevrcZWSC+wTa+EQqGcgUQ2Xn75ZTz55JM4fPgwQqEQPB4P7rzzTrhcrpjwm0ym2NDKYtiWolsKkhskWuqqcXJWC5VCBrk085fn8Xig1WpBEERMbNeDYkSXpunYuPXy8nLs3r0bJ0+eZC24swYrfvbMZEH7BoCT8ybs7d2BE3GVCJnY1d6AEywFmmFab8MnH/wTHvrk2yEWbq2miPg61HivW2a1nRnhbrFYEqYGM0Kca1DlRrIVRBdgF70W6zB277334t577wUAvPjii/jWt76FX/7yl3jPe96D3/72t7jllluKHkjJwIluHHv6O/H8sWm8af9wyuvdbje0Wi0oikJnZ2fGMc+lWm0uJJqnaRp2ux1arRYqlQojIyOQyWR5b+Oe/z7MerpvJs7oltBaWwmDzZ3xNXweD8vuYEHb/9s5I774sxdw/4evAZ+/daNFhkz2iszU4HSDKpVKJaLRKDwez6Z03W2F6gW2rFeN7n333YdbbrkFX/7yl7F7927cfvvtRW9zW4puqdML8Rwc7sWRiRm8cd9OAGt2cVqtFgDQ2dmZ9Ytl8rCluDjyLd53OBzQarVQKBQYHh4ueGzJb/86jck5Y0HvjScUIUAREcjEQgQzVCXs6qjHaUNqmRhb/jg5j0qFFF/5u9cXvI3NJtPUYCZFYbPZMnbdMd1Z65Wi2OxIN59r3OPxlMxL98orr8SVV14JYG1Q5cTEREm2y7AtRbcUCIXCmHt+PAqZBG2NtXhx4jSU/LVyla6uLlZfKJMS2KgTlaZpOJ1OaDQayGSyjOPh2XJ+0YpfPHsUfB5AlaAiatHmwmh3M05mSB+4g8X7Xzz64gzUKhk+fd1Y0dvaSjBdd2KxGP39/QDYdd3FpyiKFePNFt18Im2Xy7UtDMyBbSq6parTTWfF6HQ64bAsQqtbwmv3jqCvszWvbRIEsSE5OUZsJRIJhoaGUm5b88Xu9uHvDz0Ko20VBwY7cOxC8aUxAHBi3oTR3h04mZTfHWqtw1lzYQXsyXz/DxOoUslw6xvYDbjcLiRHemy67pJ9bovputvs9MKlaHYDbFPRLQXxbbtMxKjVaiGRSNDX14exsTE8+tSLaG1ugEzCTkTXY3pEMqurq9BoNBCJRBgYGEgpYyqEcJTA7ff9EkbbmggeO6fDUFczzuhzl3Gx4ZzegpbqChjjpk2QKO0t8dd/9VeolVK8dbSrpNvdTNiuDxTTdZfNQIaxYdws8hHd7TI1AtimoluqSDcSiWBlZQULCwuQyWQpInbzta/FI3/4M+5497Wst1lq0WUuPJfLBY1GA4FAgL6+vpQLLBc8Hi9j5PKPD/wfTlxYTNinadmB6jJ5aYZPhqPg0wQkIgHCURI9TdU4by7eICceiqbxjz99DmUyCV470FLSbW8WxUaaTNddsrUi4+bFLN7FD6mMj4wJgsh7IbaU5Gtg3tW1PX5wt6XoFgtN03C73bDb7RAIBBlvzyViEd78mt34xeG/4v1vy71Ysx5j2JnZbjweDz09PQWPmGYW+ZIv4u/85gh+/7eplNevegMYaCuH0xsoSX5Xb13FcFsdZkwuSNepvjZKUHjg6ZNw+MO4fmx7XIDZWA/fhUxdd8yQyviuO4/HA7FYDKfTue5dd+nIJ6fMpRe2KDRNw2azYWFhAUqlEnK5HDt37sz6ntaGGpzXmfDD/zmMT773rVkvglJOBPZ4PPD7/dBoNOjp6Sl6kSBdh9sfXpnB/Y8fyfiec3oLDg524GiJ8rvTeiv2dNThtMEOrMOKe3N1GU4srOD4wouYt6zirnfs3dLNB7nYyJxquiGVFy5cQFVVFQQCwaZ03V2Ko3qAbSq6+V5I8Z1Z5eXlsTE+4+PZ3bMY3vya3ZjRLOJL330U//bpWyHKcCKUItL1er3QaDQgSRIKhQI7d+5k3dSQjWTRPTVvxOd++L85y3KOndNhqLMZZwylye/SfDF6mySYy+G1UAj1ahXM7rVpGw89OwXtsgvfuu1VvG0JAAAgAElEQVTKTe9cK5TNXshicroqlSql6y4cDsdSFMldd/EpimK67i7F8evANhVdtsQbvKjVauzevbtgAfvs+67DXd/6b7z//30PD3/tH6CUp+a6ihkD5PP5oNFoEI1G0dXVBbVajdOnT6+L09iS3YXb7/sFQpHc/ggUTcNkdaBCLoaryHloI52NOK2zQiWToK22DHpb6ca415bLMbWYWPP7/LQBt9z/Bzz4sWvRWFn8guNGsxVEN93tPY/Hg1QqhVQqZdV1Fz+6PZ+uO2a4JRvcbnfGhqWtxrYU3Vy/nBRFwWKxwGAwsDZ4yYVQIMA/3f5ufP7+R/Cuz92Hx+79HGorE39ZC5lrxqQQwuEwurq6EtqKS216Q1EU/MEwPnToUdhc7G0SV70B9LbUwBOMFJzflYmFsKyuLcp5g2FIvH7UVyiw7PIXtsEkWqrLsbKYujh33uzETf/xBB746Juwu6M4J7mNZrPno+Xb6JOp644giIRpwcldd/Epivj9kSTJeiGPE91NIt6Uu7q6mpXY5nNiN1Sr8fGbrsU3fvIbvP0z38Sv7v0culrqY88LhcLYKJFcBAIBaLVaBAKBmNgmH0ep7R0JgsTnfvg7nNMv5/3+OeNKUfW7wx1NCbPU7J4AGqsEqFRK4PQVN4BTJRVlrfm1e4P4wPcP419vvQLv2tdd1L42kq0Q6ZZi/0KhEOXl5Sm3/0zX3cqqByd0K6gXR2Jdd0qlEh6PB1KplNU1Gg6HN7XSIh8uCdGNHzdTU1OT0yeWoZC23dftGcC7rtqHB3/7LK6/8178/F8/jb0DayvlbEQyEAhgYWEBfr8fnZ2dqKqqynhClVJ0eTwevvO/L+K54+cL3sbEOR16WupwwZJfPralpgIntalCv+Twor1ejQghgi/E3goymf7WOkwuZDfNiRAkvvjzv+DUvBF3XbcXSuXWnyC8FUR3Pf9GYrEYGg8P33jGhv983zAayqWxrjumnG15eRlGozFr191WGCuUD9tSdBmRih+kmGncTDaYHGy+J9Yn3vNmaE3L+PUzr+A9X/g2HrznY3jza0ayVi8w43u8Xi86OztRXV2d89e7VOkFh9uHL//8eVjdAUjFQoQyeCHkgqJp2JzuvPO75Uo5TM70dwC65VX0tdRAZydj493zQS4RYW4ps6lOMr8aX4DW4sLHX9sEiZAfi6qYfxKJJOF72cwLerNFdz3TG8Eoie8e0eFXk2a8Y2cdGsrX1lriu+6sVis6Ozshl8szdt3Nz8/jL3/5CwiCwMTEBAYHB/NuGAqFQnj961+PcDgMgiBw00034etf//q6zEcDtqnoAsDi4iKMRiPq6+vzFlsGRnTzzffy+Xzc85GbYHd58ez4FD78tQdw6DPvx7vesCclMmUGU7rdbnR2dmJgYID1iVyKSPeVGQ0+df8vsexcW7TaN9CO40WMTF/1BdHdWAV3IAI2crS7qwmnc1g3njeuYFdHPc6YVvPOGQ+11mJSl99stgm9E+4IjR/dcQ0qZYKUiRBM+yxTVrhZwrvZOV1gfaZWnDa68eU/zMHgDIIH4MOvSd/MEj8fLVPXXVdXF8rKynDq1Cn89Kc/xdmzZ3HbbbflNZRSIpHgyJEjMVe3K664Am9961tx//33l3w+GrCNRVcikaRMrc2XYqoNqspV+OiN18DqcGHqggFf+O7PYbDY8Pa9a6mGcDicMAU438GUwNqJVmikS1EU7v/1c/ju48+BilOyiXM67BvoxPH5wmtv55ccrPK7cokIJge7hbKphWWMdjfhpH4FYNkiLBLyobMXNjdtbmkV7/nWk3jgo2/CaGc96uouLrIx7bM+nw9LS0sIBoOYmJiAXC6HQqGASqWCQqFYdxPyzY50S02YoPDDF3X4+TFT7Mf1DT1V6KxJ7xvCpmSssrISBw4cQFNTEx566KGCjouZDAKsfffR6NrA2iNHjuCxxx4DsDYf7Wtf+9rlLboNDQ1F33oXI7oA8Lrd/Xjza3Zj2eGC1eHGD3/9NM5renHTihu1SnFeI9fTwefzC4p0lx1ufOr+X+KVM9q0z09d0KNBXQFLEZUDE+d0GOxowtnFzFHsUHsDJufZL9qdmDdjX18Lq9E9ALCrvR4n9IVbQzp9IXzwB4fxL7dcgRsP9MQej2+fJUkSwWAQe/bsQSAQgN/vh8fjwdLSUqwcKj49oVQqS5YH3QqRbqk4s+TBPU/OYcGemGa6PUOUC6x9fjY/OqXoRiNJEqOjo9BoNPjkJz8Zs3Et9Xw0YBuLbikoVnQB4K73vwNnNIt4bvw0oiSFF05egNnpxY6GWnzxthY0FDmcMp0TWjaOnJjFnd/7HzjcmSPAMEFCJOQVnd+1rKyiSiWDw5tqkbmjtgKnWEyOSGbivBH7+3ZgIsd7izFAjydKULj7F3/FvGUVX3jnvhRDdCa1wOPxEkZ+x94fjcaaBOJNZZJzxYVExZsZ6ZYqpRIlKfz4rwb89JVFkEmb3NNSjpHm4hsaStEYIRAIcPr0abhcLtxwww04f77wBedcbFvRLZXpTbGiG41G8dmbrsR5rR4LFidomsayww2nJ4A3feIbePsVe/CF296J3tbGvLctEAgQCoXYHQdB4t5HD+OhJ/7C6oLRW+wY6+/ACc1S3sfF4PD4MdTeCKc3mJLfVchlIByFmeUcO7+Ivb0tOLGQOeIdbq/DlLF0XW0PvzADVyCCz7xtDxrUibe72c41kUiUdk5apiaBeCHOZbW42aJb7DU2Z/Xh/z1xHhds6e+obn9taYyJSukwVlFRgauuugrj4+PrMh8NAC6dhFEBFCO60WgUGo0GExMTqKwox39+9dNoql1rbFj1+FFZpgCfx8NTL53AVXd8FZ/45k+gNeVXH8umeiFKkPjLyVm872s/wYO/fzGvCGVydgF7e5rzOqZkzuiWsL838WTc09WE88bCb/sB4NS8CcOt1Rmf94RKb6F5YdmHt933FL7/9HRs2kUh4sOswNfW1qKjowPDw8PYt28fdu3ahfr6tbru5eVlTE1NYWJiAtPT01hYWIDNZkMgEIh9h5spusWUixEUjQdfMuCWh09mFNyeWgVe31WV9jkgv0i72MaIlZUVuFwuAGtVRs899xz6+/tx1VVX4be//S0AlGw+GrCNI91SIBQK8+4gIwgCBoMBy8vLaGlpwcGDB8Hn89EM4Iu3vRN3f+8XCEaimNWZcXC4B+Mz86AoGr/78wSe/Mtx3Hj1fnz+A9ejtaEm574yVS+4fQG8MHkWzxydwZ9PnIM3EMJoX3ten4NhRmNAW10V9FZXQe8HgGNndRjoaMK5xRUopWIsFri4FQ9J0ZjVL6O/uRazSTaQQ621OJtHmRgbOurVsQaLHz17Bv97TIu73j6Ct+xsLFleNV2TAGO1yCzcMdMgBAIBaJqGTCaL1acWs2icL4WOndKu+HHPk3M4a8k+4TlTxQJDvmY3hbrvAYDFYsFtt90GkiRBURRuvvlmXHfddRgYGCj5fDRgG4vuRqcXCILA4uIiLBYLmpubY2Ibz3vffAWe+vMrOHLyAkiKxvj0Bezp68DJOR0AgKQo/Oa5cfzuyATe//bXo75KjYYaNZpq1GioVqOxRp1gmB4f6S4u2/HM0Rk8c3QGx85qUgZHnjivw3BnE2YW8yufCoajIIkoZBIRguHCGhQomobVvgq1Uoru5jpMFlGSFk+EIGFYtqOjTo0F60WRJenSLy6VKxWA8+IPsNUdxJceG8ejLWrcPFSOkZLvcY14q8X4aRAEQcQGoVqtVmi12pgBeXyKYr1mpOXbjUbRNH42bsQDf9Ejkpy8TaKpQoq3DNRmfU0+9fNutxs7duxgfazJDA8P49SpUymPr8d8NGAbi24pYCO6JElicXERZrMZzc3NOHDgQNaT4RPXXwGrO4TpeQMAYN5oQVOtGmbbxfwjQZL42ZN/xthQNybPLSS8X61SoKFajYaaClSXKSAX8XD0B7/DeUNuIZs1LKO7pQHzpvxGmhuWHRjrb8cJTeFiaXf7cXCwHad0+S+eZcMfisLp8qBJrYB51Y/uxkqctxQelaejuaoMMxnyw2eMqzhjXMWxZRqfv24kJd+7XgiFQojFYiiVypgYJxuQM+mI5DHuSqWyaM/bfNILsxYv/u0ZDaZM7AyMPnSgGYIcE5zja3Rz4XK5MDycOsF7q7JtRXe9I12SJGE0GmMJ9IMHD7I6CQUCAX7z7/+IA7f9E1Y9fnj9QdRVlkMsFCBCJKYKzmoMaK2vhmH5YnS66vVj1evHOZ1p7RgFfHQ0N7D6PFGChNfrQ5lcAk8gv7TJ5KwO+wa7cPyCKa/3MVSVKaBddmKwuRKn8qi1ZcOqLwSxUIhymRByqQRAaUxyGOqryrHkzZ6D/uMpA144Y8KHr+zHR944ALlk/S+d5JxuJgPy5DHuOp0u1vSTHBWzjV5ziS5J0TgyZ8cvJkzg83isBbdSIcINI7nP50vVSxfYxqJbCtKJLkVRMbFtaGjAgQMH8sqlCYVCSMVC/O+3voBrPv4NkBQFjXEZ+3f24NiZ+YTXBkIRgKYgk4gRDKdvqyVICr5AACqFFF5/7koGi92F3b1tOL2Qf9Q6PW9Aa101DNb8qgLEIgHKFFLobG7YXH7s7mrElKG0frlWlw899WWwuIofHxRPdZk8Y5SbTChK4kfPncH/Tqzle68fbVvXOtp8ZqQlj3FnPG+ZXDEzlocpfcsVFWdaxPOGCPzfaQt+NWmG2R2CQswHj8c+DfH+sbX261xcqkMpAU50Y6Ib7+NQX19fcLcb478w0NGCb33ug/jct/8bAA/HZi5gbLALk+cSGxYMlpW1x2d1Gbe5tLK6JqQadsXZp+b0ODjcg6OzhryOPRSJgoxGIJeIEMgjv9teW4655Ys511OaJQy2VGN2uXQRKY8HhCgeSCKCrrpyaKylWUjraKjG8TzbiJl87y//dgH/9K492N2We1G0EIqpXoj3vE2OihkPA7vdHrNZjJ8EwcxHi490F50B/GLCjCemlxGIXLxj66tX4cQiuyhXKRHglr3syq7yzeluF1tHYBuLbikiDEYgTSYTDAYD6urqCvZxiN8mU3Hwd299HSbOzuNXT78MADirNaK1oQYGS2LOdfKsZi0SPpu+gwxYE9JdXS2Y1rErO5s8q0FvazPmjPnlWBet+eV3h9vrML2Yemt+1mjHvv42HNeUJse7u7MRpwxr+/GFItjdWo9ThvzEMplymQTnzIXnh6cXHfi77z+Ht+1uxeevG0FjifO9bDuy8iGdhwFN0zGbRcZQxu12g6ZpTBrceEYfwXFz6qw8EZ8HnZ19g8p79jRAJWUnOfnkdD0ez7YS3cu2Tpfx3vX7/QgGg9i3bx+6urqKXoBIngj8nc9/ONYYEQiFAZpOO9L99PkFdDVnX9E9qzOjr5VdfpcgKay6XChX5D8pY3JWhzEW9bvDHY2YSSO4se2c12N3R/bPxAalTAyD42IZWjhK4qTGjLH2GoCV7U56+nbUIlBgR148h08Z8OlHXsZdj03ij6dNRdlUxkNR1Ia0AfN4PEgkElRVVaG1tRXdvf04H67Afad5+Je/uTBhSj+ctLdGCmeA3WcVC3j4wD72NeH5pBcCgcC28dIFtrHoFnoy0jSNpaUlHD16FD6fD3K5HN3d3SWbcJrO3vHwD+9BhWotCjJYVjDUmVqjGI4SCIXCUMkziyRBUnC63KhQylkdi9XpQWtNYe2Rpy/o0V5fmfH5tvoqaK2urJJH08C0xojBHZmbHNjQXluW1uh84oIJw81qyET515PKxEJcsGavJc0HgVCEp2fM+MKvj+O1//onfPSnr+B/jupg8xTeqrzRzRF2Xxg/fFGHa34wju+8bINuNbN9Jw+Azcf+B+sdO+tQo2Lv5sdWdJkmiu1kDLR9jjQN+QgvMy9tfHwcHo8Ho6Oj6O3tBZ/PL6l1X7qGBoVMihf/8xsof1UsJ89qcGAodYKByebMeYtqdbqxo5b9osHU/CIO9Leyfj1DOEogGgmlHeqolIoQIWn4Q7k9daPk2kJid2Nht39tdRU4l6XQfkpnRa1ShNqy/CKdnW31cBc5842htaYsoVkjSlJ4ed6GbzwxhasOPYP3PvAX/OTFC9Da8hP5jRDdYJTEaaMb9zwxi2t/cBQP/c0Apz939LqzqQw2PzvR5fOA67qk8Hq9rE2q8u2I207GQNs2p8sWZhLwwsIC1Gp1yggfRiRL1e2TqYusvroCh39wD978yX+BLxDCyVktulrqoEnKuc4ZbTg43IvxM5qM+5iaN6wtlJ3NvPgWz8QZDframnDemN9E30WrE73N1Zi3XrwIRQI+qsrkMDjYD5UMRqKwrDjRWlMOw0p+wyilUikoOnu0qLe5oZIK0VIhh9GVu1ROKOBj0Vm8WQ5DVbkSRk/63DBNAzOmVcyYVvHdZ86hvUaJN/Y34OqBBuzaoc4qFqXO6XpDBGaXvZi1eHFu2Yvzyz7o7QH01qswa82vi9AbYh/lvq1fjVo5D0ajMTY1OH4KhFKpjE2BYGAb6RYyhGCzuWRFl6Zp2Gw2LCwsoLy8HHv27Ek7CZipYCiV6Gar/e1sqcdv/+PzeNdd9yEUjsLnC0EhFadEjMfPadDb2oC5LA0RE2c0GOxowVldbsMakqJgd7qgkongDeaXb5wz2bF/qAuTc2v1uyM9OzBZQC2vJxCCWCTIaxjlaFcTTrJcLPOGCIQJH3Y2V2PGnL2yYaSjASdLVNJWVyHHmRz7i0e34sPDK/N4+K/zqFZJcFVfPd440ICxjmrIxYnnYDE5XYc/siauFu+a0C57YV4NpaSD2qvleQtuf50Ss9bc32GlXITWSik+9cZuNFVcvBNhpgZ7vV64XC6YTKYU8/hQKMTqsxfbArwZbGvRTTcfiaZprKysYGFhASqVCiMjI1mT7NlG7BSCQCBAJJL5tnWktx3/9eWP4UNf+xFsq270tjVgVp8orlGChMvjQ4VSBpcvfURGUhSW7U5UlSvgcOe+AFZcXnQ0VMIXiiLfbMrpOT3aG2pRpy7H0Tljfm+Ow+72o6laiEqlFE5f9ppjpVQMvSM/MYgQFKb1NuzracJxnT1tvpnHA4z20uVyd9SqsVKggNu9Yfxm0oCnZ5ZACSWIEBQUEiGUEiGUUiEQDaHuzAxUUhGU0rXHVa8+p4z/r0SIJXc4LoL1wuZllzopk4kAsHOyY2Bz+ow0l0Fr92OsTZ0guEDmqcHx5vGBQADnzp0DTdMpUXH8SKXtVqMLbHPRjYemadjtdmi1WiiVSgwPD0Muz73gJBKJSi66mYzHI5EIdDod5HQQ3/yHm3H3A7+G1mTDSHcrTs8n1tRaHS7s6mmDa35xTSnSYHd5MdTZAqfHz0pIFyzOgup3w1ECTZUqzJqLK9ECALPdjY6GKkQIMXxZcsIDbfWYLMCPFwAmLpgx3FYHrd2HQDjxu93VVo9pc34pjkyoFdKSGO/0N1dhcnFtO+5gFO64u5E5R+6/+d72apxYzP84GsslOLOU3w9QZ7Uc57NEuZVyERorJDhtcqNOJcFHXsveEyHePH55eRl79+5NsMlMHqk0PT0NnU4HiqIQCARYXe/xGI1GfPCDH4TVagWPx8Mdd9yBO++8E06nE+9973uh1+vR1taGxx9/vKQladt+IY2maTgcDkxMTMBisWB4eBhDQ0Osv4BSeOrm2h5BENBoNJicnIRSqcTBgwfxwXdeg3s//X5ECQJzi0tork2tFJi6oMdgW13K4/Gc0Rqxf4C9w9ixM/MYaqvP/cJXkYiE2D/QgZem5qGWCqCQFj+Yb8HiQKNaAkmGqoPW2gqczOKly4ZpvRXVciHqyxPPAxZrRKzpbqpCKFrc9BKpSID5lcK77FQSIWaXC3N1q6+Q5T2TLjkFEs9IkwpRiooJ+eeu7iiosoSBx+PFouK6ujp0dnZi165d2LdvH3bu3In+/n74/X7odDpcffXV2L17N2ZnZ1lvXygU4tvf/jbOnTuHo0eP4oEHHsC5c+dw6NAhXH311Zifn8fVV1+NQ4cOFfwZ0rGtRdflcmFychImkwlDQ0Oso9t4Si268ZEuSZLQ6/U4evQoxGIxDh48iKamptit0W3vuBJ3//0NCIYisLu9kKapFJg1LKO/PbsB+tGZeezsZFcDSVE0zFY7yuW5xbOppgItdVWYmNUDAOZNNrRWKiDMYVbChvOLNnTXl6U1PpHJpCBLUFFisLkRDAbR27B2+zmwowZaW2miXKmIj3MliHKHdlTDlWeePZ6+xoqEDjG2VClEeUe5TRXStO+plIsw1KjEabMntsC2u7kMbx/KHjAUg0gkwv79+/G6170ON9xwA8bHx3H8+HH09PTkfvOrNDQ0YM+ePQAAlUqF/v5+mM1mPPHEE7jtttsArM1G+/3vf1/SY9/WogsAAwMD2LVrV0p+iC3rIboEQcBoNOLo0aOgKAoHDx7Ejh070q5E33nrdfjYTdciFIqAIFIvHoqiYbOvoqoi81hpmqZhtNhQp1ZlfE08To8f9RVK8LMsVOzpaYXXH4bWnNg9d1ZnRmuFJOt72TK9sITh1irEZwl3dzVibql0vg0ufwjapRWMtleDJyhNLTYADO6oRaDIKFcg4LGqtsiERMiHpsAoub1GiWgOC8ZkalWSlHxucnQLrJWIfenNqSWR60F8TlcgEBRcyaDX63Hq1Cns378fVqsVDQ1rTUj19fWwWkvrnLetRVetVuc94z6ZUoouk+qw2+0IhULYt28fOjo6cp4IX//4e/GeNx1cE900JicOtw/16rKsQrfq9UOtkuW0zGM4b7BgX19qvk0kFODAUCdOzRvhDaYXBI3FidGO0kQxJy4YMda1ti2FVASjs7QOYsDaHLRgmICIR6OhovjOJbFQAMNqfotP6RjeUQ2bt3DRHWquKChKVkkEeackqhXiBGFNF90yvHO4HoMN7AKAdORTteFyuYrOt/p8Prz73e/Gd7/73ZRKCB6PV/Ia4G0tuqWgFKLLlKcxXW5KpTLvLrcf3P0RvGn/MAAaNE1DIhJCLLqYPzurNeLAYGfWbczqzBjrZ5/fPTozj51xqYs6dRk6m2pxjEX978S5Bezvzn/uWzqOzRow1lWHwbZ6OLzFi1kyQgEfPgKYMqzA7vZirL0KcnHhucbhtlo4/cU1VvAALHsK/6wCPg9md2HH0NdQlndKorVKHouMR5pTo1sGpUSAz1zVUdBxMWykrWM0GsW73/1uvO9978ONN94IAKirq4PFslZRZLFYEgaRloJtLbpbYTgls4hns9kwMjKC/v7+gjvcfvFvd2K0vxOgaYSjBCJRAm31lZCK18R7fOYChruyrwYfnbmAXV3sBv4xaYnaCiWGO5sRIUjMLbK/lTp6RoMDPaUZ1ucNBMEDjWK8FDKxp6cFxlfLzyIEhQmNBRIBjdG2qrxdf/l8HixpyrFoigQZZJ8jHWhWY9lb+Hm3s7kCVk/+UbJEwIdmJb+7CZVUgFmL92J0a0qNbhk+dkUrqpXFLbbmK7qFTgKmaRq33347+vv7cdddd8Uev/766/HII48AKO1sNIZtLbqloFDRdbvdmJychNFoxNDQEIaGhmIm0cW0FT/1/f+H3rZGMDVgesuaocyBoW7IJCIsWmyoq8xcDE7TNOYNJlSX5V5QFPD5aKxRY2BHLTSmlYw1wdkYn5nHviIj3vpKFSyrARybNWBXixrSIla8k6kuV2B2KbVbzOkL4bjWgrYqGXob2F+0u9pqYXEl/p2ocABRpxmk1w4qwu5vGKGLWdUHVoOFDeYcai6DK5jf+d5bq0JPnSJjdMvQVinD+/IwtclEPi3AxdTpvvzyy3j00Udx5MgRjIyMYGRkBIcPH8bdd9+N5557Dt3d3Xj++edx9913F7T9TGzrOt3NiHS9Xi80Gg0oikJvb2/Ju2F4PB6e//FX8frb/xm6JRvA4yEUieLozAWUK+UYaG+CLxiGw+1LmZPG4A9F0FxXBbc/jGhSzbBQwEd/WyNkUgk0xmWcXTDhLIBd3a2YNdkzbjMbk+e02NPbgZMFGKfLJSLIpFLYbGuVAKe1S2ivr0SAEBdlFsOwo74ap7N0tS28ut+Rthose8KwurPf8rvDF/8+NE2B9DlBxUW4hMcOUVVTVmPv3sYKXMgz2oynrVwEfQFtzAI+D+Y8F+4ayiQIkyRmzLmj+M9f0wmRoPg4Ll8D80JzuldccUXGAOmFF14oaJts4CJdlqIbCAQwPT2N2dlZtLW1YXR0dN3aD0UiIZ5/6KtrI92Zk4LHg9sXwCtTc1i0rOANI33Y29+B/rZG1FeWQSlL7F2fM1iwp3ctFSEU8DHc1YK+lhooZVLMaE2YOKuF03Pxwp+aN2C4rS5TH0ZWKIrGzLwegzvyM/Pm8YDelnoYbImlV7plJ4hIEN31hd02MvS11GQV3HhO61fg9Pgw1l4FWYZ879COaujta38zKhpG1LmUILhrTxAgfdmrL4Si4m6/RdLCKnV2NpXBynLhrlXFx2CjCs1qGSvBfW1nJd7QXZybHMNGie5mwYluDtENhUI4e/Yspqen0djYiLGxsQ35khUyKZ778VehVsWlCV5VRJfXjxcmphEJBTCrM2PZ4YYvEIaAB9RWqNDVXIdd3TtAUSSuHRuAQibBtMaI88YVuHyZS4yOzy6w8tFNR4QgMa83YUcl+zrpfX2tmNKnzyE7PAHol2zY017Yhczn8xBBfrfwTL5XJqSxp7USyfllgicETdMg/asgVpcAMn3lABX0gIqmj5jba1VZXdNy0VOnwnwBUTIPa23H2ZCJ+NizoxxNFVIYfDSc/gimTLlrkYV8Hr54TfZF3nzIR3SZhevtxLYW3VKkF+LHnMcTiUQwNzeHkydPoqqqCvv370d1dTWrffJ4PNYWdtmoLFfi51+9I9FeMW7/0xoT9sdVNBAkBduqBxrjMqYuGDBxRoMjkzNoq69ivetZ42gAACAASURBVM+jM/PY38duIS6ZcJSE0+1Dc2Xui2B3VxMm57Ob9UQIEifmFjHWUZ33gtdoTwv0K4WJm8MbwomFZXRUy9FRvfYj0tOoxpzJAWLVAtKfe9oE4bGDplPPgXKWXsiZEBfo+9xdI4PZk77aoU4lxuiOcggEfJw0emB2r4lztUKcc5w6APzdWBM6qks3NYNtTnc7eukC21x0geKFN/n96Vp26+vr89pPNv+FfGmqrcJ/3v0hCONzZTxeTHwnzsxjb5YysShB4vyCEf0sJ04AwPj0BexPU8PLBm8ghEDAj/qKzBdhQ4UcsyYH2E4Mnji/iJ3N5ZAI2b1erZRhbrn4zjOt1Q2t1YXeGinCwbXFMppgmRMloyni3KCW4wyLW/VMtFbJcbbQKJmfGjl2V8vQXS2BzRfFCaMHvvDFc7ZVxcMMi461GqUIn3hdW2HHlIF8Xf+2k5cucAmIbqlgWnaPHTuWtmU3H5JH9hQDn89HpUKM/7jjesiS24R5PNA0cPq8Dru6M4tkKBKF0WJDUxX7gvWjMxewt6ewiNfh9oNHRlCpTG1EUCtlwKuOWvkwtWBBhYhK8VJIR2dzXclG5tAUBd2SDVr9IvItZ6MCblDRiyLdWFVWVHtzur8nG7prFbGUhFTIw56WcjSrZZh3hDDviKR8Kj5oBKK5j3OkSYVD7xxgPfeMLWxFd6PGGZWabS+6xf7RKYpCJBLB+Pg4KIrCgQMHMrbssqUUdpGMReX8/DyCwSDefd21mHz0EBqqk8pjeABB0zijNaKnJXOXmDcQhNfnR1M1u8UpmqZx4pwGI52FlYMt2d0ok/CgijPIEQr4qKsqh5Wln24yy+4gggFfzEshHd1N1ThlWMn4fD7QRARU0INAoPAqCtJrB03TqFJKi4py68ulrBa00iERCVFXJsFoawVEQgFOmjwwuTJXaexsUGAlmFl0VSIa7WU89JbTaJYE85oIwQa2ouv1ehMGbG4Xtr3oFgozK218fBwAMDo6yqpllw3FphfcbjeOHz8Oi8WC7u5uqNVqiMViVKvLceyRe1MbJCgKJEXjgsmGyvLM+VS3P4RoJMLao4GkKJzRGNDVUNjCoW7JjsYKacxNbE/PDlwwOwvaFoPLH4LGaEFvbWrUx+fxAKEob7/gZGiaAhXygwr5UezGaCICKuBCR30FIgWU4zE0VyrzipJ5ABrKpNjbWg4eD1jxRXBi0Q1vOPt5WS4TQpNlwu9Ikwo0T4DGqjL8w5UdIEkSRqMRJ0+exOTkJM6ePYvFxUU4nc6svtLZYDsNwuVybTsvXWCb1+kC+Ue6TASp1WpRUVGBvXv34syZMyW9TSk00vX7/ZifnwdJkujr64NKpYLb7YbdfrHsSSwW4Zkf/TP+/ms/xHNHp0FS9Fp+lyIBvgBOjx9CoSCteQ6wNmOttaEGFUp51koGhkiUgGl5BV2N9dAs5e+ne96wjOGuZsiVqpwLZ2whKBrnTQ7s7mzAlNEduz3ubVRjzlpcLpcmoqDCxYttPKTfhZlFO4DCFsHU8uyOYBIBH01qKdQKMQAePCECS+4Qln0RVCjFWf1vk+mskuOkMbVioUohQp1KjFNGN5oqpLjvxiGUy0SorLxoScr42nq9XjgcDhgMBkSjUUgkEiiVSqhUKiiVSshksqzXG9vxWdvRwBy4BEQ3HxwOBzQaDRQKRcJEifXw1M0n0g2Hw9BqtfB4POju7kZV1cVqg3RRM4/Hw8++/ml85ce/wiNP/RXhSHRNeGkK4AnWGhx4vIzCYbCsoHtHA6IECX8o98JQIBzFisOBlpoKGFdyr9wnHCsAkARcqy4opaKS5VoB4JTWgqHWOuidIQgEfFgChUeSNE2DjgRBRws3oMkGubqEwYEhREgaoSgJf4SEPxxFmMgt7l115Tj+qkm5Wi5CQ7kUCrEAUYqGwx+FxR2Czrn2L57hJhWml9gb27RVynA6TYnY7mYVLlh9OLsUhljAx/03rQluMnw+PzbdgYGmaYTD4dhECKvVimAwCIFAkDANQqlUxqJbtukFt9tdcAvwZnJZiK7b7caFCxcgEokwODiYUte3np662SAIAjqdDisrK+jo6EB/f39KBJCppA0AvvGJv0NrfQ0O/ez38AZeveAoCmDy0VmEd37RgqHOFmiWHAhHc3/2VW8AIpEQdRUqWF3scotKmQSdTTWYerVTrbZcAalSAruvdMJ7xmBFS005WpvrMa7NPxKnaRp0NASaJACydOdAMn6/H9MX9BCWJdYdi4V8KMRCKCQCSEUCSIR8iAT8NS+HaBQKpQI8Ph+DjWWweMJYDUThCuWOXCUCHqwsR/bEjkXASzA1r1GKUK0Q42TcVIq739KNwUb2TUE8Hg9SqRRSqRTV1Rc/O0EQ8Pv98Hq9sFgs8Pl8oCgKcrkcwWAQq6urUKlUKQMr4+Ei3U0i220K25ZdoVCIaLR0QpAr0qUoCkajESaTCS0tLThw4EDGhbtcAn77DW9CS3017rr/Edhd3rVolwbAixNeIK34ntEasbuvHdPaJVAsbqdtTg9a6oSoVMnh9GZPTbTVV4Gg6ZjgAoDN7UeZnMRAcx3OmYrL7cZTW1mByQtmjHU0YHbZA184t3jSFAU6EgAVDqz9zQDwRLLY/14PCLcNfJkKfNHFadRRkoYrGM1o0bhXqcIJQ/5m6TubL0bHbBhuVF0cY0TTGKqTQesMwxZnqnP9cD1uHi2NwZFQKER5eXlCpErTNAKBAE6fPh0bWBmJRCASiWKpCaVSCblcDj6fX5TZzWZySS6k5duyW8oSLyBzTpemaVgsFoyPj4MgCOzfvz9npQSbqPnagyN4/NBdaKh69VefolJFNq62N55T53XobqgA23Ioo9WJcpkASlnmVtbR3lZYXX6YVlIvek8ghHNaI/Z2lsaPt7OpGrNmN6IEhYkLZgipKPZmcQ+jSQJkwA3SYwMV8iWILE2VcJZPOgQCEJ4V0BS7c61BJcZUARULNUoxzuRRzysR8GI2k3UqMdrVIswsBxLsH3vqlPjK23vzPpZ84PF4UCgUEIlE6OrqwsjICPbt24fBwUGo1WqEw2EYDAacOHECH/jAB/DYY4/h1KlTeOmll+B25/fD9OEPfxi1tbUYGhqKPeZ0OnHNNdegu7sb11xzDVZXS2emH8+2F934SLfQlt1SR7rphNJut+Po0aNwuVwYGxtDZ2cnq7xVtvRCPAOdLXj6h19Gc92r+WCKTJ9aSCO+5xet2N/flnMfDFqTDc2VSkhEiccvFPCxf6ADJ+ZNCEYy/z1JisKxMxqMtlcXNfqnXCGFP8pHKC49suoLYXLOhNYKCfpeLS2jaRpUNAzS51wr4crkBEayWzUvBJ5EDvD4oCNBRJ1LoFl8p3KpCES+Q8wANFZI85rdtrNRBZsnjNGWMrgDESw4E9MSSokA37lpqKTub5mg05j4i8ViVFVVobW1FYODgxgbG8OPfvQjDAwMQKVS4de//jVuuummvNz9PvShD+Hpp/9/e+ceH1V57vvfWnOfyZXcLyQhhFyFQEJEe7xiLXt7o9vWWnts3SqnH1tRLMpWxFZ0CygVt1i6Fd1s3dpKT09r1doWtVpsbSEk3AQkmdzv99vMZK5rrff8MXkXa5KZZG7JTML6fj58FAgz76xZ67ee9bzP83sOefzZbM9Go8x70QVCa9kFZmciMH09agHZ1dWF8vJylJSUQK323/AkEKvItOQE/P31HfjKiiK3Afp0j8oex4Zxt/+W5vm9ri9bulCYtUicVJEUb0DB4nRU1/k/afjYly1YkqSDIQhDcZZlkJyYgP4x72mOlr5RfNnSjUwdAWMdhjA+AsLNnOPkHFZAEcasG6sAqzEAPCdG38Rlh2uka1rhLUmPQfNI4IFAUaohoOg4NUaNAbMTy1INqG0bhc2LWD+zvhS5SaG1L/sLz/N+1cjHxsZCoVDgtttuw759+/Dxxx8HVIF01VVXeVReAJj12WiUeS+6Vqs1pJZdYHaqFxwOB06fPo2GhgYUFRWhvLw84KGZwaBRq/DOC/+Gf7l2DXQaFQxehl2K0OPEKgCFCkfPNqE41//H/tPGNpQvSUdJbjrAKlAXgAE6pa69D3qFgNzkwBzbqkry0TLgfWeeEAGCyw7BbkZ7Tx+4QJ9iOCf8bVGeDkajB1gliBdjHOK0wzXS7dWfQaNkMRhEJQbLAI4A5p6pWKAoVY+eMRuMfd6P5b9enoOvFgfmHhcK/paLAeHfSJvt2WiUeb+Rptfrcfnll0e8g4zidDrR3t6OoaEhrFixwmPHdi7Z+2/3YPmyHGx/5ddQsqzvx1SGAQQOUKjAsArUtfVBqWBn9NU16DQoycuEw+WEVqWCxRp8qVXvsAkGqx3Lc7Mm6lmnp6okDzWNUy8IIvAgnMOryAUC4V1gNZqgX0epVEBQ6kA457TSTZw2cCM9UCZmegQKyxcn4nhH4LncVYvjcbxj5jrllBg1chO1UDDAXxuGvP6MigW+u2YxNl0XPvcwf4gWW8fZmI1GmfeRLsMwIbsMhSO9IDXKiY+PR2JiYsQEl67nmuV52H7XOncubroUBcMAPCemMXwJrlqlwKrCXKwqyoWL41F7vgVnGjtx/HwLshI0SIkP3mlq3O7EF8ZWVM2wwVa0OA1ftLsrHwghIAIPweUE77BAcFhCFlyK4LAENT1Yq9OBY1R+pTLc72MFN9ojHvtkgwpnewIbGgm4h03ONBm4KFWP5ZkxGLY4MGhx4qSXJggAyI5l8cjaPGy+fpnfg07DxVyN6vHGbM9GoywI0Q2VUNILgiCgvb0d1dXVUKlUuPzyy5GRkRHWaohAIISgs7NTXM/dt38dfz3wNDKT42cQXoDF9NGt08XjpLENJ+vb4JxU29vY0QfeYcWyTP9tJCcjEIKjZxtRkZc0ZQIBIQQJBi26h0ywW8bAj4+AtwyCtwxBsI25KzbCjOCye6348ArDgFHrYHdyYAIsOxPs4+BGe0EIQXKMxq+GicksS4vBmJe5ZVolg4rsOOQkaFHfN44zXWbo1QrYnBwck0yHtEoGl+XF4VslOnwzTKVhgeJvCzDgLgkNp+jO9mw0yrwXXSB04Q1GdAkh6O3txdGjR+FwOLBmzRrk5uaCZdmwWjtK328mBgYGcPToUYyPj6OqqgrZ2dkQBAEpCXE48vozWFOa772cbAJBEIKrU2UYAAwGR81o6ehCxdL0wF9DQs35VqQalNAq3BMaBKcdxGnD8PAwxkaG3J1jvEvyOYjfZVgBIXAXGk2mgVGqAYUaEPigz0XBboHBOYK6wcDTNDmLdDjd6ZlWyIjToHJxHJQsgxMdY2gfmajYIAQ5iVr0ThpqWZSqx9JkLR6+vhArU1WzVsUxE4HkdAVBCHqdd9xxBy6//HLU19cjOzsbBw4cmPXZaJR5n9MNB4GK7tDQEBoaGhAXF4fKykpoNBqPvw+36NLX83Uyms1m1NfXQ6VSoby8HBqNBoIgiNZ3NAXzzp4t2LbvIN74w1/d4uulfIzwHKBQTjvjawqsEsyEOLkA1Na3Q6lg3b4QNKvJAJ6bU4zkt6xbrCbWwjBMwO3G4F0Aq0W4pwkThxWMJsbHlAgGjEoLInBBjTmazMjwEBQOAcrEjMDEm3OAJwAIQWGKDgqWRV3fOHq8zHurzIlHbduFY6tTsShJ08Pm5PDStyuQFqdFTad/FQSzgb/phVCGvwLAwYMHvf75bM5GoywI0WUYJqQvwd+yLJPJBKPRCKVSieXLl8Ng8J7DDHcC3letrt1uF60fCwsLERsb665JlYjtZHZsvAPLCxbjsX0H4eJ4AORC95p78e78rkLl/+fgXSDMhXZNhmEmBBcQRZBI/h+ef8UoWFG0Q4G47GDU4e8qIy4rGIXG83UVKncUTIKPbr3BW8cAhRLK2CQw7MxR3PKsWLQMWrEqy4DuUTuMA74dwkrSDDjRPurx+yGLDbFaJV65swJ69QU5iKTo+lNSSa/X+einuyBEd7axWq1obGyEw+FAYWHhnLceTo6cpZ4NBQUFSE5O9ohsZ7pgvv1PV6B4SRbuePwlmKx2QBDAKtgLffeSiga/4V2BCbUEwrsNewKKrn29lssBRhmcm5dPBAEGvRLjdvfmGKPWgfAcmDA6kYmvCwLBZoLTbobCkAiFIcHrcUmJUSM1VgONwn2DO9k5fbVDgoZB26AZAgH0SiAvUY1z3aO4c81iPPpPJWDneMPMFxzHiUZU02GxWOally4gi+60OJ1ONDU1YXR0VHT/isSdlWVZ8DwvbpK1t7dj8eLFWLNmDQCIghxImcvKoiX4/L+fxi0/2o3WnkEIvAAwgEKhBD8RVROBA+NlzItXCHF3wQXZWEA4J6DUhH58Re+J0F5mMhaLGYw2FizjNqMJ53nAsiyIWu8uMZN4ZbjHu5uQmZGBxRmpYFkW5gnbxoFxDpkJWtS2z1wipmSBRQYNmgatKEs3oHtkHA3947i3MhFXpVpx/HgtDAaD6G8Q6qN7KARi6zhb07hnmwUhuuG6AGgLIsdxaGtrQ29vL5YsWYLi4uLgIjgvLY3BwLIshoaGcObMGSQlJaGqqgoKhUJMOQRbU5gUH4vPDzyN//3Ez/DZ8S8BMOA5DrEGHcw2OyAQEEbwPwIVeBCG8eux2BuE58ISpRLOEdY0A6PSAmBAnHYQrSGsaWO1RgsnARje5fU7JDyHrs4OdPf2QxmX7O5uA7A6Jx61bf55AyzPjEVjvwVlaVqcaR9EVoIGP/1OOaryU8QhqjabewLEwMAAbDYbjh07Bp1OJwpxbGzslL2L2WCh2zoCC0R0w4FSqYTT6UR/fz/a29uRlZUVUtMFzcOGugtsMplEF35fm2ShwDAM3t7xIHb812/xn7/9M8AwMFvtUCkV4AUCIeD8LgfCsMGti/DQqTReW1EDfimnHYxKg6AVkmHBqDTuVl3Jzc29sWZwp19CgGVZ6PUGWOwOv44V4RxwDXeB1eiRl52Fkx3+bTSuzI6DedwG2/g4zo66sL4iBztuLXfXOE/k/wGI9ospKSkYHR1FZWUlHA4HzGYzxsbGRMcvtVqN2NhYvw3JA8Vf0Z2vUyOABSK6oX7phBBwHIeamhqkpaVhzZo1AU0j9QbNwwYrunSTzG63IzExERkZGVCr1WET28ls2/ANlBXk4MGfvg5eIBObbIBKpYDLxYEolP6/J+cCUQaX3x23WsGotGHIDpCJ9EiAx1+hAqNQgnAcwPNe10Ec41DqYsBzwTViMCotBAYYdzgDPkaCw4r2zk4IrNr92Vha+cG6n0hY1r0xyrBI1LH4srUHNocLSbE67L/vCizPntrBRW/iTqcTzc3NiImJgSAIUKnckyGkaTWO42A2m2E2m0VDcqVS6TEZwmAwBB2s+FunO1+9dIEFIrqhMDw8jIaGBnAch7KyMo+pDaFAy9ACMbcBvG+StbW1oaGhAQkJCYiPj0dcXBz0en3Yhffr11RhdUk+7tv1Gk7Wu41rXK6JDTyBA2EVfqYaiNsQPMhUAXE5AJUmdOHluYnR4zNHu2IKgZ8Q2xmOLWezgNXHg7h8D3ic+iYsGLUehHeCCebTMSz0hhjYHC4wxCV2303+dCqVCoxShWGHe0/025cvxfavl/v8TAzDYGhoCM3NzcjLy0N6erpHJCyNiFmWRVxcHBISEsSbP8/zsFgsMJvN6OjowPj4uGjTKI2K/RHThT6qB7iIRddsNsNoNIJlWVxyySVoa2sLa5lMoLW6giCgq6vL6yZZdnY20tPTxQijqakJVqsVSqUSsbGxiIuLC5sQZ6cl4YMXH8Onx87i0Z/9Et2DE4+xExtlhJ34/5mqDYjg3nAKKr9L3PndMLh9TVtG5iOF4C+Cdcxv4WVUWhAGgOA9dzvjv1froFSw7o43H/+eZRlodXrYXAIYAUiO0eDxa9ORpLKLplBxcXEeImiz2VBXVwe1Wo3KykoxSKDvIRVKqQBLhRiAaDDOTkTehBBxMkRvby8sFgt4noder/cQ4slBiSAIfl2HsuhGmEBOYpvNhsbGRrG2lX5xkZqTRgjB4OAgGhoakJycjEsvvdSjLpdGE9RTVBqJu1wumEwmmEwm9Pf3w2q1ii77oQgxIQTLl6ThpR/egj/UNuD/fnocVrsTIAQMz4upBkLIhAADgJeUB8+5N9aCKQUTI+vQo3kF4cAzEv8JhRKMQj1tCsHvZc4kvAwDRm0IKbplNXr3xOdpHMSUKjV4RgE7R8CyLP71qmV47Mbl4t/zPC/etDs7O2GxWOBwOMDzPNLT05Genj6j2NG/n06IpWKs0+mg1WpF5z9BEMQ8sXRwpVarFdMT9HVm+t5NJhPy8vJmOnpRCTNDeUjkakcCQBCEGU3Iab5qZGREfGyXfrHNzc3Q6XSitVuo1NfXIykpaVrTG5PJhPr6emg0GixbtkzM2QLBVyQ4nU6YzWZRjKkQUxGOjY2dVogtFguMRiPUajUKCgqg1WoxbnPg/ucO4NOac+AFAQzLgDCeOV4qwO7GMlZy4rjHogcrnuHJ7wKs1gDCuNMjhPcdLQb9+l6El0a3wdbzMmodABbMtJch494wnDhfspNi8d/3fgW5yTE+/4XZbMb58+eRmJiIlJQUMSI1m81TotG4uLiAU2T0HKa5YirGHquWnN9Op9MjPaHT6aBSqUQh9nbOPv7447j55pvxta99LaC1zSE+T7AFH+nyPI+2tjb09PQgLy8PRUVFXn9+LodT2u12GI1GsdmC1kaGY5PMW0QsFeK+vr4pQhwXFweFQoHm5mZYLJYpDSAGnQZvbP8h6lu78H92vIamzj4olQKUKjUcrgs1wrQXlhACg04Nq8Ptj6BXK2ANsiLBXb+rDlx4GQaxBgPME2sQnHbExiVg3B745pU/eES8DDORu3UFF92yCrDivLZpBHdi049hGKiVCnz/2mI8cH2xzx/neR5NTU0YGxtDaWmpOKBV+phO55TRqpm2tjY4nU5otVrxph0bGwutVjtNmoP1+C/FV3pCqVQiISEBCQkJGBoaQmVlJTiOE4V4cHAQNpsNDMMgNjYWf/nLX9Df3+9XE4U/HDp0CJs2bQLP89iwYcOseS5QFkSkSwiB0+lppScIArq7u9HW1obMzEzk5ORMm8jv7u6Gw+HAkiVLwrKmlpYWaDQaZGZmin/GcRyam5sxODgoNltIH6fmsvHC6XSK0TAVYp1Oh+TkZFGIfZUD/e4vx7B130FY7A4olGpJy+9UGEycRBM77dIAwO/Pq1CBnS43PGG4I/o7TPO67sh59o4za0gEAQnYaYzijm5nWCHDgFFeiG6LMxPxyr9ehowE3yb5g4ODaGxsRFZWFrKzswM61wghsNvt4o3bbDbDbreL5WP+PEH5gp7/tFpHo9F4XIP0uqDpCYvFgtdeew3vv/8+ALdg33zzzXjyyScDel8Kz/MoLCzExx9/jOzsbFRVVeHgwYMoLS0N6vUk+DwQC0J0AcDhcLsmEUIwMDCAxsZGJCcnY8mSJVCpZt5F7+/vx9jYGJYtWxaW9XR0dIAQgpycHAiCgM7OTnR0dCAnJ0cU4lBTCaFAc8lNTU1ITU1Fbm4ueJ4XhdhkMsFms0GtVnukJqgQE0Lwk/3/D//zwWfQ63Sw2Gcun2IUStGj1n3eTfJlkJyLtKlMq1HDyQsgrMqdG54srMFsSqk0YMJpsMew7ikRAgEI53YdU2kmJlD4iUd0O81bKVQThkTu6PZH/1yGe670fc7SUVZ0IrZWq/V/TTNAb9w0NWG1WqFQKDxSEzOVjxFC0NfXh5aWFixduhSpqanTbthRbrzxRrz//vuIj4/HwMAAsrKCs6I8cuQItm/fjg8//BAAsGvXLgDA1q1bg3o9CQs7vUAZGRmB0WiEwWBARUVFQCfYbKQX7HY7+vv70djYiJSUFJ+bZHONNG+7cuVK8TgpFAokJyd75KGlEXFPT4+HEG/8l6vxg3+5Fg88/yZONXZO8WedDOE5sAwDwtJ8sNSBzBP6R+Jr8i5ArfU05wkS4nK4UxZMiPaFSrW7+oFzeriQEc4JcE4wKg1YpRrCDOKrM8TAxREIM8y0Y1QaMAwLlmWwZmkqnr99NZLjvJ/jhBB0d3ejvb1dFLNwo1arp5wvLpdLFOG2tjZYLBYxLSD9pVAo4HA4cP78eahUKqxevVoMjnxt2AHu1NwLL7yAjo4OaDQaqNXqoAUXALq6urB48WLx99nZ2aiurg769fxhQYguIQSnT5+GIAgoKysTc1WBEO6JwA6HAx0dHVi0aBFWrVolbpLNVnODP1AvCW95W194u7AcDocY4ZhMJjxy61fQ3DuCl977O7qGpp96wHMuGPRKWF2Bt0gTpx2GmJig88Mer8U5AYU6qJI2jd4AASxcTodbXH29h8sB3uVuSWZYJQjvKb6sQgkoNXDM8HkYpQpglVgUo8M3qnKx8bpi6DS+L93x8XHU1dXBYDCgqqoq5EafQKANFdKhj9I63u7ubrFyguM4pKWlIT19Zv9llmVx6tQpbNq0CbfccgtaWlr8eoKNRhaE6DIMg+Li4pB6w/0t8ZoJm82GhoYGWCwWJCYmoqysLOJiKwgCOjo60N3dHZKXBEWj0SAlJQUpKRcGFlY4HPjaFVU4+OE/8Mahoxix2OHyMfZn3GqDRq0CxyinHWbh9d9aLDDodbDyYehZ450gUIH1x9SHVYDV6CHwvDg1w99jSJw2d7pErXPntXkOjEoHAmb6ygaGhVKtQUl2Eh74agmuLZ1enARBQGtrKwYGBlBcXBw13gQKhQLx8fGIj4+HzWbD+fPnERMTg8zMTFitVgwMDKCpqQkcx3lUTtANO4fDgd27d+Pw4cM4cOAAVqxYEba1ZWVloaOjQ/x9Z2dnSJGzPyyYnK7L5fKa+/EXp9OJ06dPo6qqKqh/TzfJhoaGUFBQAIVCgcbGRuTn5yM2NnZOow2Kt7ztXE0E+PDoaTz35gfo1KPZPQAAH/RJREFUHhx1D630ZuYCQK3VT7sR5xOGBaMOU36SVYL1YWPJqDRglBoInCMs22+MSguotO6NQUnFh5p1p4Q5wZ3bjtFr8bWVedi8rhRp8TPv0o+OjqK+vl78niPlh+sL6pDX1dWFwsLCKePP6c/YbDbxKaq6uhq7du2C0+lEYWEh7rvvPlxzzTVIS/N/YvVMcByHwsJCfPLJJ8jKykJVVRXefvttlJWVhfrSF0dONxSCzelO3iS79NJLAbi/zNTUVPFxCoC4uRAfHx9Sf7o/+MrbzhXrLivHusvKcexcE5587beob++Fw+H06GRjADhtVijUmsBztUSAMGFqE/LTg8BBAMAq1eJmHqs1gICZyM+GKLh0ow1w19wKLhDBM5XlmPi57OR43HhJCq7KVoMQFwY6muAYu1CqNfnm7XK5xGaf5cuXQ6/3XcEQKaxWqxjdUoc8bzAMA71eD71ej8TERLz99tvIyMjAU089BbvdjhMnTiApKSmsoqtUKrFv3z6sW7cOPM/jnnvuCYfgTsuCiXQ5jgs5PfCPf/wDX/nKV/z6WWmVREpKCvLy8qbdJKMdQXRTymKxiH3s9JfBYAhZQILJ284F9W3deOKV3+DouSYIAnHv0k8IMCEErFIdVNsvYdwjc8LhtqaLTYATagi8K+iSL4/XpFUMM/jvqtQaXF6cjYdvKkdZ5gVDGkEQMD4+Lp4zZrMZgiCIngaCIKC3txd5eXnIyAhwxM8cQAhBe3s7enp6UFxc7Hfb7vHjx/HQQw/htttuwyOPPBKRp8QwsPBLxuZSdMfGxlBfXw+9Xo+lS5cG3UlGHZvGxsbE7jHqp0CNbfy1zpuct01LS4u6i5DneVSf+ALP/uIQ6rqGYHW4oGQZqJQK92O1QgWeBOFbDAaMWuN/uzE17pmooFAqGHDcBWFkdHFgwAQ5zp0Bo9GBYRQg047yYZCTtgg3VOTj/utLoVP7JyyCIGBkZAQNDQ3geR4qlQqCIECv14tlfXFxcRHfZLJYLGLX25IlS/xKa9ntduzatQtHjhzB/v37Zz3inGVk0fWHmUTXZrPBaDTC5XKJnWThbm6Q+ilQIZbWysbFxXl0A0Uyb+sv0lrM7OxssTj/42Nn8V/vHUbt+RY46Eh3hgWjUIFhGejUKigmTF6o1SRl8rEmmGh8kKRsCKGTjxmoVQoolGo4OMHv7ykQ8WUUyonNMWHaVIROo0L5kgzce20pri0LbMOGECLeWGlzDf1z2kVGI2KXyzVFiANt5w0GQRDQ1tYmbub5O92hpqYGmzdvxu23347NmzfP1+hWysIXXZ7nQ66zPXLkCNasWTMl1+pyudDc3Izh4WHRt4GOz5mLigRaokV/2e120XR6bGwMOp0u7IXv4cJisaC+vh46nQ4FBQU+L/y/nqzH/t99imNfNsHmcLlbXJUqr9Er8dgwlZ6ijFv8lCp3tUGQEywmM534GgwxsPHMDFEtEG/Q4ZaqpXjon1ci3hB4lY3ZbEZdXR0SEhKQn58/44118qaUyWSC0+kUp0FQMQ7nOUM9HZKTk8V020zYbDbs3LkTNTU12L9/P0pKSsK2nggji64/1NTUoLy8XBQG+sje2dmJ3NxcZGZmenTIRKoEzOFwwGg0wmQyIT4+Hk6nEw6HAzqdTkxLxMbGzklk4wuXy4WmpiaYzWYUFRUFNM+q+mwj/vO3n+Lo2UaMu3gwCnVA04IJw4BVqt0bY2EkJjYOHGHh4jho9e6NNgfn++mKYRiU5aTggRtW4rqyxT5/bjp4nkdzczNGR0dRXFwc0jBG2m4rFWKHwwGtVuvhTKfRBLY5KQiCaCZVUlLid518dXU1HnnkEXznO9/Bpk2bFkJ0K2Xhi64/TmMzcfLkSRQVFUGn06G/v9/jkT0aOsmmy9tKIxv6y+VywWAweKQmZvvElnZC5ebmhrzBc7K+DT//zceoNXZgyOIIqJmBAGCVGrAqFaa5BmaGVbjTHowCarUSYJXgBAaE5oAncsMMy8CgVSMxVocri7Ow+aYKJAQR1VKGhobQ0NCAzMxMLF68eFbOOULIlGYXu90OjUbjIcS+DG7GxsZQV1eHtLQ05OTk+B3dPvPMMzhx4gReffVVFBUVhf1zRQGy6PrDmTNnsGjRInR1dUGv16OgoEDcqAAiJ7bB5m1pro9u1FHrPmpmTSPicOWAx8bGYDQaER8fj/z8/LAL/JmmDrz2/l/x+dkWWB0uuDgBHC/MeJIyChVYjQ4zdmIwdPwNHXkzIaY+XOkSY/XITY1HWU4KLivMxP8qyYJBE/oGltPphNFoBMdxKC4ujkjaaLIQ0/ZvqadCd3c3zGYzSkpKYDAY/HrdI0eOYMuWLfjud7+LBx98MOr2H8LIwhddb05jgWC1WlFbWwuVSiW2EkfKAUyK2WxGQ0ODh79tKHgrQyKETBHiQGqInU4nGhoaPKwq55JxuwNtfSPo6B9G18AY+oZNGDSNY9hiw5jFDrPVDovNDqeLB8co4eAEKJRKCIQBDwa84Has9fYdq5QsdBo10hMNKM5KwldKFmPtijwkxYbHVlAKIQQ9PT1oa2ubNb+EUKA+HP39/ejr64NCoYBOp/M4b3yVPVqtVjz99NP44osv8Oqrr6KwsDACn2BOkUXXF9JNMr1ej/T0dCQlJUVcbGm97fj4OJYtWzar9baCIEypIaYmJdIaYm/+qJ2dneju7kZ+fj5SUlKirkwNuPCYnpGRgcWLF4ufw+Z0YdhkxbDZhhGLDaNWJ0atDpjGHUiM1ePqS3KQtSjG64YUbVelxyfU/LnVakVdXZ244Rjpki9vcByHxsZGWK1WlJSUQKfTidU29NhIncbGx8fBcRwcDge2bt2Ku+++G/fff/9Cjm6lyKI7GW+bZO3t7ejt7UVycrLYKz7XJ0i01NtKmznGxsYwPj4OhUIhigwtfKeNIdF4IVGzeAAoLCwM22O6r/w5LdEKZCOTllj19/ejqKgoaud+DQ0NwWg0itak052THMfBZDLh8OHD+NnPfobGxkbk5ubisssuw/333z/f62/9ZeGLLnDBU3c6CCE+N8loDpQ2LNAOIGmzAh2+F27mQ72ty+XC4OAgWltb4XK5oFQqPWqI4+Pjp50oMFfQG1dPT49Y4jfbSM8dX0I8uWmBbkJFq18C4P7OaeqopKTErxsXIQSff/45Hn30UWzYsAE/+MEPYLPZcPr0aeTl5c26oQzP81i9ejWysrLwwQcfzOp7TcPFIbpOp3PKLCYpo6OjMBqNAW2SSR+9x8bGPNp3wzUOneZtNRoNli5dGpX1tnTsUX9/v0dhvtRvl264aDQaD6EJtAQpFOh3nJSUFPEIXNq0QM8hl8sFnU4Hp9MJQRACao+da2ibe15enjhcciYsFguefPJJGI1GvPrqq1i6dOkcrNSTF154AbW1tTCZTLLozja+RNdqtcJoNIqjOQwGQ0ibZPTxiQqxtGuMCrE/wjmXedtgoR4Tzc3NU3KivqCjXWjVBK0FlR6fcNcQSzfziouLo9L4BQD6+vrQ2NiIxMREKBQKsXuM+il4i4jnGjptghCCoqIivyxTCSH429/+hsceewzf//73cd9990Ukcu/s7MRdd92Fbdu24YUXXohK0V1Y1cgTY2QotEB/ZGREjM54ngfPu7uHgj0plErlFKNmWmIzNjaGzs7OKc0K0gsp3P62s8X4+DiMRiNUKhVWrVrlt18x7ZajfrvSovyRkRFx2OF0j97+QghBV1cXOjo6kJ+fj9TU1Kg8lna7HfX19VAoFKiqqvK46Ugj4sHBQTQ3N4tTeaU54rkQ4r6+PjQ3NyM/P99vNy+z2Yyf/OQnaG5uxrvvvou8vLzZXeQ0PPTQQ9i9ezfMZnPE1jATC0p0KYIgoL29HV1dXcjLy0NhYSEIIWLH2mxUJUw29pZuttALieM4KJVK2Gw2JCcno7KyMqJdY77gOA4tLS0YGRlBYWFhyI+/DMNAp9NBp9OJF7IvoZE2c8zkQ0xbY+Pj4+d8QoK/SH1kpWkZKQzDwGAwwGAwICMjQ/x3dDQ6NfmeTSF2OByoq6uDQqHwGJ0z02f77LPPsHXrVvzgBz/Ayy+/HNG89AcffIDU1FRUVlbi8OHDEVvHTCy49EJPTw+am5uRlpaG3NxccYooELnmBsAtEPX19eK4abrpAsBjo262fXangxCC3t5etLa2YvHixcjKyprT40WFRpojFgRBrCGOj48Xx9VLW4xDaY2dTajTlr9+CTMhPT40RzxZiAPtOpR+5wUFBR7TQKbDbDbjiSeeQHt7O1599VXk5uYG+7HCxtatW/HWW29BqVSKT1a33norfvGLX0RiORdHTvfLL7+E3W7H0qVLo6KTDJg5bztdaVag9o6hQG8KMTEx4vGLBujYbSrCw8PDcDgciIuLQ0ZGxqxWlAQLz/Pik0KofgkzMflGRbsOJ+eIvQmx3W7H+fPnodFosGzZMr+j28OHD+Pxxx/Hxo0bce+990bVsaccPnwYzz//vJzTnW0KCgrA83zEZ5IBF1IcPT09yM/P95m3VSgUSEhI8HiEl9o79vb2elQEUCEOZR6cFDp5YHx8PCqjRlopolAo0N/fj0WLFmHJkiViDr29vX3WDOGDYXh4GEajEZmZmVi9evWsr4FhGMTExIgzxwD3uUdTN7Q8Upq6iY2NhdlsRk9Pj8+UhzdMJhOeeOIJdHV14fe//z1ycnJm86MtWBZUpLtlyxbExMRg9erVqKysRGxs7JxfeNLdfmoCEo6yJfq4RCsC6EaUdKMu0MdKugEVSEnQXMPzPFpbWzE0NDRtfpkawksrSqTNHOEo7ZsOWj3hdDpRXFwMnS78bcKhQNu/h4aG0N7eDkII1Gr1lPZvb+cQIQSffvoptm3bhk2bNuHuu++Oyug2yrg40gv19fU4evQoqqurceLECTidTlxyySWorKxEVVUVysrKZvWx2Ww2w2g0QqvVoqCgIGzRqDekG1FUiGn+U2rv6O3ioLWs1NU/GjegAGBwcBCNjY3IzMxEdnZ2wBd6oIbwwSDNiUZz9YTUAJ3WBkt9OOgNi55DMTExaGhoQHFxMZ599ln09/fjlVdeweLFwVlUXoRcHKI7GbvdjlOnTuHo0aOoqanBuXPnoNfrUVlZidWrV2P16tVh6QSS5m0LCwsD8o4NJ9L8J23koB4KtFusq6tLnIDqrzPUXEPLqxiGCWv7LuDdED7Y1A31S9BqtX7nRCPB+Pg4zp8/L7q/TffkRYV4YGAAW7ZswRdffAG1Wo0rrrgC69atw5133jmHK5/XXJyiOxlCCIaHh1FTUyMKcVtbG7Kzs1FVVSWKcWJiot9zyaR522iMcniex+joKNrb2zE6OgqVSgWtVuuRloiG1l3gwvHs7e0NKNcYClI/WfqL1lhLI2JpaZ90nUVFRUhMTJzmHSIHXWdfXx+Ki4v9br4ZHR3F1q1bMTw8jFdeeQWpqan48ssvMTw8jGuvvXZW19zR0YHvfe976OvrA8Mw+P73v49NmzbN6nvOErLo+kIQBLS2tqK6uhrV1dWora0VPUKpCJeXl3tEW7OVt50NqMOW1M+Btu7StAQd/zObHWMzMTIyAqPR6DFZOVJMZwivVqsxPDyM1NRU5OfnR21uk47OSUpKwpIlS/xaJyEEH374IbZv345HHnkEd95555x/vp6eHvT09KCiogJmsxmVlZV49913UVpaOqfrCAOy6AaCy+XCmTNnRCH+4osvoFQqUVFRgfT0dPz5z3/Gjh07sGLFilnN24YCHaLpzyO6tGOMijEVGWlEPBs3FukGVFFRUdS277pcLtTX18NkMiEuLg42m02sCJDm0CN98xUEAS0tLRgaGkJJSYnf1SgjIyN47LHHYDKZ8PLLL4uVEJFm/fr12LhxI66//vpILyVQZNENBUII2tra8OCDD+LcuXNYvny56AYmzQ9Hw9hzuts/ODiIZcuWebQqB4K0/pM6rlGz83A4rkmrJ5YuXRq1XrzABeOXybaG3gzhqStdsIbwoWAymXD+/PmAXMsIIfjTn/6Ep556Co8++ii+853vRE303traiquuugpnz56N2D5JCMiiGyoDAwM4fPgwvvnNb4oeD93d3WI0fOzYMVHoaMlaRUXFrJYpSaGWlS0tLUHv9s+EN8c1algdiOOayWRCfX09EhISorp6wuFweGzo+fNUE6whfChIh1eWlpb6vUE6PDyMRx99FDabDT//+c/FFuRowGKx4Oqrr8a2bdtw6623Rno5wSCL7lzA8zzOnz+P6upq1NTU4MSJE+B5HitWrBCj4ZKSkrCLjMVigdFoFDuL5jIf68txbfJGHXDBgMhisaC4uHjOx/r4C43COzs7w+LHK+06pEJMb1Y0jx7szXl0dBR1dXUBDa8khOAPf/gD/v3f/x2PP/44vv3tb0fVU4bL5cJNN92EdevWYfPmzZFeTrDIohsJ6IbM8ePHcezYMVRXV4sGLbR2mJotBxP5cByHpqYmmEwmFBYWRo01pNRxjVYDMAwDh8OBjIwM5OXlRaXRD+C+gdXV1SEuLg5Lly6dtRyty+XyEOLx8XGoVCqPionp2r95nkdjYyMsFgtKSkr8zoUPDQ1hy5Yt4DgOP//5z/12EpsrCCG46667sGjRIrz44ouRXk4oyKIbLdAJEdK0BHVDo9FwRUUF4uPjfV5w0gGG/oxPiSS0RlSj0SAxMVHMgUbbJpS08624uDgiOUR/DeFppUd2drbfpkSEELz//vvYuXMntm3bhttvvz0qz5nPP/8cV155JZYvXy4GIjt37sQNN9wQ4ZUFjCy60YwgCGhsbBRF+Pjx47BarSgrKxOF+JJLLoFGo8G5c+dgtVoRFxeH/Pz8qC3Ip6Yvw8PDKCoqmhKFSzeh6EYdEBnHtZGREdTX1/tt0j6XSGuIR0dHYTKZwDAMMjIysGjRIsTHx8/41DA4OIiHH34YDMNg3759UTdleIEii+58w+l04tSpU6IQnzp1CmazGXq9Hg8//DCqqqqitk6U+r9mZWUhOzvb74hqrh3XpPO/otEvQcrg4CAaGhqQk5ODRYsWeUTEvgzhCSF499138eyzz+LHP/4xbrvttqiMbhcosujOZ+rr6/Gtb30LmzZtQmZmJmpqalBTU4Pm5mZkZWWhoqJC7KhLTk6O2IVls9nE6Qj+7vbPhNQ/YWxsTHzklm7UBfo+hBD09fWhpaUlohOX/YHWB/M8j+LiYq+fVerDQStDtm3bBo1GA7Vajaeeegpr166NOge5BY4suvMZQRBgs9mmlALRsT9Hjx7FsWPHUFNTg9HRURQVFYkbdeXl5bPux0vHiPf19aGwsDDo2mB/mdzIEYjjms1mQ11dXUAespGC2jIG0mJOCME777yD3bt3495770VCQgKOHz+OlJQU/OQnP5n1NR86dAibNm0Cz/PYsGEDHnvssVl/zyhFFt2LBY7jcO7cOdFb4tSpU2AYBitXrhQbOYqKisK2aTU8POzRZhyJdMdkxzVq5C1t5DAYDOjq6kJPT09U+yUA7tRSXV0dGIZBUVGR35UefX19ePjhh6HT6bB37945GT0vhQ5+/fjjj0U/k4MHD87HFt5wIIvuxQohBBaLBcePHxfrh+mI8srKSlRWVuLSSy8N2E/X4XCgoaEBHMehqKgo6vKhUse1wcFBDA8PQ6lUIjk5GQkJCRE1OvdFsKNzBEHAb3/7Wzz//PN4+umn8fWvfz0in+vIkSPYvn07PvzwQwDArl27ALjH6FyEXByTI2SmQruhrrnmGlxzzTUALlzcx44dw9GjR3HgwAH09vaioKBATEusWrUKMTExUy5e6aBF+tgbjbAsC4PBgN7eXnAch0svvRQ6nU5MSzQ3N8NqtUKpVEaF45rdbkddXR1UKpXfgyEBoLe3F5s3b0ZsbCwOHz48J85svujq6vLw283OzkZ1dXXE1hOtyKJ7EUJLjtavX4/169cDcD8aGo1GHD16FO+99x62b98Op9OJ5cuXi0JMHcvWrl2LqqqqiJu7TAc1QM/OzsayZctEIU1MTPRILUgd17q7u+fccY22k7e3t6OwsNBv0RQEAb/+9a/xH//xH3jmmWdwyy23RFXULuMbWXRlALhntZWUlKCkpAR33303AHf0dfLkSfzlL3/BXXfdBavVioKCArS0tIj1wzk5OVFVtkb9EgBg1apVM1Y2qNVqJCcni/lPqePayMgIWltbZ81xzWaz4fz589Dr9QGNkO/t7cWmTZuwaNEifPbZZ7O+cekvWVlZ6OjoEH/f2dmJrKysCK4oOpFzujOwZ88ePPLIIxgYGJjzjYloYdu2bSgtLcUdd9wxxQS+vb0dOTk5oslPZWWl3ybw4UQaMQaSD/X3tcPpuCZN0QSyqScIAn71q1/hpZdews6dO3HjjTdGVXRLJ5J88sknyMrKQlVVFd5++22UlZVFemmRQN5IC4aOjg5s2LABdXV1OH78+EUrutNB/VulJvAWiwWlpaVitcSKFSvCOnJnMuPj46irqxPHx8+Fa1mwjmu0LTpQb4eenh5s2rQJKSkpeOGFF6K2+uKPf/wjHnroIfA8j3vuuQfbtm2L9JIihSy6wfDNb34TP/7xj7F+/XrU1tbKousnTqfTwwT+zJkzUKlUWLVqlZgfLigoCDktITXs9tZqPNdM57hGx55Tbwd/1yoIAt5++23s27cPu3btwg033BBV0a2MT2TRDZT33nsPn376Kfbu3Yu8vDxZdEOAEAKTyYTa2lqxrbmpqQlpaWkeJvCBzJijpi90XFI05ZWlOBwO0eeYZVkoFArodDqP/LCvSoXu7m48+OCDyMjIwJ49e3yOn5eJSmTR9cZXv/pV9Pb2TvnzHTt2YOfOnfjoo48QHx8vi+4sQD1rq6urxfzw0NAQCgsLxfzwqlWrpjyiU78Eu92OkpKSqKsPlkLn7w0ODoqjc6Tz16j1pdRxrb+/H4WFhXj33Xfx8ssv47nnnsO6devk6Hb+IYtuIJw5cwbXXXed6FHa2dmJzMxMHDt2DOnp6RFe3cKF53l8+eWXYjR88uRJEEKwYsUKVFZWYmhoCENDQ3jwwQcDbuaYa0wmE+rq6pCSkjJjp57Uce3pp5/G3/72N1itVtx444244oorcOedd0btLD4Zn8iiGwpypBsZaHvvn/70Jzz55JMghECr1SI2NlaslKiqqvLbU3YuEAQBzc3NGBkZQUlJid/TMQRBwJtvvon9+/fjpz/9Ka644gqcPn0atbW1+OEPfzinNdFbtmzB73//e6jVaixduhSvv/66nNoIHFl0Q2GuRVc+6T158803kZ2djbVr14IQgoGBAQ8T+O7ubixZssTDBD4uLm7OhZiOzsnIyEBOTo7f79/R0YEHHngA+fn52L17d8SHMH700UdYu3YtlEolHn30UQDAc889F9E1zUNk0Z1PyCd9YFATeOq2dvz4cdjt9ikm8LPVWRbs6BxBEPDGG2/gtddew549e3DddddFTcRO+d3vfoff/OY3+OUvfxnppcw3ZNGdr8gnfXA4HA7RBL6mpgZnz56FVqtFRUWFKMRLliwJuepheHgYRqMxYMP29vZ2bNy4EYWFhdi9e3fUDum8+eabcfvtt+POO++M9FLmG7Lozlfkkz48EEIwOjoqDgitqalBS0sLsrKyRBGurKxEUlKSX8LJcRwaGhpgs9kCqqIQBAEHDhzA66+/jj179mDt2rURiW6nq9yhfhw7duxAbW0t3nnnnaiLwOcBsuhGG/JJH3kEQUB7e7uHCfzY2BiKi4unmMBLoaNzcnNzkZGR4fd309raio0bN6K0tBTPPvts1Ea3APDGG29g//79+OSTT/xOl8h4IIvufEM+6SODy+WaYgLPsixWrVqF4uJifPzxx/je976HdevW+d3azPM8Dhw4gDfeeAMvvvgirr766qi+iR46dAibN2/GZ599FlYPi4sMWXTnE5E46eUxK96hJvAvvfQS9u3bhxUrVqCrqwupqaliN11VVZXPOWstLS144IEHsHz5cuzcuXPKyKVopKCgAA6HQ7SZvOyyy/DKK69EeFXzDll05xNzfdLLY1amhxCCZ599Fhs2bEBKSgoIIejp6RFN4GtqatDf3y+awK9evRrl5eU4ePAg3nrrLezduxdXXnllVEe3MmFHFl0Z38hjVkKH53nU19eL9cOHDh3CpZdeijfeeENOD12cyON6ZHwjj1kJHYVCgdLSUpSWluLuu+8GIUSObGW8Ep3WTDIy85xIC+6ePXvAMAwGBwcjug6ZqciiKyOPWVlgdHR04KOPPkJOTk6klyLjBVl0ZVBVVYWGhga0tLTA6XTiV7/6FW655ZZIL0smSH70ox9h9+7dEY+2Zbwji64MlEol9u3bh3Xr1qGkpATf+ta35nSuVUdHB6699lqUlpairKwMe/funbP3Xmi89957yMrKQnl5eaSXIuMDuXpBJuL09PSgp6cHFRUVMJvNqKysxLvvviuXrPlANt+fF8glYzLzh/Xr12Pjxo24/vrrI72UeYVsvh9VyKIrMz9obW3FVVddhbNnz0bcV3a+I0e6EcWn6Mo5XZmowWKx4Bvf+AZefPFFWXBlFixypCsTFbhcLtx0001Yt24dNm/eHOnlyMiEipxekIleCCG46667sGjRIrz44ouRXo6MTDiQ0wsy0cvf//53vPXWW/j000+xcuVKrFy5En/84x8jshae57Fq1SrcdNNNEXl/mYWP7L0gE3GuuOIKzPDENWfs3bsXJSUlMJlMkV6KzAJlJtGVW1pkLhoYhskG8D8AdgDYDEAOd2XCjpxekJG5wIsA/g2AEOmFyCxcZNGVkQHAMMxNAPoJIccjvRaZhY0sujIybv4XgFsYhmkF8CsAaxmG+UVklySzEJmpZExG5qKDYZhrADxCCJFzujJhR450ZWRkZOYQOdKVkZGRmUP+P4huV4NeTYOBAAAAAElFTkSuQmCC\n",
      "text/plain": [
       "<Figure size 432x288 with 1 Axes>"
      ]
     },
     "metadata": {
      "needs_background": "light"
     },
     "output_type": "display_data"
    }
   ],
   "source": [
    "import mpl_toolkits.mplot3d\n",
>>>>>>> upstream/master
    "X, Y = np.meshgrid(np.arange(-5, 5), np.arange(-5, 5))\n",
    "plt.gca(projection='3d') # plt.gca: Get Current Axis\n",
    "plt.gca().plot_surface(X, Y, X ** 2 + Y ** 2)"
   ]
  },
  {
   "cell_type": "markdown",
   "metadata": {
    "slideshow": {
     "slide_type": "subslide"
    }
   },
   "source": [
    "## Estimating gradients\n",
    "\n",
    "* Goal: figure out how $f(x)$ changes when $x$ changes"
   ]
  },
  {
   "cell_type": "code",
<<<<<<< HEAD
   "execution_count": null,
=======
   "execution_count": 228,
>>>>>>> upstream/master
   "metadata": {
    "slideshow": {
     "slide_type": "fragment"
    }
   },
   "outputs": [],
   "source": [
    "def difference_quotient(f, x, delta):\n",
    "    return (f(x + delta) - f(x)) / delta"
   ]
  },
  {
   "cell_type": "code",
<<<<<<< HEAD
   "execution_count": null,
=======
   "execution_count": 229,
>>>>>>> upstream/master
   "metadata": {
    "slideshow": {
     "slide_type": "fragment"
    }
   },
<<<<<<< HEAD
   "outputs": [],
=======
   "outputs": [
    {
     "data": {
      "text/plain": [
       "[<matplotlib.lines.Line2D at 0x7f759d8d77b8>]"
      ]
     },
     "execution_count": 229,
     "metadata": {},
     "output_type": "execute_result"
    },
    {
     "data": {
      "image/png": "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\n",
      "text/plain": [
       "<Figure size 432x288 with 1 Axes>"
      ]
     },
     "metadata": {
      "needs_background": "light"
     },
     "output_type": "display_data"
    }
   ],
>>>>>>> upstream/master
   "source": [
    "plt.plot(xs, f(xs))\n",
    "plt.plot(xs, difference_quotient(f, xs, 0.001), 'x')"
   ]
  },
  {
   "cell_type": "code",
<<<<<<< HEAD
   "execution_count": null,
=======
   "execution_count": 230,
>>>>>>> upstream/master
   "metadata": {
    "slideshow": {
     "slide_type": "fragment"
    }
   },
<<<<<<< HEAD
   "outputs": [],
=======
   "outputs": [
    {
     "data": {
      "text/plain": [
       "1.5000000000000568"
      ]
     },
     "execution_count": 230,
     "metadata": {},
     "output_type": "execute_result"
    }
   ],
>>>>>>> upstream/master
   "source": [
    "difference_quotient(f, 0, 0.001)"
   ]
  },
  {
   "cell_type": "code",
<<<<<<< HEAD
   "execution_count": null,
=======
   "execution_count": 231,
>>>>>>> upstream/master
   "metadata": {
    "slideshow": {
     "slide_type": "subslide"
    }
   },
<<<<<<< HEAD
   "outputs": [],
=======
   "outputs": [
    {
     "data": {
      "image/png": "iVBORw0KGgoAAAANSUhEUgAAAXwAAAD8CAYAAAB0IB+mAAAABHNCSVQICAgIfAhkiAAAAAlwSFlzAAALEgAACxIB0t1+/AAAADl0RVh0U29mdHdhcmUAbWF0cGxvdGxpYiB2ZXJzaW9uIDMuMC4yLCBodHRwOi8vbWF0cGxvdGxpYi5vcmcvOIA7rQAAIABJREFUeJzt3Xd4VGXax/HvnR4CCZCE0AkllEgRDEixUBV7R3RXAV0RxV137a6uYlkFdxXbroiKYhdBERFZaYqFktAChJIQWoCQ0BISSH/eP2b0zWYDCZlyZnLuz3XlysyZMzk3J8NvTu55znPEGINSSqn6L8DqApRSSnmHBr5SStmEBr5SStmEBr5SStmEBr5SStmEBr5SStmEBr5SStmEBr5SStmEBr5SStlEkNUFVBYTE2Pi4+OtLkMppfzKmjVrDhljYmtaz6cCPz4+npSUFKvLUEopvyIiu2uznrZ0lFLKJjTwlVLKJjTwlVLKJjTwlVLKJjTwlVLKJmod+CIyQ0RyRGRTpWVNRWSRiKQ7vzdxLhcReVVEMkQkVUT6eKJ4pZRStXcmR/jvASOrLHsEWGKMSQCWOO8DXAIkOL/GA2+4VqZSSilX1TrwjTHLgSNVFl8FzHTenglcXWn5+8ZhJdBYRFq4Wuyp7D5cyFNfb6a0vMJTm1BKKb/nag8/zhhzwHk7G4hz3m4F7K20XpZz2f8QkfEikiIiKbm5uXUqIiOngHd/3sWcNVl1er5SStmB2z60NY6roZ/xFdGNMdONMUnGmKTY2BrPDK7W0K7NOLtNY15bmkFxWXmdfoZSStV3rgb+wV9bNc7vOc7l+4A2ldZr7VzmESLCfSM6s+/YSWYl7635CUopZUOuBv48YIzz9hjgq0rLb3WO1ukP5FVq/XjE+Qkx9I1vwuvLMigq1aN8pZSq6kyGZX4CrAC6iEiWiNwOTAZGiEg6MNx5H2ABkAlkAG8Bd7u16urr474RXTiYX8xHq/Z4enNKKeV3aj1bpjHmplM8NKyadQ0wsa5F1dWAjtEM7BjNG99ncFO/NjQI8anJQJVSylL17kzb+y/qzKGCEt5fUavZQpVSyjbqXeCf064pF3aO5c0fdlBQXGZ1OUop5TPqXeAD3DeiM0dPlPLuTzutLkUppXxGvQz8Xm0aM7xbHG/9mEneyVKry1FKKZ9QLwMfHEf5+UVlvPNjptWlKKWUT6i3gZ/YMpJLezRnxs+7OFpYYnU5SilluXob+AB/Ht6ZwpIy3lyuR/lKKVWvA79zXCOu7NWSmb/sIvd4sdXlKKWUpep14APcOyyBkvIK3vh+h9WlKKWUpep94HeIbci1vVvx4ardZOcVWV2OUkpZpt4HPsCfhiVQUWH417IMq0tRSinL2CLw2zRtwKi+bfg0eQ9ZR09YXY5SSlnCFoEPcM+QTgjC60v1KF8pZU+2CfyWjcO5+dy2fL4mi92HC60uRymlvM42gQ9w9+COBAUIryxJt7oUpZTyOlsFfrPIMG4d0I656/aRkVNgdTlKKeVVtgp8gAkXdiQsOFCP8pVStmO7wI9uGMrYgfHMT93PtuzjVpejlFJeY7vABxh/QQcahgQxddF2q0tRSimvsWXgN24Qwm3ntWfh5mw27cuzuhyllPIKWwY+wO3ntycqPFiP8pVStmHbwI8MC2b8BR1YsjWHdXuOWl2OUkp5nG0DH2DswHiaRoTwkh7lK6VswNaBHxEaxIQLO/Bj+iGSdx2xuhyllPIotwS+iPxFRDaLyCYR+UREwkSkvYisEpEMEflMRELcsS13u6V/PLGNQnnxu21Wl6KUsqnVO49QVFru8e24HPgi0gr4E5BkjOkOBAKjgSnAVGNMJ+AocLur2/KE8JBA7h7ckZWZR/h+W47V5SilbCY7r4gxM1bzzPw0j2/LXS2dICBcRIKABsABYCgw2/n4TOBqN23L7W4+ty3tohvw7DdbKCuvsLocpZSNvLBwK+XGMOHCjh7flsuBb4zZB/wT2IMj6POANcAxY0yZc7UsoFV1zxeR8SKSIiIpubm5rpZTJ6FBgTx2aTcycgr4aNUeS2pQStnP+r3H+GLdPv5wXnvaNG3g8e25o6XTBLgKaA+0BCKAkbV9vjFmujEmyRiTFBsb62o5dTYiMY6BHaOZung7x06UWFaHUsoejDE8/fVmYhuFcveQTl7ZpjtaOsOBncaYXGNMKfAFMAho7GzxALQG9rlhWx4jIvzt8kTyT5by8mKdWE0p5VnzNuxn7Z5jPHhxFxqGBtX8BDdwR+DvAfqLSAMREWAYkAYsA653rjMG+MoN2/Kobi0iGd2vLR+s3E1Gjk6sppTyjJMl5Uz+divdW0VyfZ/WXtuuO3r4q3B8OLsW2Oj8mdOBh4H7RCQDiAbecXVb3nD/iM40CA7k2W+2WF2KUqqemr48kwN5RTxx+VkEBIjXtuuWUTrGmCeNMV2NMd2NMbcYY4qNMZnGmH7GmE7GmBuMMcXu2JanRTcM5U/DEvh+Wy7LdJimUsrNDuSdZNoPO7isRwv6tW/q1W3b+kzbUxkzMJ746Ab8/ZstlOowTaWUG72wcBvlxvDIJV29vm0N/GqEBAXw2GWJjmGaK3dbXY5Sqp5Yt+coX67bxx3ne2cYZlUa+KcwvFszBnWKZuridB2mqZRymTGGp+enEdsolLsGe2cYZlUa+Kfw6zDN40U6TFMp5bp5G/azbs8xHvLiMMyqNPBPo2vzSG7SYZpKKRedKClj8rdb6dEqiuu8OAyzKg38Gtw3ojMNQgJ5Zr4O01RK1c1vwzCvSPTqMMyqNPBrEN0wlHuHJfDDdh2mqZQ6c/uPOYdh9mxB33jvDsOsSgO/Fm4dEE/7mAienZ+mwzSVUmfkhYVbqTDwqAXDMKvSwK+FkKAAHru0GztyC/lQh2kqpWpp7Z6jzF2/n/Hnd6B1E+8Pw6xKA7+WhnVrxnmdYnh5cTpHC3WYplLq9CoqDE9/nUazRqHcNdjzc93XhgZ+Lf33ME296LlS6vS+2rCP9XuP8dDIrkRYNAyzKg38M9CleSNuPrctH67aQ/pBHaaplKreiZIypny7jZ6to7i2d7XXfrKEBv4Zum9EF8cwzW+2YIyxuhyllA9684dMsvOLeOJya4dhVqWBf4aaRoRw77AElm/P5ftt1lySUSnlu/YfO8mby3dwec8WJFk8DLMqDfw6uHVAPB1iInjmGx2mqZT6b1MWbsUYLJkNsyYa+HXgmE2zG5m5hXywQodpKqUc1uw+ylfr9zP+At8YhlmVBn4dDe3ajPMTYnh58XYdpqmUcgzDnJ9GXGQoEy70jWGYVWng19GvwzQLisuYqsM0lbK9uev3sWHvMR662HeGYValge+CznGN+N257fho1R626zBNpWzrREkZUxZupVfrKK7xoWGYVWngu+gvIzoTERLIM/PTdJimUjY17fsdHMwvtnw2zJpo4LuoaUQI9w7vzI/ph1i4KdvqcpRSXrbzUCFvLs/kil4tOaedbw3DrEoD3w1uHdCOs1pG8sS8zeSdKLW6HKWUl1RUGB6Zk0pIUACPX9bN6nJqpIHvBsGBAUy5ridHCkv4+4I0q8tRSnnJp8l7WbXzCI9f1o24yDCry6mRWwJfRBqLyGwR2SoiW0RkgIg0FZFFIpLu/N7EHdvyVd1bRXHnBR2YlZLFT+mHrC5HKeVhB/JO8vyCLQzsGM2opDZWl1Mr7jrCfwVYaIzpCvQCtgCPAEuMMQnAEuf9eu1PwxLoEBPBI1+kcqKkzOpylFIeYozh8S83UVpRweRreyLiux/UVuZy4ItIFHAB8A6AMabEGHMMuAqY6VxtJnC1q9vydWHBgUy5vidZR0/yz//o2Hyl6quvUw+wZGsOD1zUhbbRvndG7am44wi/PZALvCsi60TkbRGJAOKMMQec62QDcW7Yls/rG9+UWwe0491fdrJ2z1Gry1FKudmRwhImzdtMrzaNGTeovdXlnBF3BH4Q0Ad4wxjTGyikSvvGOAaoVztIXUTGi0iKiKTk5taP2ScfGtmVFpFhPDw7leKycqvLUUq50dNfb+Z4USkvXNeTQB8ec18ddwR+FpBljFnlvD8bxxvAQRFpAeD8nlPdk40x040xScaYpNjYWDeUY72GoUH8/doepOcU8K9lO6wuRynlJku3HmTu+v1MHNKJLs0bWV3OGXM58I0x2cBeEeniXDQMSAPmAWOcy8YAX7m6LX8ypEszru3din8vy2DLgXyry1FKueh4USmPfbmJLnGNuHtwJ6vLqRN3jdL5I/CRiKQCZwPPAZOBESKSDgx33reVv12eSFR4MA/PSaVM581Xyq9NWbiVg/lFTLm+JyFB/nkKk1uqNsasd7ZlehpjrjbGHDXGHDbGDDPGJBhjhhtjjrhjW/6kSUQIk648i9SsPN79eZfV5Sil6mhV5mE+XLmHcYPac3abxlaXU2f++TblRy7v2YLh3eJ4cdE2dh0qtLocpdQZKiot55EvNtKmaTj3X9TZ6nJcooHvYSLCs1d3JzgggEe+SNUZNZXyMy8vTmfnoUImX9uTBiG+Oc99bWnge0HzqDD+elk3VmYe4dPkvVaXo5SqpY1Zebz1YyY3JrVhUKcYq8txmQa+l4zu24YBHaJ57pstZOcVWV2OUqoGpeUVPDQnleiIEP7qBzNh1oYGvpeICM9f24PSigoen7tRWztK+bjpyzPZciCfZ67uTlR4sNXluIUGvhfFx0Rw/4guLN6Sw/zUAzU/QSlliYycAl5ZnM5lPVpw8VnNrS7HbTTwvWzcoHh6tY5i0rzNHCkssbocpVQVFRWGh+ekEh4SyKQrz7K6HLfSwPeyoMAAplzfk7yTpTwzXy+WopSv+WDlbtbsPsoTlycS2yjU6nLcSgPfAl2bR3L3kE58uW4fy7ZWO8WQUsoCWUdPMGXhVi7oHMu1fVpZXY7baeBbZOKQjiQ0a8hjX27keJFeB1cpqxlj+OuXmwB47prufnNRkzOhgW+R0CDHxVIO5BfxwsJtVpejlO19sXYfy7fn8vDIrrRu4j8XNTkTGvgW6tO2CeMGtueDlbtZvdN2Uw0p5TNyjxfz9Pw0kto14Zb+7awux2M08C32wMWdad0knIfnpFJUqhdLUcrbjDFMmreZkyXlTL6uJwF+dlGTM6GBb7EGIUFMua4nOw8V8rSO2lHK6z5fk8U3Gw9w7/AEOjVraHU5HqWB7wMGdYphwoUd+XjVHuZt2G91OUrZxvaDx3niq00M7BjNhAs7Wl2Ox2ng+4j7L+rMOe2a8OicVHbqNMpKedyJkjLu/mgtDUODeXn02X53fdq60MD3EcGBAbx2U2+CgwK4+6O12s9XysP+NnczO3ILeGX02TRrFGZ1OV6hge9DWjYO56VRvdhyIJ9nv9F+vlKe8nnKXuaszeKPQxPqxbTHtaWB72OGdo3jzgs68OHKPcxP1X6+Uu6WfvA4T3y1mf4dmnLvsASry/EqDXwf9MDFXejTtjGPzNmol0VUyo1+7dtHhAby6ujetujbV6aB74OCAwN47eY+BAYIEz/Wfr5S7vLkV5vJyC1g6o1n0yzSHn37yjTwfVSrxuG8eEMvNu/P57kFW6wuRym/N2dNFp+vyeKeIZ04PyHW6nIsoYHvw4YnxnHH+e15f8VuFmzUC6YoVVcZOcd5fO4mzm1vv759ZRr4Pu6hkV05u01jHp6dyu7D2s9X6kydLCln4kfraBASyKs39SYo0L6x57Z/uYgEisg6EZnvvN9eRFaJSIaIfCYiIe7alp0EBwbw+s29EYGJH6+luEz7+UqdiUnzNrM95zhTbzybOBv27Stz51vdvUDlZvMUYKoxphNwFLjdjduyldZNGvDPG3qxaV8+zy/YanU5SvmNL9dl8VnKXu4e3JELOtuzb1+ZWwJfRFoDlwFvO+8LMBSY7VxlJnC1O7ZlVxed1Zzbz2vPe7/s4lvt5ytVo4ycAh77chP94pvyl+GdrS7HJ7jrCP9l4CGgwnk/GjhmjClz3s8C6t/1wrzs4ZFd6dWmMQ/NSWXP4RNWl6OUzyoqLeeej9cSFqx9+8pc3gsicjmQY4xZU8fnjxeRFBFJyc3NdbWcei0kKIDXb+qNAPd8ov18pU7lqa83szX7OC+N6kXzKHv37Stzx9veIOBKEdkFfIqjlfMK0FhEgpzrtAb2VfdkY8x0Y0ySMSYpNlZ7bDVp07QB/7ihF6lZeUz+Vvv5SlX11fp9fLJ6L3cN7sjgLs2sLsenuBz4xphHjTGtjTHxwGhgqTHmd8Ay4HrnamOAr1zdlnK4+KzmjBsUz7s/72Lhpmyry1HKZ+zILeCvX2wkqV0T7h+hffuqPNnYehi4T0QycPT03/Hgtmzn0Uu60bN1FA/O3sDeI9rPV6qotJyJH60lJCiA127Wvn113LpHjDHfG2Mud97ONMb0M8Z0MsbcYIwpdue27M7Rz+8DwD0fr6WkrKKGZyhVvz09P83Ztz+bFlHhVpfjk/Qt0I+1jW7AP67vyQbt5yubm7dhPx+v2sOdF3ZgSFft25+KBr6fG9m9BWMHxjPj553MXVft5+JK1Wub9+fx6JxUzmnXhAcu6mJ1OT5NA78eePTSrvTv0JQHZ2/gl4xDVpejlNdkHT3BuHeTiQwP5l839yFY+/anpXunHggNCuTNW5JoHxPBnR+sYWt2vtUlKeVxeSdKGftuMidLy3lvXD8db18LGvj1RFR4MO+N60eD0EDGzkjmQN5Jq0tSymOKSsu544MU9hw+wfRbkujSvJHVJfkFDfx6pGXjcN4b14+C4jLGzkgm72Sp1SUp5XYVFYb7P9/A6p1H+OeoXgzoGG11SX5DA7+e6dYikjdvOYfMQwXc+UGKTr+g6p3nFmzhm9QD/PXSrlzZq6XV5fgVDfx6aFCnGP5xfS9WZh7hwc9TqagwVpeklFu889NO3v5pJ2MHxnPH+R2sLsfvBNW8ivJHV/duxf68k7ywcBstGofx6CXdrC5JKZcs2HiAZ79JY+RZzfnb5Yk4ZmFXZ0IDvx6768KO7D92kjd/yKRlVDhjBsZbXZJSdbJ65xH+/Nl6zmnbhJdHn01ggIZ9XWjg12MiwlNXdudgfjGTvt5MXGQYI7s3t7ospc5IRs5x7ng/hdZNwnnr1iTCggOtLslvaQ+/ngsMEF4d3ZterRtz76frWLP7qNUlKVVrOflFjJmRTHBgADPH9aNJhF4a2xUa+DYQHhLIO2OSaBEVxh9mJpOZW2B1SUrVqKC4jHHvJXP0RAnvju1Lm6YNrC7J72ng20R0w1Bm3taPABHGvLua3OM6eanyXaXlFdz14Rq2Zh/n37/rQ4/WUVaXVC9o4NtIu+gIZozty6HjJdz2XjKFxWU1P0kpLzPG8OgXG/kx/RDPX9NDr1rlRhr4NtOrTWNev7k3m/fncc/Haykr13n0lW+Zumg7s9dk8efhCYzq28bqcuoVDXwbGtYtjmev7sGybbk8PncTxuiJWco3fLJ6D68uzeDGpDbcOyzB6nLqHR2WaVM3n9uWA3kneW1pBi0bh/Mn/c+lLLZ060Een7uJwV1iefaa7npilQdo4NvYfSM6s/9YES8t2k6LqDBuSNI/n5U1UrOOMfGjdSS2iNR57T1IA9/GRITJ1/Ug53gRj3yxkQYhQVzWs4XVZSmbSdufz7h3k4lpFMKMsX2JCNVY8hR9G7W54MAA3vj9OfRu05h7PlnLJ6v3WF2SspHkXUe4cfoKQoIcJ1bFNgq1uqR6TQNf0TA0iA9uP5fBnWN59IuN/Pv7DP0gV3ncsq053PLOKmIbhTL7roF0iG1odUn1nga+Ahxn406/NYmrzm7JCwu38fy3WzX0lcfMXbePO95PoVOzhnx+5wBaNQ63uiRb0GaZ+k1wYABTR51NVHgw05dncuxECc9d04Mg/QBNudHMX3bx5LzN9O/QlLduTaJRWLDVJdmGy4EvIm2A94E4wADTjTGviEhT4DMgHtgFjDLG6MxdPi4gQHjqyrNo0iCEV5akk3eylFdG99YZCpXLjDG8uiSDqYu3MyIxjtdu0teVt7nj0K0MuN8Ykwj0ByaKSCLwCLDEGJMALHHeV35ARPjLiM48eUUi/9l8kNveS6ZAp2FQLqioMDz1dRpTF2/n+nNa88bv+mjYW8DlwDfGHDDGrHXePg5sAVoBVwEznavNBK52dVvKu8YNas/UG3uxaucRbn5rJUcKS6wuSfmh0vIK7v98A+/9sovbz2vPC9f11DahRdy610UkHugNrALijDEHnA9l42j5KD9zTe/WTL/lHLZlH+eGab+w/9hJq0tSfqSotJwJH6zhy3X7ePDiLjx+WTcC9GpVlnFb4ItIQ2AO8GdjTH7lx4xjuEe1Qz5EZLyIpIhISm5urrvKUW40rFsc79/Wj5z8Yq5/4xd26Hz6qhbyTpZy6zurWboth2ev7s7EIZ10uoSqXngBli0DYNIk57JlyxzLPcAtgS8iwTjC/iNjzBfOxQdFpIXz8RZATnXPNcZMN8YkGWOSYmNj3VGO8oBzO0Tzyfj+lJRXcMO0FWzal2d1ScqH5R4v5qbpK1m39yivju7N7/u3s7ok39S3L4waBcuW8dRTOMJ+1CjHcg9wOfDF8Zb9DrDFGPNSpYfmAWOct8cAX7m6LWWt7q2i+HzCQMKDAxk9fSUrdhy2uiTlg/YeOcEN035h56FC3h7Tlyt6tbS6JN81ZAjMmuUIeXB8nzXLsdwD3HGEPwi4BRgqIuudX5cCk4ERIpIODHfeV36ufUwEc+4aSIuoMMa8u5rvNmdbXZLyIdsPHuf6ab9wpLCED/9wLhd21r/aT2fSJJChQ5BDjna2HMpFhg75//aOm7ljlM5PxhgxxvQ0xpzt/FpgjDlsjBlmjEkwxgw3xhxxR8HKes2jwph15wC6tYjkro/WMntNltUlKR+wbs9RRr25AmNg1oQBnNOuidUleZ6LPfhJk8AsXYaJcbwxmphYzNJlvhv4yp6aRITw8R/OpX+Hpjzw+Qbe/jHT6pKUhX5Mz+V3b68iMiyY2RMG0rV5pNUleYerPfhf1581y3H/1/aO803E3TTwVZ1FhAYxY2xfLunenGe/2cKDn2/Q6+TaTEWFYdoPOxj3bjJtmzZg9oQBtI1uYHVZ3uNqDz45+bf1n3yy0s9LTvZIueJLE2QlJSWZlJQUq8tQZ6i8wjB10Xb+9X0G8dERvDq6Nz1aR1ldlvKwg/lF3DdrPT9nHOaS7s2ZfF1PosL9bF6cF15wHI0PcfTNJ03CcXSdnAwPPVTj0ydNwnFkX8WTT+Kxtkx1RGSNMSappvX0CF+5LDBAeODiLnxyR3+KSsu59o2fefOHHVRU+M7BhHKvRWkHGfnyctbuPsbka3vw79/18b+wB5dbMt7uwbtKA1+5Tf8O0Xx77/kM6xrH899u5dYZq8nJL7K6LOVGRaXl/G3uJu54P4UWUeF8/cfzGN2vrf+eUOVqS8bLPXhXaeArt2rcIIQ3ft+H56/tQcruI4x85UcWpx20uizlBluz87ny9Z/4YOVu7ji/PV9OHEinZhZftMQNo2RcGhbp5R68q7SHrzwmI6eAP32yjrQD+dw6oB1/vbSbzpDoh4wxvL9iN39fsIXIsGBeHNXLd8bXVzrClqFDMEuX1fkoXQ7lOlozHjzxyVO0h68s16lZQ76cOJDbz2vP+yt2c9XrP7Mt+7jVZakzcLigmD/MTOHJeZsZ1DGahX8+33fCHmzXknGVBr7yqNCgQP52eSLvjevL4cJirnj9J95fsUsvn+gHfkzPZeQrP/Jj+iGevCKRGWP7EtPQzRcZ15aMV2lLR3lN7vFiHpy9ge+35TK8WzNeuL4XTSNCrC5LVVFSVsE/v9vG9OWZdGrWkNdu6k23Fh46kUpbMm6hLR3lc2IbhTJjTF+euDyR5dsPMfLl5fyUfsjqslQlmbkFXPvGz0xfnsnvzm3L1/ec57mwB23JeJkGvvKqgADhtvPaM3fiICLDg/n9O6t4fsEWSsoqrC7N1owxzErey2Wv/kTW0ZO8ecs5/P2aHoSHePZDdm3JeJe2dJRlTpaU88w3aXy8ag89WkXx9FVn0butDSbc8jF7j5zg+W+3sGBjNgM6RDP1xrNpHhVWuye7eKYqoC0ZN9CWjvJ54SGBPHdND6b9/hz2HzvJNf/+hdvfS9aLq3hJdl4Rj8/dyNAXv2fxlhwevLgLH/7h3NqHPfjd5GF2p0f4yicUFpfx3i+7ePOHHeQXlXFpj+b8ZXhnEuIaWV1avZN7vJg3vt/Bh6t2Y4zhxr5tmDikEy2iwuv2A105QnfHXwiq1kf4GvjKp+SdLOWdn3Yy46edFJaUcVWvltw7vDPtYyKsLs3vHS0s4c3lmcz8ZRcl5RVc27sVj23+msYXDvL7ycPsTgNf+bWq4XRdn1b8cWgCbZraaOpdN8kvKuXtH///TfTKXi25d1gCHWIb6rDIekIDX9UL1bUf7hmScGZ9Zpv6tU02fXkmeSdLuaR7c/4yojOdq7bJXAlsd7xhKJfph7aqXohtFMoTVyTyw4ODubFvGz5dvZcL/rGMp79OI/d4sdXlWa+aM1VLFi1m9V0Pc8ELy/jHf7aR1K4J8/94Hm/8/pz/CXsdFmkveoSv/MreIyd4dUk6c9ZmERoUyNhB8Yw/vwNN7HrGbpUj7IWvfUK/h+/i7isfJmj4UP4yojN9ahrqqi0Zv6ctHVWvZeYW8MqSdOZt2E9ESBC3ndeeUUmtad3Efj3+gm+/I+jmmwg/dphD4VG8fuffufiPN9G/Q3TNT9aWTL1Q28AP8kYxSrlbh9iGvDK6N3cP7sTLi7fz6pJ0Xl2STrcWkYxIjOOixDjOahnpvxfmqMHeIyf4Lu0gU6cEsXn+RcBhAGJO5sHLYKKg/6Ra/KDTtWQ08OsdPcJX9cKuQ4V8l5bNorSDrNl9lAoDLaPCGJ4Yx4jEOM5tH01IkA9+ZFXLcejGGDbuy2NR2kEWpR1kq3Oa6c5xDbmtdBfXT7mf4COHtCVjU9rSUbZ1uKCYJVtzWJR2kB/TcykqraBRWBCDuzRjRGIcg7vEEhnmI9dfPU1LpeT8C1mReZhFadksTsshO7+IAIGk+KZc5Hwja5e6WlsyyncCX0RGAq8AgcApuBUVAAAKIUlEQVTbxpjJp1pXA1+528mScn7KOMSitGyWbMnhcGEJwYFC/w7RjEiMY3i3OFo2ruMZpu5S6UPT8phYVjz3Lz6O6MQP23IpKC4jPDiQCzrHMCKxOUO7NvvvKaX1TFWFjwS+iAQC24ERQBaQDNxkjEmrbn0NfOVJ5RWGdXuO/tYWyTxUCED3VpEM6xpHp2YNaR4VRlyjMJpFhtbucox1DNzS8goOFRQzaRJMf/l/33BaDMnk1okFjEiMY1CnGL00pDotXwn8AcAkY8zFzvuPAhhjnq9ufQ185U07cgt+C/+1e45S9b9C4wbBv4V/88gw4iLDiIsMdX53fMUm/0zgTaN/a6lULFmKGXUje954l509+nEwv4iD+cVk5xeRk1/EweNFZOcVc7iw+LftDdidyutfTSbmZB6FkU3ZO+09Em68goCA+vmBs3I/Xxml0wrYW+l+FnCuh7epVK10jG1IxwsbMuHCjuQXlXLgWJEzoIt+C+pfb6cfLCC3oJjyiv9+VwgQuPjKh5l8xTXAMY5efg0Tr3qEFWsE1vz/yUfRESE0iwyjeWQo3VtG/faG0XVLMj3fepHC2bPgMmgwdw5dRo2C5tqDV+5n+bBMERkPjAdo27atxdUo23G2ZCKHDOGlacFMmtTI0ZJJ+d+WTHmF4XBB8W9vBNn5RXzwrwimfXgZ03gAgOiTefAp3DzhOPc9UkZcZCjNGoWdeoTQD5/C7M+J0mGRygu0paPsTScPU/WAr8ylkwwkiEh7EQkBRgPzPLxNpWpPr6mqbMSjgW+MKQPuAf4DbAFmGWM2e3KbSp0JnTxM2YmeeKX8m15TVSmfaeko5Vl6TVWlak0DX/k3V3vw2pJRNqKBr6xVzQU8WLbMsbwWXO7BP/TQb28Ovz1nyBCdlkDVSxr4yloutmQmTQKzdJmj9w6YmFjM0mV6AW2lqqGBr6ylwyKV8hoNfOUaq1sy2oNXqtZ0WKZyjZ6pqpTldFim8g5tySjlNzTw7U5bMkrZhrZ07E5bMkr5PW3pqNrRloxStqGBb3PaklHKPrSl48/cdQFrbcko5de0pWMHrk4cBtqSUcpGNPD9mav9d9CWjFI2ooFvJauHRIJOHqaUjWjgW0knDlNKeZEGvpV0SKRSyos08F1hdUtG++9KqTOgwzJdoWepKqV8gA7L9AZtySil/IgGvgu0JaOU8if2bum440xVbckopSymLZ3acPVMVW3JKKX8iEuBLyL/EJGtIpIqIl+KSONKjz0qIhkisk1ELna9VA9wtQevLRmllB9x9Qh/EdDdGNMT2A48CiAiicBo4CxgJPBvEQl0cVv/y+phkXqWqlLKj7gU+MaY74wxZc67K4HWzttXAZ8aY4qNMTuBDKCfK9uqlp6pqpRStebOHv5twLfO262AvZUey3Iucy8dFqmUUrVWY+CLyGIR2VTN11WV1nkMKAM+OtMCRGS8iKSISEpubu4ZPVeHRSqlVO25PCxTRMYCdwLDjDEnnMseBTDGPO+8/x9gkjFmxel+Vp2GZeqwSKWUzXllWKaIjAQeAq78Neyd5gGjRSRURNoDCcBqV7ZVLW3JKKVUrbnaw38daAQsEpH1IjINwBizGZgFpAELgYnGmHIXt/W/tCWjlFK1Zu8zbZVSqh7QM22VUkr9Fw18pZSyCQ18pZSyCQ18pZSyCQ18pZSyCZ8apSMiucDuOj49BjjkxnLczdfrA9+vUetzjdbnGl+ur50xJramlXwq8F0hIim1GZZkFV+vD3y/Rq3PNVqfa3y9vtrQlo5SStmEBr5SStlEfQr86VYXUANfrw98v0atzzVan2t8vb4a1ZsevlJKqdOrT0f4SimlTsOvAl9EbhCRzSJSISJJVR6r8aLpItJeRFY51/tMREI8WOtnzhlE14vILhFZf4r1donIRud6Xps5TkQmici+SjVeeor1Rjr3aYaIPOLF+v4hIltFJFVEvhSRxqdYz6v7r6b94ZwS/DPn46tEJN7TNVXadhsRWSYiac7/J/dWs85gEcmr9Ht/wlv1VarhtL8zcXjVuQ9TRaSPF2vrUmnfrBeRfBH5c5V1LN+HdWaM8ZsvoBvQBfgeSKq0PBHYAIQC7YEdQGA1z58FjHbengbc5aW6XwSeOMVju4AYC/blJOCBGtYJdO7LDkCIcx8neqm+i4Ag5+0pwBSr919t9gdwNzDNeXs08JkXf6ctgD7O242A7dXUNxiY7+3X25n8zoBLcVwuVYD+wCqL6gwEsnGMcfepfVjXL786wjfGbDHGbKvmoRovmi4iAgwFZjsXzQSu9mS9lbY7CvjE09vygH5AhjEm0xhTAnyKY197nDHmO2NMmfPuSqC1N7Zbg9rsj6twvLbA8Vob5nwNeJwx5oAxZq3z9nFgC564lrTnXQW8bxxWAo1FpIUFdQwDdhhj6noyqM/xq8A/jdpcND0aOFYpRDxzYfX/dT5w0BiTforHDfCdiKwRkfFeqKeye5x/Ms8QkSbVPO6di9HX7DYcR3zV8eb+q83++G0d52stD8drz6ucraTewKpqHh4gIhtE5FsROcurhTnU9DvzldfdaE59oGb1PqyTIKsLqEpEFgPNq3noMWPMV96u53RqWetNnP7o/jxjzD4RaYbjymFbjTHLPV0f8AbwDI7/fM/gaDvd5o7t1lZt9p+IPAaUAR+d4sd4bP/5KxFpCMwB/myMya/y8FocLYoC5+c2c3FcgtSbfP535vx870rg0Woe9oV9WCc+F/jGmOF1eNo+oE2l+62dyyo7jONPwyDnkVd165yRmmoVkSDgWuCc0/yMfc7vOSLyJY62gVte/LXdlyLyFjC/modqs1/rrBb7byxwOTDMOJun1fwMj+2/atRmf/y6Tpbz9x+F47XnFSISjCPsPzLGfFH18cpvAMaYBSLybxGJMcZ4bY6YWvzOPPq6q6VLgLXGmINVH/CFfVhX9aWlU+NF052BsQy43rloDODpvxiGA1uNMVnVPSgiESLS6NfbOD6o3OThmn7dduWe6DWn2G4ykCCO0U0hOP7Eneel+kYCDwFXGmNOnGIdb++/2uyPeTheW+B4rS091ZuVuzk/K3gH2GKMeekU6zT/9TMFEemHIwO8+YZUm9/ZPOBW52id/kCeMeaAt2p0OuVf5lbvQ5dY/anxmXzhCKYsoBg4CPyn0mOP4RhBsQ24pNLyBUBL5+0OON4IMoDPgVAP1/seMKHKspbAgkr1bHB+bcbRyvDWvvwA2Aik4vgP1qJqfc77l+IY7bHDy/Vl4Ojjrnd+TatanxX7r7r9ATyN440JIMz52spwvtY6eHGfnYejRZdaab9dCkz49XUI3OPcVxtwfBg+0Fv1ne53VqVGAf7l3McbqTQiz0s1RuAI8KhKy3xmH7rypWfaKqWUTdSXlo5SSqkaaOArpZRNaOArpZRNaOArpZRNaOArpZRNaOArpZRNaOArpZRNaOArpZRN/B9xtg68hWFdDgAAAABJRU5ErkJggg==\n",
      "text/plain": [
       "<Figure size 432x288 with 1 Axes>"
      ]
     },
     "metadata": {
      "needs_background": "light"
     },
     "output_type": "display_data"
    }
   ],
>>>>>>> upstream/master
   "source": [
    "# Plot actual and estimated derivative of f(x) = x^2\n",
    "\n",
    "def square(x):\n",
    "    return x * x\n",
    "\n",
    "def derivative(x):\n",
    "    return 2 * x\n",
    "\n",
    "def derivative_estimate(x):\n",
    "    return difference_quotient(square, x, delta=0.00001)\n",
    "\n",
    "xs = np.arange(-10,10)\n",
    "plt.plot(xs, square(xs))\n",
    "plt.plot(xs, derivative(xs), 'rx')           # red  x\n",
    "plt.plot(xs, derivative_estimate(xs), 'b+')  # blue +\n",
<<<<<<< HEAD
    "plt.show() # purple *, hopefully"
=======
    "plt.show()  "
>>>>>>> upstream/master
   ]
  },
  {
   "cell_type": "markdown",
   "metadata": {
    "slideshow": {
     "slide_type": "subslide"
    }
   },
   "source": [
    "## Differentiation\n",
    "\n",
    "$f(x) = x^2$\n",
    "\n",
    "$f'(x) = 2x$"
   ]
  },
  {
   "cell_type": "markdown",
   "metadata": {
    "slideshow": {
     "slide_type": "fragment"
    }
   },
   "source": [
    "* We are looking for the change $d$ in $f(x)$, when we change $x$ with $d$\n",
    "  * Remember: `(f(x + delta) - f(x)) / delta`"
   ]
  },
  {
   "cell_type": "markdown",
   "metadata": {
    "slideshow": {
     "slide_type": "fragment"
    }
   },
   "source": [
    "${df \\over dx} = f'(x)$"
   ]
  },
  {
   "cell_type": "markdown",
   "metadata": {
    "slideshow": {
     "slide_type": "subslide"
    }
   },
   "source": [
    "## Linear models\n",
    "\n",
    "$\\alpha x_1 + \\beta x_2 + c$ "
   ]
  },
  {
   "cell_type": "markdown",
   "metadata": {
    "slideshow": {
     "slide_type": "fragment"
    }
   },
   "source": [
    "... But how do we take the derivative of $x_1$, **and** $x_2$?"
   ]
  },
  {
   "cell_type": "markdown",
   "metadata": {
    "slideshow": {
     "slide_type": "fragment"
    }
   },
   "source": [
    "\n",
    "* Answer: By deriving one variable at the time"
   ]
  },
  {
   "cell_type": "markdown",
   "metadata": {
    "slideshow": {
     "slide_type": "subslide"
    }
   },
   "source": [
    "## Gradients and partial derivatives\n",
    "\n",
    "$f(x, y) = x^2 + xy + y^2 = z$\n",
    "\n",
    "\n",
    "![](https://upload.wikimedia.org/wikipedia/commons/2/2d/Partial_func_eg.svg)"
   ]
  },
  {
   "cell_type": "markdown",
   "metadata": {
    "slideshow": {
     "slide_type": "slide"
    }
   },
   "source": [
    "Derivative between $x$ and $z$\n",
    "![](https://upload.wikimedia.org/wikipedia/commons/f/fe/X2%2BX%2B1.svg)"
   ]
  },
  {
   "cell_type": "markdown",
   "metadata": {
    "slideshow": {
     "slide_type": "subslide"
    }
   },
   "source": [
    "We can say that our function $f(x, y) = x^2 + xy + y^2$ is the same as $f_y(x) = x^2 + xy + y^2$\n",
    "\n",
    "In Python this is the same as"
   ]
  },
  {
   "cell_type": "code",
<<<<<<< HEAD
   "execution_count": null,
=======
   "execution_count": 232,
>>>>>>> upstream/master
   "metadata": {
    "slideshow": {
     "slide_type": "fragment"
    }
   },
   "outputs": [],
   "source": [
    "def fy(y):\n",
    "    def fx(x): \n",
    "        return x ** 2 + x * y + y ** 2\n",
    "    return fx"
   ]
  },
  {
   "cell_type": "code",
<<<<<<< HEAD
   "execution_count": null,
=======
   "execution_count": 237,
>>>>>>> upstream/master
   "metadata": {
    "slideshow": {
     "slide_type": "fragment"
    }
   },
<<<<<<< HEAD
   "outputs": [],
   "source": [
    "fy(1)"
=======
   "outputs": [
    {
     "data": {
      "text/plain": [
       "111"
      ]
     },
     "execution_count": 237,
     "metadata": {},
     "output_type": "execute_result"
    }
   ],
   "source": [
    "fy(1)(10)"
>>>>>>> upstream/master
   ]
  },
  {
   "cell_type": "markdown",
   "metadata": {
    "slideshow": {
     "slide_type": "slide"
    }
   },
   "source": [
    "So now we know that $y$ is constant, so that means that the derivative of \n",
    "\n",
    "$f_y(x) = x^2 + xy + y^2$ \n",
    "is\n",
    "\n",
    "$f_y'(x) = 2x + y$"
   ]
  },
  {
   "cell_type": "markdown",
   "metadata": {
    "slideshow": {
     "slide_type": "fragment"
    }
   },
   "source": [
    "In math, this is written\n",
    "\n",
    "${\\partial f \\over \\partial x}(x, y) = 2x + y$"
   ]
  },
  {
   "cell_type": "markdown",
   "metadata": {
    "slideshow": {
     "slide_type": "subslide"
    }
   },
   "source": [
    "## Partial derivative\n",
    "\n",
    "$\\frac{df_{a_1,\\ldots,a_{i-1},a_{i+1},\\ldots,a_n}}{dx_i}(a_i) = \\frac{\\partial f}{\\partial x_i}(a_1,\\ldots,a_n).$\n",
    "\n",
    "Taking the derivative of a function with many inputs, does not just give you *one* derivative, but *a list* of **partial derivatives**."
   ]
  },
  {
   "cell_type": "markdown",
   "metadata": {
    "slideshow": {
     "slide_type": "subslide"
    }
   },
   "source": [
    "## Gradients\n",
    "\n",
    "$\\nabla f(a) = \\left(\\frac{\\partial f}{\\partial x_1}(a), \\ldots, \\frac{\\partial f}{\\partial x_n}(a)\\right)$\n",
    "\n",
    "In one point $a$, this gives us a list of partial derivatives, that tells us which direction each dimension is moving, in that exact point $a$.\n",
    "\n",
    "This is called a **gradient**."
   ]
  },
  {
   "cell_type": "markdown",
   "metadata": {
    "slideshow": {
     "slide_type": "subslide"
    }
   },
   "source": [
    "\n",
    "## Gradient descent\n",
    "\n",
    "Forest analogy: You're lost in the mountain and has to find your way down\n",
    "\n",
    "![](https://upload.wikimedia.org/wikipedia/commons/c/c7/Okanogan-Wenatchee_National_Forest%2C_morning_fog_shrouds_trees_%2837171636495%29.jpg)"
   ]
  },
  {
   "cell_type": "markdown",
   "metadata": {
    "slideshow": {
     "slide_type": "subslide"
    }
   },
   "source": [
    "Math analogy: You have a function, and the only thing you know is the *direction* it moves"
   ]
  },
  {
   "cell_type": "markdown",
   "metadata": {
    "slideshow": {
     "slide_type": "fragment"
    }
   },
   "source": [
    "In multiple dimensions the *direction* is in multiple dimensions. So we don't just need the derivative of the function in one dimension, we need it in multiple dimensions! \n",
    "\n",
    "We need the gradients! That's why it's called gradient descent."
   ]
  },
  {
   "cell_type": "markdown",
   "metadata": {
    "slideshow": {
     "slide_type": "subslide"
    }
   },
   "source": [
    "![](https://upload.wikimedia.org/wikipedia/commons/f/ff/Gradient_descent.svg)"
   ]
  },
  {
   "cell_type": "markdown",
   "metadata": {
    "slideshow": {
     "slide_type": "subslide"
    }
   },
   "source": [
    "## Gradient descent: summary\n",
    "\n",
    "* We have a loss function for our models\n",
    "  * We like our loss to be **small**\n",
    "* That loss function can be in multiple dimensions\n",
    "  * It's **hard** to predict where the loss function is small\n",
    "* Gradients gives us an idea on the *direction* the function is going\n",
    "  * Direction **small** is good because it means a small loss"
   ]
  },
  {
   "cell_type": "markdown",
   "metadata": {
    "slideshow": {
     "slide_type": "fragment"
    }
   },
   "source": [
    "* Gradient descent steps in the direction of the loss\n",
    "  * Until you find the smallest point"
   ]
  },
  {
   "cell_type": "markdown",
   "metadata": {
    "slideshow": {
     "slide_type": "subslide"
    }
   },
   "source": [
    "## Gradient descent in `sklearn`"
   ]
  },
  {
   "cell_type": "code",
   "execution_count": null,
   "metadata": {
    "slideshow": {
     "slide_type": "fragment"
    }
   },
   "outputs": [],
   "source": [
    "from sklearn.linear_model import SGDRegressor\n",
    "SGDRegressor?"
   ]
  },
  {
   "cell_type": "markdown",
   "metadata": {
    "slideshow": {
     "slide_type": "subslide"
    }
   },
   "source": [
    "## Gradient descent example with science spending data"
   ]
  },
  {
   "cell_type": "code",
   "execution_count": null,
   "metadata": {
    "slideshow": {
     "slide_type": "fragment"
    }
   },
   "outputs": [],
   "source": [
    "import pandas as pd\n",
    "data = pd.read_csv(\"science.csv\")\n",
    "data"
   ]
  },
  {
   "cell_type": "code",
   "execution_count": null,
   "metadata": {
    "slideshow": {
     "slide_type": "subslide"
    }
   },
   "outputs": [],
   "source": [
    "xs = np.array(data['US science spending']).reshape(-1, 1)\n",
    "ys = np.array(data['Suicides']).reshape(-1, 1)"
   ]
  },
  {
   "cell_type": "code",
   "execution_count": null,
   "metadata": {
    "slideshow": {
     "slide_type": "subslide"
    }
   },
   "outputs": [],
   "source": [
    "data.plot.scatter(x = 1, y = 2)"
   ]
  },
  {
   "cell_type": "code",
   "execution_count": null,
   "metadata": {
    "slideshow": {
     "slide_type": "subslide"
    }
   },
   "outputs": [],
   "source": [
    "model = SGDRegressor()\n",
    "model.fit(xs, ys)"
   ]
  },
  {
   "cell_type": "code",
   "execution_count": null,
   "metadata": {
    "slideshow": {
     "slide_type": "subslide"
    }
   },
   "outputs": [],
   "source": [
    "model.predict([[100], [10000]])"
   ]
  },
  {
   "cell_type": "code",
   "execution_count": null,
   "metadata": {
    "slideshow": {
     "slide_type": "subslide"
    }
   },
   "outputs": [],
   "source": [
    "data.plot.scatter(x = 1, y = 2)\n",
    "plt.plot(xs, model.predict(xs))"
   ]
  },
  {
   "cell_type": "markdown",
   "metadata": {
    "slideshow": {
     "slide_type": "subslide"
    }
   },
   "source": [
    "## Scaling data\n",
    "\n",
    "Gradient descent goes in the direction of the gradient with respect to x.\n",
    "If that gradient is very large, the steps we take are laaaarge.\n",
    "\n",
    "What can we do to fix that?\n",
    "Scale the data to be smaller!"
   ]
  },
  {
   "cell_type": "code",
   "execution_count": 194,
   "metadata": {
    "slideshow": {
     "slide_type": "subslide"
    }
   },
   "outputs": [],
   "source": [
    "from sklearn.preprocessing import scale"
   ]
  },
  {
   "cell_type": "code",
   "execution_count": null,
   "metadata": {
    "slideshow": {
     "slide_type": "fragment"
    }
   },
   "outputs": [],
   "source": [
    "xs_scaled = scale(xs)\n",
    "xs_scaled"
   ]
  },
  {
   "cell_type": "code",
   "execution_count": null,
   "metadata": {
    "slideshow": {
     "slide_type": "subslide"
    }
   },
   "outputs": [],
   "source": [
    "model = SGDRegressor()\n",
    "model.fit(xs_scaled, ys)"
   ]
  },
  {
   "cell_type": "code",
   "execution_count": null,
   "metadata": {
    "slideshow": {
     "slide_type": "subslide"
    }
   },
   "outputs": [],
   "source": [
    "plt.plot(xs_scaled, ys)\n",
    "plt.plot(xs_scaled, model.predict(xs_scaled))"
   ]
  },
  {
   "cell_type": "markdown",
   "metadata": {
    "slideshow": {
     "slide_type": "subslide"
    }
   },
   "source": [
    "## Why don't we get any good results?!\n",
    "\n",
    "To get the optimal solution, we have to take many steps towards the correct solution. "
   ]
  },
  {
   "cell_type": "markdown",
   "metadata": {
    "slideshow": {
     "slide_type": "subslide"
    }
   },
   "source": [
    "Challenge:\n",
    "\n",
    "* How many steps is the model taking now? (read the documentation)\n",
    "* Can you make it take 100 steps? 1000 steps? 10000 steps?"
   ]
  },
  {
   "cell_type": "markdown",
   "metadata": {
    "slideshow": {
     "slide_type": "subslide"
    }
   },
   "source": [
    "## Recap\n",
    "\n",
    "* Derivatives\n",
    "  * The **rate of growth** for a function $f$\n",
    "  * Normally defined at points like $x$: $f'(x)$\n",
    "* Partial derivatives\n",
    "  * Derivatives in multiple dimensions"
   ]
  },
  {
   "cell_type": "markdown",
   "metadata": {
    "slideshow": {
     "slide_type": "fragment"
    }
   },
   "source": [
    "* Gradient\n",
    "  * A vector of derivatives, one for each dimension in a function $f$\n",
    "* Gradient descent\n",
    "  * A way to optimise a function by moving towards an optimum\n",
    "  * For instance minimising a loss function"
   ]
  },
  {
   "cell_type": "markdown",
   "metadata": {
    "slideshow": {
     "slide_type": "fragment"
    }
   },
   "source": [
    "### Scaling data \n",
    "  * Standardising data into a smaller space"
   ]
  }
 ],
 "metadata": {
  "celltoolbar": "Slideshow",
  "kernelspec": {
   "display_name": "Python 3",
   "language": "python",
   "name": "python3"
  },
  "language_info": {
   "codemirror_mode": {
    "name": "ipython",
    "version": 3
   },
   "file_extension": ".py",
   "mimetype": "text/x-python",
   "name": "python",
   "nbconvert_exporter": "python",
   "pygments_lexer": "ipython3",
   "version": "3.6.7"
  }
 },
 "nbformat": 4,
 "nbformat_minor": 2
}
