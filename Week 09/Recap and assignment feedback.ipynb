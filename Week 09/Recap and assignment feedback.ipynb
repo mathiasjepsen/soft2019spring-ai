{
 "cells": [
  {
   "cell_type": "markdown",
   "metadata": {
    "slideshow": {
     "slide_type": "slide"
    }
   },
   "source": [
    "# Recap and assignment feedback"
   ]
  },
  {
   "cell_type": "markdown",
   "metadata": {
    "slideshow": {
     "slide_type": "subslide"
    }
   },
   "source": [
    "## What are we doing...?\n",
    "\n",
    "The course provides the student with fundamental concepts in math, machine learning and deep learning. The student will acquire knowledge and skills in how to \n",
    "1. Identify appropriate business cases.\n",
    "2. Prepare and extract features from data. \n",
    "3. Construct machine learning models over data. \n",
    "4. Train, validate and optimise the models.\n",
    "5. Test prediction strength\n",
    "6. Deploy models to production. "
   ]
  },
  {
   "cell_type": "markdown",
   "metadata": {
    "slideshow": {
     "slide_type": "subslide"
    }
   },
   "source": [
    "## Knowledge \n",
    "\n",
    "The student will possess knowledge of: \n",
    "\n",
    "*      Python programming language constucts and usage of external Python APIs \n",
    "\n",
    "*      Basic linear algebra, regression, optimisation problems and techniques \n",
    "\n",
    "*      Theoretical concepts underlying supervised and unsupervised learning \n",
    "\n",
    "*      The general principles and common pitfalls of machine learning \n",
    "\n",
    "*      Representative business questions as well as machine learning tools and models to answer them"
   ]
  },
  {
   "cell_type": "markdown",
   "metadata": {
    "slideshow": {
     "slide_type": "subslide"
    }
   },
   "source": [
    "## Skills\n",
    "\n",
    "\n",
    "The students will be able to: \n",
    "\n",
    "*      Write Python scripts and programs using common language constructs in the read-eval-print-loop (REPL), \"Jupyter Notebooks\", as well as stand-alone programs \n",
    "\n",
    "*      Apply the Python libraries Scikit-learn, Numpy and Pandas to programmatically download, preprocess and analyse data \n",
    "\n",
    "*      Construct, train and validate supervised and unsupervised machine learning / deep learning models, using the Scikit-learn and Keras libraries \n",
    "\n",
    "*   Create various types of plots programmatically to share insight into data"
   ]
  },
  {
   "cell_type": "markdown",
   "metadata": {
    "slideshow": {
     "slide_type": "subslide"
    }
   },
   "source": [
    "## Competencies \n",
    "\n",
    "The students will be able to: \n",
    "\n",
    "*      Recognise and describe possible applications of machine learning \n",
    "\n",
    "*      Compare, appraise and select machine learning models methods for specific tasks \n",
    "\n",
    "*   Present and visualise data and findings \n",
    "\n",
    "*    Solve real-world data mining and pattern recognition problems by using machine learning techniques"
   ]
  },
  {
   "cell_type": "markdown",
   "metadata": {
    "slideshow": {
     "slide_type": "subslide"
    }
   },
   "source": [
    "# Recap so far\n",
    "\n",
    "* Statistics, mathematics\n",
    "  * Populations\n",
    "  * Scalars, vectors, matrices\n",
    "  * Vector spaces, abstract geometry\n",
    "* ML Wheel\n",
    "  * ML does **not** exist in a vacuum\n",
    "* ML types\n",
    "  * Supervised learning\n",
    "  * Unsupervised\n",
    "  * Reinforcement\n",
    "* Models\n",
    "  * Linear regression\n",
    "  * Logistic regression (classification)\n",
    "  * Decision trees (classification)"
   ]
  },
  {
   "cell_type": "markdown",
   "metadata": {
    "slideshow": {
     "slide_type": "subslide"
    }
   },
   "source": [
    "## Assignment 1: Regression\n",
    "\n",
    "* Incredible feedback, well done!\n",
    "  * Notice what you learned **while** giving feedback\n",
    "  * Read the feedback you received!"
   ]
  },
  {
   "cell_type": "markdown",
   "metadata": {
    "slideshow": {
     "slide_type": "fragment"
    }
   },
   "source": [
    "## But.....\n",
    "  * When we write 'describe' we don't mean a number\n",
    "    * Rarely any reflection over what the data means\n",
    "  * What does it mean to explain 'how much time you need to be active on Hackernews' and 'how many posts you need to reach 1000 points'? \n",
    "  * What are we asking for when we ask 'What can the number tell you when you inform patiens whether their cancer is benign or malign?'"
   ]
  }
 ],
 "metadata": {
  "celltoolbar": "Slideshow",
  "kernelspec": {
   "display_name": "Python 3",
   "language": "python",
   "name": "python3"
  },
  "language_info": {
   "codemirror_mode": {
    "name": "ipython",
    "version": 3
   },
   "file_extension": ".py",
   "mimetype": "text/x-python",
   "name": "python",
   "nbconvert_exporter": "python",
   "pygments_lexer": "ipython3",
   "version": "3.6.7"
  }
 },
 "nbformat": 4,
 "nbformat_minor": 2
}
