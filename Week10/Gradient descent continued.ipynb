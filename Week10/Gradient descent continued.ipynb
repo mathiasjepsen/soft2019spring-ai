{
 "cells": [
  {
   "cell_type": "code",
   "execution_count": 2,
   "metadata": {
    "slideshow": {
     "slide_type": "subslide"
    }
   },
   "outputs": [
    {
     "name": "stdout",
     "output_type": "stream",
     "text": [
      "Populating the interactive namespace from numpy and matplotlib\n"
     ]
    }
   ],
   "source": [
    "%pylab inline"
   ]
  },
  {
   "cell_type": "code",
   "execution_count": null,
   "metadata": {},
   "outputs": [],
   "source": []
  },
  {
   "cell_type": "markdown",
   "metadata": {
    "slideshow": {
     "slide_type": "slide"
    }
   },
   "source": [
    "\n",
    "## Gradient descent\n",
    "\n",
    "Forest analogy: You're lost in the mountain and has to find your way down\n",
    "\n",
    "![](https://upload.wikimedia.org/wikipedia/commons/c/c7/Okanogan-Wenatchee_National_Forest%2C_morning_fog_shrouds_trees_%2837171636495%29.jpg)"
   ]
  },
  {
   "cell_type": "markdown",
   "metadata": {
    "slideshow": {
     "slide_type": "subslide"
    }
   },
   "source": [
    "## Gradient descent\n",
    "\n",
    "* Gradient descent is an iterative optimization algorithm for finding the minimum of a function."
   ]
  },
  {
   "cell_type": "markdown",
   "metadata": {
    "slideshow": {
     "slide_type": "fragment"
    }
   },
   "source": [
    "Math analogy: You have a function, and the only thing you know is the *direction* it moves"
   ]
  },
  {
   "cell_type": "markdown",
   "metadata": {
    "slideshow": {
     "slide_type": "fragment"
    }
   },
   "source": [
    "In multiple dimensions the *direction* is in multiple dimensions. So we don't just need the derivative of the function in one dimension, we need it in multiple dimensions! \n",
    "\n",
    "We need the gradients! That's why it's called gradient descent."
   ]
  },
  {
   "cell_type": "markdown",
   "metadata": {
    "slideshow": {
     "slide_type": "subslide"
    }
   },
   "source": [
    "<img src=\"https://upload.wikimedia.org/wikipedia/commons/f/ff/Gradient_descent.svg\" style=\"width:40%\"/>"
   ]
  },
  {
   "cell_type": "markdown",
   "metadata": {
    "slideshow": {
     "slide_type": "subslide"
    }
   },
   "source": [
    "## Gradients\n",
    "\n",
    "A function $f$ can require a number of inputs.\n",
    "So how do we find the gradient for one of the inputs? If we keep the others constant!\n"
   ]
  },
  {
   "cell_type": "markdown",
   "metadata": {
    "slideshow": {
     "slide_type": "fragment"
    }
   },
   "source": [
    "\n",
    "$\\nabla f(a) = \\left(\\frac{\\partial f}{\\partial x_1}(a), \\ldots, \\frac{\\partial f}{\\partial x_n}(a)\\right)$\n",
    "\n",
    "In one point $a$, this gives us a list of partial derivatives, that tells us which direction each dimension is moving, in that exact point $a$.\n",
    "\n",
    "This is called a **gradient**."
   ]
  },
  {
   "cell_type": "markdown",
   "metadata": {
    "slideshow": {
     "slide_type": "subslide"
    }
   },
   "source": [
    "## The gradient descent algorithm\n",
    "\n",
    "Let's revisit the science/suicide dataset:\n"
   ]
  },
  {
   "cell_type": "code",
   "execution_count": 3,
   "metadata": {
    "slideshow": {
     "slide_type": "fragment"
    }
   },
   "outputs": [],
   "source": [
    "import pandas as pd\n",
    "df = pd.read_csv('science.csv')"
   ]
  },
  {
   "cell_type": "code",
   "execution_count": 4,
   "metadata": {
    "slideshow": {
     "slide_type": "subslide"
    }
   },
   "outputs": [
    {
     "data": {
      "text/plain": [
       "<matplotlib.axes._subplots.AxesSubplot at 0x7f0d8d6c5d68>"
      ]
     },
     "execution_count": 4,
     "metadata": {},
     "output_type": "execute_result"
    },
    {
     "data": {
      "image/png": "[encoded data removed]",
      "text/plain": [
       "<Figure size 432x288 with 1 Axes>"
      ]
     },
     "metadata": {
      "needs_background": "light"
     },
     "output_type": "display_data"
    }
   ],
   "source": [
    "df.plot.scatter(x=1, y=2)"
   ]
  },
  {
   "cell_type": "markdown",
   "metadata": {
    "slideshow": {
     "slide_type": "subslide"
    }
   },
   "source": [
    "We're still going for a *linear* relationship:\n",
    "\n",
    "$$f(x) = \\alpha x + \\beta$$\n",
    "\n",
    "And our loss function is still:\n",
    "\n",
    "$$l = {{\\sum^N_{i=1}(y_i - \\hat{y_i})^2} \\over N}$$\n",
    "\n",
    "Which is the same as:\n",
    "\n",
    "$$l = {{1 \\over N} \\sum^N_{i=1}(y_i - (\\alpha x_i + \\beta))^2}$$"
   ]
  },
  {
   "cell_type": "markdown",
   "metadata": {
    "slideshow": {
     "slide_type": "subslide"
    }
   },
   "source": [
    "We now know what to optimise! We have a loss function with two parameters: $\\alpha$ and $\\beta$.\n",
    "\n",
    "\n",
    "$$l = {{1 \\over N} \\sum^N_{i=1}(y_i - (\\alpha x_i + \\beta))^2}$$\n",
    "\n",
    "So we have to find the **partial** derivative for $\\alpha$:\n",
    "\n",
    "$${\\partial l \\over \\partial \\alpha} = {{1 \\over N} \\sum^N_{i=1} -2x_i(y_i - (\\alpha x_i + \\beta))}$$"
   ]
  },
  {
   "cell_type": "markdown",
   "metadata": {
    "slideshow": {
     "slide_type": "subslide"
    }
   },
   "source": [
    "We now know what to optimise! We have a loss function with two parameters: $\\alpha$ and $\\beta$.\n",
    "\n",
    "\n",
    "$$l = {{1 \\over N} \\sum^N_{i=1}(y_i - (\\alpha x_i + \\beta))^2}$$\n",
    "\n",
    "So we have to find the **partial** derivative for $\\beta$:\n",
    "\n",
    "$${\\partial l \\over \\partial \\beta} = {{1 \\over N} \\sum^N_{i=1} -2(y_i - (\\alpha x_i + \\beta))}$$"
   ]
  },
  {
   "cell_type": "markdown",
   "metadata": {
    "slideshow": {
     "slide_type": "subslide"
    }
   },
   "source": [
    "To start gradient descent, let's just pretend that $\\alpha$ and $\\beta$ are set to 0.\n",
    "\n",
    "Whenever vi find a gradient, we get a **direction** at that specific point.\n",
    "* If the gradient is positive, the function grows\n",
    "* If the gradient is negative, the function declines"
   ]
  },
  {
   "cell_type": "markdown",
   "metadata": {
    "slideshow": {
     "slide_type": "fragment"
    }
   },
   "source": [
    "... Either is actuall bad, because we want the function to stay at zero!\n",
    "So we will always move **in the opposite direction** of the gradient."
   ]
  },
  {
   "cell_type": "markdown",
   "metadata": {
    "slideshow": {
     "slide_type": "subslide"
    }
   },
   "source": [
    "We can now update our parameters:\n",
    "\n",
    "$$\\alpha \\leftarrow \\alpha - {\\partial l \\over \\partial \\alpha} $$\n",
    "\n",
    "$$\\beta \\leftarrow \\beta - {\\partial l \\over \\partial \\beta} $$"
   ]
  },
  {
   "cell_type": "markdown",
   "metadata": {
    "slideshow": {
     "slide_type": "subslide"
    }
   },
   "source": [
    "## Learning rates\n",
    "\n",
    "Gradient descent has a problem: local minima.\n",
    "\n",
    "We can add a *learning rate* that scales the amount we are learning (between 0 and 1).\n",
    "\n",
    "The learning rate will prevent us from 'jumping' too far."
   ]
  },
  {
   "cell_type": "markdown",
   "metadata": {
    "slideshow": {
     "slide_type": "subslide"
    }
   },
   "source": [
    "We can now update our parameters with a learning rate $\\gamma$:\n",
    "\n",
    "$$\\alpha \\leftarrow \\alpha - \\gamma {\\partial l \\over \\partial \\alpha} $$\n",
    "\n",
    "$$\\beta \\leftarrow \\beta - \\gamma {\\partial l \\over \\partial \\beta} $$"
   ]
  },
  {
   "cell_type": "markdown",
   "metadata": {
    "slideshow": {
     "slide_type": "subslide"
    }
   },
   "source": [
    "## Gradient descent in Python"
   ]
  },
  {
   "cell_type": "code",
   "execution_count": 5,
   "metadata": {
    "slideshow": {
     "slide_type": "subslide"
    }
   },
   "outputs": [],
   "source": [
    "def loss(spendings, suicides, a, b):\n",
    "    N = len(spendings)\n",
    "    total_error = 0.0\n",
    "    for i in range(N):\n",
    "        total_error += (suicides[i] - (a*spendings[i] + b))**2\n",
    "    return total_error / N"
   ]
  },
  {
   "cell_type": "code",
   "execution_count": 6,
   "metadata": {
    "slideshow": {
     "slide_type": "subslide"
    }
   },
   "outputs": [],
   "source": [
    "def update_a_and_b(spendings, suicides, a, b, gamma):\n",
    "    dr_da = 0.0\n",
    "    dr_db = 0.0\n",
    "    N = len(spendings)\n",
    "\n",
    "    for i in range(N):\n",
    "        dr_da += -2 * spendings[i] * (suicides[i] - (a * spendings[i] + b))\n",
    "        dr_db += -2 * (suicides[i] - (a * spendings[i] + b))\n",
    "\n",
    "    # update a and b\n",
    "    a = a - (dr_da/float(N)) * gamma\n",
    "    b = b - (dr_db/float(N)) * gamma\n",
    "\n",
    "    return a, b"
   ]
  },
  {
   "cell_type": "code",
   "execution_count": 7,
   "metadata": {
    "slideshow": {
     "slide_type": "subslide"
    }
   },
   "outputs": [],
   "source": [
    "def train(spendings, suicides, a, b, gamma, epochs):\n",
    "    image_counter = 2\n",
    "    for e in range(epochs):\n",
    "        a, b = update_a_and_b(spendings, suicides, a, b, gamma)\n",
    "\n",
    "        if (e % 10 == 0):\n",
    "            # log the progress\n",
    "            print(\"epoch: \", str(e), \"loss: \"+str(loss(spendings, suicides, a, b)))\n",
    "            print(\"a, b: \", a, b)\n",
    "            plt.figure(image_counter)\n",
    "            axes = plt.gca()\n",
    "            plt.scatter(spendings, suicides)\n",
    "            plt.plot(spendings, spendings*a + b)\n",
    "            image_counter += 1\n",
    "            \n",
    "        if np.isnan(a):\n",
    "            raise ValueError('Infinite error!')"
   ]
  },
  {
   "cell_type": "code",
   "execution_count": 8,
   "metadata": {
    "slideshow": {
     "slide_type": "subslide"
    }
   },
   "outputs": [
    {
     "name": "stdout",
     "output_type": "stream",
     "text": [
      "epoch:  0 loss: 5.8720398691147317e+23\n",
      "a, b:  33206725.072727278 1422.2545454545455\n",
      "epoch:  10 loss: 2.070746926362161e+184\n",
      "a, b:  6.235841347929989e+87 2.6710161256055656e+83\n",
      "epoch:  20 loss: inf\n",
      "a, b:  1.171019352149384e+168 5.0158613705357914e+163\n",
      "epoch:  30 loss: inf\n",
      "a, b:  2.1990397872511095e+248 9.419211305858082e+243\n"
     ]
    },
    {
     "name": "stderr",
     "output_type": "stream",
     "text": [
      "/home/jens/.virtualenvs/keras/lib/python3.6/site-packages/ipykernel_launcher.py:5: RuntimeWarning: overflow encountered in double_scalars\n",
      "  \"\"\"\n",
      "/home/jens/.virtualenvs/keras/lib/python3.6/site-packages/ipykernel_launcher.py:7: RuntimeWarning: overflow encountered in double_scalars\n",
      "  import sys\n",
      "/home/jens/.virtualenvs/keras/lib/python3.6/site-packages/ipykernel_launcher.py:8: RuntimeWarning: overflow encountered in double_scalars\n",
      "  \n",
      "/home/jens/.virtualenvs/keras/lib/python3.6/site-packages/ipykernel_launcher.py:11: RuntimeWarning: invalid value encountered in double_scalars\n",
      "  # This is added back by InteractiveShellApp.init_path()\n",
      "/home/jens/.virtualenvs/keras/lib/python3.6/site-packages/ipykernel_launcher.py:12: RuntimeWarning: invalid value encountered in double_scalars\n",
      "  if sys.path[0] == '':\n"
     ]
    },
    {
     "ename": "ValueError",
     "evalue": "Infinite error!",
     "output_type": "error",
     "traceback": [
      "\u001b[0;31m---------------------------------------------------------------------------\u001b[0m",
      "\u001b[0;31mValueError\u001b[0m                                Traceback (most recent call last)",
      "\u001b[0;32m<ipython-input-8-8e57110bbd80>\u001b[0m in \u001b[0;36m<module>\u001b[0;34m\u001b[0m\n\u001b[0;32m----> 1\u001b[0;31m \u001b[0mtrain\u001b[0m\u001b[0;34m(\u001b[0m\u001b[0mdf\u001b[0m\u001b[0;34m[\u001b[0m\u001b[0;34m'US science spending'\u001b[0m\u001b[0;34m]\u001b[0m\u001b[0;34m,\u001b[0m \u001b[0mdf\u001b[0m\u001b[0;34m[\u001b[0m\u001b[0;34m'Suicides'\u001b[0m\u001b[0;34m]\u001b[0m\u001b[0;34m,\u001b[0m \u001b[0;36m0\u001b[0m\u001b[0;34m,\u001b[0m \u001b[0;36m0\u001b[0m\u001b[0;34m,\u001b[0m \u001b[0;36m0.1\u001b[0m\u001b[0;34m,\u001b[0m \u001b[0;36m10000\u001b[0m\u001b[0;34m)\u001b[0m\u001b[0;34m\u001b[0m\u001b[0;34m\u001b[0m\u001b[0m\n\u001b[0m",
      "\u001b[0;32m<ipython-input-7-62475b2e27df>\u001b[0m in \u001b[0;36mtrain\u001b[0;34m(spendings, suicides, a, b, gamma, epochs)\u001b[0m\n\u001b[1;32m     15\u001b[0m \u001b[0;34m\u001b[0m\u001b[0m\n\u001b[1;32m     16\u001b[0m         \u001b[0;32mif\u001b[0m \u001b[0mnp\u001b[0m\u001b[0;34m.\u001b[0m\u001b[0misnan\u001b[0m\u001b[0;34m(\u001b[0m\u001b[0ma\u001b[0m\u001b[0;34m)\u001b[0m\u001b[0;34m:\u001b[0m\u001b[0;34m\u001b[0m\u001b[0;34m\u001b[0m\u001b[0m\n\u001b[0;32m---> 17\u001b[0;31m             \u001b[0;32mraise\u001b[0m \u001b[0mValueError\u001b[0m\u001b[0;34m(\u001b[0m\u001b[0;34m'Infinite error!'\u001b[0m\u001b[0;34m)\u001b[0m\u001b[0;34m\u001b[0m\u001b[0;34m\u001b[0m\u001b[0m\n\u001b[0m",
      "\u001b[0;31mValueError\u001b[0m: Infinite error!"
     ]
    },
    {
     "data": {
      "image/png": "[encoded data removed]",
      "text/plain": [
       "<Figure size 432x288 with 1 Axes>"
      ]
     },
     "metadata": {
      "needs_background": "light"
     },
     "output_type": "display_data"
    },
    {
     "data": {
      "image/png": "[encoded data removed]",
      "text/plain": [
       "<Figure size 432x288 with 1 Axes>"
      ]
     },
     "metadata": {
      "needs_background": "light"
     },
     "output_type": "display_data"
    },
    {
     "data": {
      "image/png": "[encoded data removed]",
      "text/plain": [
       "<Figure size 432x288 with 1 Axes>"
      ]
     },
     "metadata": {
      "needs_background": "light"
     },
     "output_type": "display_data"
    },
    {
     "data": {
      "image/png": "[encoded data removed]",
      "text/plain": [
       "<Figure size 432x288 with 1 Axes>"
      ]
     },
     "metadata": {
      "needs_background": "light"
     },
     "output_type": "display_data"
    }
   ],
   "source": [
    "train(df['US science spending'], df['Suicides'], 0, 0, 0.1, 10000)"
   ]
  },
  {
   "cell_type": "markdown",
   "metadata": {
    "slideshow": {
     "slide_type": "subslide"
    }
   },
   "source": [
    "## Scaling data\n",
    "\n",
    "Gradient descent is sensitive to big numbers:\n",
    "\n",
    "* Large gradients = large movements = large losses = large gradients = ..."
   ]
  },
  {
   "cell_type": "markdown",
   "metadata": {
    "slideshow": {
     "slide_type": "fragment"
    }
   },
   "source": [
    "Solution: scale the data so it centers around 0"
   ]
  },
  {
   "cell_type": "code",
   "execution_count": 9,
   "metadata": {
    "slideshow": {
     "slide_type": "subslide"
    }
   },
   "outputs": [],
   "source": [
    "from sklearn.preprocessing import StandardScaler"
   ]
  },
  {
   "cell_type": "code",
   "execution_count": 13,
   "metadata": {
    "slideshow": {
     "slide_type": "fragment"
    }
   },
   "outputs": [],
   "source": [
    "data = np.arange(0, 1000).reshape(-1, 1)"
   ]
  },
  {
   "cell_type": "code",
   "execution_count": 14,
   "metadata": {
    "slideshow": {
     "slide_type": "fragment"
    }
   },
   "outputs": [
    {
     "name": "stderr",
     "output_type": "stream",
     "text": [
      "/home/jens/.virtualenvs/keras/lib/python3.6/site-packages/sklearn/utils/validation.py:595: DataConversionWarning: Data with input dtype int64 was converted to float64 by StandardScaler.\n",
      "  warnings.warn(msg, DataConversionWarning)\n",
      "/home/jens/.virtualenvs/keras/lib/python3.6/site-packages/sklearn/utils/validation.py:595: DataConversionWarning: Data with input dtype int64 was converted to float64 by StandardScaler.\n",
      "  warnings.warn(msg, DataConversionWarning)\n"
     ]
    },
    {
     "data": {
      "text/plain": [
       "array([[-1.73031962],\n",
       "       [-1.72685552],\n",
       "       [-1.72339142],\n",
       "       [-1.71992731],\n",
       "       [-1.71646321],\n",
       "       [-1.71299911],\n",
       "       [-1.709535  ],\n",
       "       [-1.7060709 ],\n",
       "       [-1.7026068 ],\n",
       "       [-1.69914269],\n",
       "       [-1.69567859],\n",
       "       [-1.69221449],\n",
       "       [-1.68875038],\n",
       "       [-1.68528628],\n",
       "       [-1.68182218],\n",
       "       [-1.67835807],\n",
       "       [-1.67489397],\n",
       "       [-1.67142987],\n",
       "       [-1.66796576],\n",
       "       [-1.66450166],\n",
       "       [-1.66103755],\n",
       "       [-1.65757345],\n",
       "       [-1.65410935],\n",
       "       [-1.65064524],\n",
       "       [-1.64718114],\n",
       "       [-1.64371704],\n",
       "       [-1.64025293],\n",
       "       [-1.63678883],\n",
       "       [-1.63332473],\n",
       "       [-1.62986062],\n",
       "       [-1.62639652],\n",
       "       [-1.62293242],\n",
       "       [-1.61946831],\n",
       "       [-1.61600421],\n",
       "       [-1.61254011],\n",
       "       [-1.609076  ],\n",
       "       [-1.6056119 ],\n",
       "       [-1.6021478 ],\n",
       "       [-1.59868369],\n",
       "       [-1.59521959],\n",
       "       [-1.59175549],\n",
       "       [-1.58829138],\n",
       "       [-1.58482728],\n",
       "       [-1.58136318],\n",
       "       [-1.57789907],\n",
       "       [-1.57443497],\n",
       "       [-1.57097087],\n",
       "       [-1.56750676],\n",
       "       [-1.56404266],\n",
       "       [-1.56057856],\n",
       "       [-1.55711445],\n",
       "       [-1.55365035],\n",
       "       [-1.55018625],\n",
       "       [-1.54672214],\n",
       "       [-1.54325804],\n",
       "       [-1.53979394],\n",
       "       [-1.53632983],\n",
       "       [-1.53286573],\n",
       "       [-1.52940163],\n",
       "       [-1.52593752],\n",
       "       [-1.52247342],\n",
       "       [-1.51900932],\n",
       "       [-1.51554521],\n",
       "       [-1.51208111],\n",
       "       [-1.50861701],\n",
       "       [-1.5051529 ],\n",
       "       [-1.5016888 ],\n",
       "       [-1.4982247 ],\n",
       "       [-1.49476059],\n",
       "       [-1.49129649],\n",
       "       [-1.48783239],\n",
       "       [-1.48436828],\n",
       "       [-1.48090418],\n",
       "       [-1.47744008],\n",
       "       [-1.47397597],\n",
       "       [-1.47051187],\n",
       "       [-1.46704777],\n",
       "       [-1.46358366],\n",
       "       [-1.46011956],\n",
       "       [-1.45665546],\n",
       "       [-1.45319135],\n",
       "       [-1.44972725],\n",
       "       [-1.44626315],\n",
       "       [-1.44279904],\n",
       "       [-1.43933494],\n",
       "       [-1.43587084],\n",
       "       [-1.43240673],\n",
       "       [-1.42894263],\n",
       "       [-1.42547853],\n",
       "       [-1.42201442],\n",
       "       [-1.41855032],\n",
       "       [-1.41508622],\n",
       "       [-1.41162211],\n",
       "       [-1.40815801],\n",
       "       [-1.40469391],\n",
       "       [-1.4012298 ],\n",
       "       [-1.3977657 ],\n",
       "       [-1.3943016 ],\n",
       "       [-1.39083749],\n",
       "       [-1.38737339],\n",
       "       [-1.38390929],\n",
       "       [-1.38044518],\n",
       "       [-1.37698108],\n",
       "       [-1.37351698],\n",
       "       [-1.37005287],\n",
       "       [-1.36658877],\n",
       "       [-1.36312467],\n",
       "       [-1.35966056],\n",
       "       [-1.35619646],\n",
       "       [-1.35273236],\n",
       "       [-1.34926825],\n",
       "       [-1.34580415],\n",
       "       [-1.34234005],\n",
       "       [-1.33887594],\n",
       "       [-1.33541184],\n",
       "       [-1.33194774],\n",
       "       [-1.32848363],\n",
       "       [-1.32501953],\n",
       "       [-1.32155543],\n",
       "       [-1.31809132],\n",
       "       [-1.31462722],\n",
       "       [-1.31116312],\n",
       "       [-1.30769901],\n",
       "       [-1.30423491],\n",
       "       [-1.30077081],\n",
       "       [-1.2973067 ],\n",
       "       [-1.2938426 ],\n",
       "       [-1.2903785 ],\n",
       "       [-1.28691439],\n",
       "       [-1.28345029],\n",
       "       [-1.27998619],\n",
       "       [-1.27652208],\n",
       "       [-1.27305798],\n",
       "       [-1.26959388],\n",
       "       [-1.26612977],\n",
       "       [-1.26266567],\n",
       "       [-1.25920157],\n",
       "       [-1.25573746],\n",
       "       [-1.25227336],\n",
       "       [-1.24880926],\n",
       "       [-1.24534515],\n",
       "       [-1.24188105],\n",
       "       [-1.23841695],\n",
       "       [-1.23495284],\n",
       "       [-1.23148874],\n",
       "       [-1.22802464],\n",
       "       [-1.22456053],\n",
       "       [-1.22109643],\n",
       "       [-1.21763233],\n",
       "       [-1.21416822],\n",
       "       [-1.21070412],\n",
       "       [-1.20724002],\n",
       "       [-1.20377591],\n",
       "       [-1.20031181],\n",
       "       [-1.19684771],\n",
       "       [-1.1933836 ],\n",
       "       [-1.1899195 ],\n",
       "       [-1.1864554 ],\n",
       "       [-1.18299129],\n",
       "       [-1.17952719],\n",
       "       [-1.17606309],\n",
       "       [-1.17259898],\n",
       "       [-1.16913488],\n",
       "       [-1.16567078],\n",
       "       [-1.16220667],\n",
       "       [-1.15874257],\n",
       "       [-1.15527847],\n",
       "       [-1.15181436],\n",
       "       [-1.14835026],\n",
       "       [-1.14488616],\n",
       "       [-1.14142205],\n",
       "       [-1.13795795],\n",
       "       [-1.13449385],\n",
       "       [-1.13102974],\n",
       "       [-1.12756564],\n",
       "       [-1.12410154],\n",
       "       [-1.12063743],\n",
       "       [-1.11717333],\n",
       "       [-1.11370923],\n",
       "       [-1.11024512],\n",
       "       [-1.10678102],\n",
       "       [-1.10331692],\n",
       "       [-1.09985281],\n",
       "       [-1.09638871],\n",
       "       [-1.09292461],\n",
       "       [-1.0894605 ],\n",
       "       [-1.0859964 ],\n",
       "       [-1.0825323 ],\n",
       "       [-1.07906819],\n",
       "       [-1.07560409],\n",
       "       [-1.07213999],\n",
       "       [-1.06867588],\n",
       "       [-1.06521178],\n",
       "       [-1.06174768],\n",
       "       [-1.05828357],\n",
       "       [-1.05481947],\n",
       "       [-1.05135537],\n",
       "       [-1.04789126],\n",
       "       [-1.04442716],\n",
       "       [-1.04096306],\n",
       "       [-1.03749895],\n",
       "       [-1.03403485],\n",
       "       [-1.03057075],\n",
       "       [-1.02710664],\n",
       "       [-1.02364254],\n",
       "       [-1.02017844],\n",
       "       [-1.01671433],\n",
       "       [-1.01325023],\n",
       "       [-1.00978613],\n",
       "       [-1.00632202],\n",
       "       [-1.00285792],\n",
       "       [-0.99939382],\n",
       "       [-0.99592971],\n",
       "       [-0.99246561],\n",
       "       [-0.98900151],\n",
       "       [-0.9855374 ],\n",
       "       [-0.9820733 ],\n",
       "       [-0.9786092 ],\n",
       "       [-0.97514509],\n",
       "       [-0.97168099],\n",
       "       [-0.96821689],\n",
       "       [-0.96475278],\n",
       "       [-0.96128868],\n",
       "       [-0.95782458],\n",
       "       [-0.95436047],\n",
       "       [-0.95089637],\n",
       "       [-0.94743227],\n",
       "       [-0.94396816],\n",
       "       [-0.94050406],\n",
       "       [-0.93703996],\n",
       "       [-0.93357585],\n",
       "       [-0.93011175],\n",
       "       [-0.92664765],\n",
       "       [-0.92318354],\n",
       "       [-0.91971944],\n",
       "       [-0.91625534],\n",
       "       [-0.91279123],\n",
       "       [-0.90932713],\n",
       "       [-0.90586303],\n",
       "       [-0.90239892],\n",
       "       [-0.89893482],\n",
       "       [-0.89547072],\n",
       "       [-0.89200661],\n",
       "       [-0.88854251],\n",
       "       [-0.88507841],\n",
       "       [-0.8816143 ],\n",
       "       [-0.8781502 ],\n",
       "       [-0.8746861 ],\n",
       "       [-0.87122199],\n",
       "       [-0.86775789],\n",
       "       [-0.86429379],\n",
       "       [-0.86082968],\n",
       "       [-0.85736558],\n",
       "       [-0.85390148],\n",
       "       [-0.85043737],\n",
       "       [-0.84697327],\n",
       "       [-0.84350917],\n",
       "       [-0.84004506],\n",
       "       [-0.83658096],\n",
       "       [-0.83311685],\n",
       "       [-0.82965275],\n",
       "       [-0.82618865],\n",
       "       [-0.82272454],\n",
       "       [-0.81926044],\n",
       "       [-0.81579634],\n",
       "       [-0.81233223],\n",
       "       [-0.80886813],\n",
       "       [-0.80540403],\n",
       "       [-0.80193992],\n",
       "       [-0.79847582],\n",
       "       [-0.79501172],\n",
       "       [-0.79154761],\n",
       "       [-0.78808351],\n",
       "       [-0.78461941],\n",
       "       [-0.7811553 ],\n",
       "       [-0.7776912 ],\n",
       "       [-0.7742271 ],\n",
       "       [-0.77076299],\n",
       "       [-0.76729889],\n",
       "       [-0.76383479],\n",
       "       [-0.76037068],\n",
       "       [-0.75690658],\n",
       "       [-0.75344248],\n",
       "       [-0.74997837],\n",
       "       [-0.74651427],\n",
       "       [-0.74305017],\n",
       "       [-0.73958606],\n",
       "       [-0.73612196],\n",
       "       [-0.73265786],\n",
       "       [-0.72919375],\n",
       "       [-0.72572965],\n",
       "       [-0.72226555],\n",
       "       [-0.71880144],\n",
       "       [-0.71533734],\n",
       "       [-0.71187324],\n",
       "       [-0.70840913],\n",
       "       [-0.70494503],\n",
       "       [-0.70148093],\n",
       "       [-0.69801682],\n",
       "       [-0.69455272],\n",
       "       [-0.69108862],\n",
       "       [-0.68762451],\n",
       "       [-0.68416041],\n",
       "       [-0.68069631],\n",
       "       [-0.6772322 ],\n",
       "       [-0.6737681 ],\n",
       "       [-0.670304  ],\n",
       "       [-0.66683989],\n",
       "       [-0.66337579],\n",
       "       [-0.65991169],\n",
       "       [-0.65644758],\n",
       "       [-0.65298348],\n",
       "       [-0.64951938],\n",
       "       [-0.64605527],\n",
       "       [-0.64259117],\n",
       "       [-0.63912707],\n",
       "       [-0.63566296],\n",
       "       [-0.63219886],\n",
       "       [-0.62873476],\n",
       "       [-0.62527065],\n",
       "       [-0.62180655],\n",
       "       [-0.61834245],\n",
       "       [-0.61487834],\n",
       "       [-0.61141424],\n",
       "       [-0.60795014],\n",
       "       [-0.60448603],\n",
       "       [-0.60102193],\n",
       "       [-0.59755783],\n",
       "       [-0.59409372],\n",
       "       [-0.59062962],\n",
       "       [-0.58716552],\n",
       "       [-0.58370141],\n",
       "       [-0.58023731],\n",
       "       [-0.57677321],\n",
       "       [-0.5733091 ],\n",
       "       [-0.569845  ],\n",
       "       [-0.5663809 ],\n",
       "       [-0.56291679],\n",
       "       [-0.55945269],\n",
       "       [-0.55598859],\n",
       "       [-0.55252448],\n",
       "       [-0.54906038],\n",
       "       [-0.54559628],\n",
       "       [-0.54213217],\n",
       "       [-0.53866807],\n",
       "       [-0.53520397],\n",
       "       [-0.53173986],\n",
       "       [-0.52827576],\n",
       "       [-0.52481166],\n",
       "       [-0.52134755],\n",
       "       [-0.51788345],\n",
       "       [-0.51441935],\n",
       "       [-0.51095524],\n",
       "       [-0.50749114],\n",
       "       [-0.50402704],\n",
       "       [-0.50056293],\n",
       "       [-0.49709883],\n",
       "       [-0.49363473],\n",
       "       [-0.49017062],\n",
       "       [-0.48670652],\n",
       "       [-0.48324242],\n",
       "       [-0.47977831],\n",
       "       [-0.47631421],\n",
       "       [-0.47285011],\n",
       "       [-0.469386  ],\n",
       "       [-0.4659219 ],\n",
       "       [-0.4624578 ],\n",
       "       [-0.45899369],\n",
       "       [-0.45552959],\n",
       "       [-0.45206549],\n",
       "       [-0.44860138],\n",
       "       [-0.44513728],\n",
       "       [-0.44167318],\n",
       "       [-0.43820907],\n",
       "       [-0.43474497],\n",
       "       [-0.43128087],\n",
       "       [-0.42781676],\n",
       "       [-0.42435266],\n",
       "       [-0.42088856],\n",
       "       [-0.41742445],\n",
       "       [-0.41396035],\n",
       "       [-0.41049625],\n",
       "       [-0.40703214],\n",
       "       [-0.40356804],\n",
       "       [-0.40010394],\n",
       "       [-0.39663983],\n",
       "       [-0.39317573],\n",
       "       [-0.38971163],\n",
       "       [-0.38624752],\n",
       "       [-0.38278342],\n",
       "       [-0.37931932],\n",
       "       [-0.37585521],\n",
       "       [-0.37239111],\n",
       "       [-0.36892701],\n",
       "       [-0.3654629 ],\n",
       "       [-0.3619988 ],\n",
       "       [-0.3585347 ],\n",
       "       [-0.35507059],\n",
       "       [-0.35160649],\n",
       "       [-0.34814239],\n",
       "       [-0.34467828],\n",
       "       [-0.34121418],\n",
       "       [-0.33775008],\n",
       "       [-0.33428597],\n",
       "       [-0.33082187],\n",
       "       [-0.32735777],\n",
       "       [-0.32389366],\n",
       "       [-0.32042956],\n",
       "       [-0.31696546],\n",
       "       [-0.31350135],\n",
       "       [-0.31003725],\n",
       "       [-0.30657315],\n",
       "       [-0.30310904],\n",
       "       [-0.29964494],\n",
       "       [-0.29618084],\n",
       "       [-0.29271673],\n",
       "       [-0.28925263],\n",
       "       [-0.28578853],\n",
       "       [-0.28232442],\n",
       "       [-0.27886032],\n",
       "       [-0.27539622],\n",
       "       [-0.27193211],\n",
       "       [-0.26846801],\n",
       "       [-0.26500391],\n",
       "       [-0.2615398 ],\n",
       "       [-0.2580757 ],\n",
       "       [-0.2546116 ],\n",
       "       [-0.25114749],\n",
       "       [-0.24768339],\n",
       "       [-0.24421929],\n",
       "       [-0.24075518],\n",
       "       [-0.23729108],\n",
       "       [-0.23382698],\n",
       "       [-0.23036287],\n",
       "       [-0.22689877],\n",
       "       [-0.22343467],\n",
       "       [-0.21997056],\n",
       "       [-0.21650646],\n",
       "       [-0.21304236],\n",
       "       [-0.20957825],\n",
       "       [-0.20611415],\n",
       "       [-0.20265005],\n",
       "       [-0.19918594],\n",
       "       [-0.19572184],\n",
       "       [-0.19225774],\n",
       "       [-0.18879363],\n",
       "       [-0.18532953],\n",
       "       [-0.18186543],\n",
       "       [-0.17840132],\n",
       "       [-0.17493722],\n",
       "       [-0.17147312],\n",
       "       [-0.16800901],\n",
       "       [-0.16454491],\n",
       "       [-0.16108081],\n",
       "       [-0.1576167 ],\n",
       "       [-0.1541526 ],\n",
       "       [-0.1506885 ],\n",
       "       [-0.14722439],\n",
       "       [-0.14376029],\n",
       "       [-0.14029619],\n",
       "       [-0.13683208],\n",
       "       [-0.13336798],\n",
       "       [-0.12990388],\n",
       "       [-0.12643977],\n",
       "       [-0.12297567],\n",
       "       [-0.11951157],\n",
       "       [-0.11604746],\n",
       "       [-0.11258336],\n",
       "       [-0.10911926],\n",
       "       [-0.10565515],\n",
       "       [-0.10219105],\n",
       "       [-0.09872695],\n",
       "       [-0.09526284],\n",
       "       [-0.09179874],\n",
       "       [-0.08833464],\n",
       "       [-0.08487053],\n",
       "       [-0.08140643],\n",
       "       [-0.07794233],\n",
       "       [-0.07447822],\n",
       "       [-0.07101412],\n",
       "       [-0.06755002],\n",
       "       [-0.06408591],\n",
       "       [-0.06062181],\n",
       "       [-0.05715771],\n",
       "       [-0.0536936 ],\n",
       "       [-0.0502295 ],\n",
       "       [-0.0467654 ],\n",
       "       [-0.04330129],\n",
       "       [-0.03983719],\n",
       "       [-0.03637309],\n",
       "       [-0.03290898],\n",
       "       [-0.02944488],\n",
       "       [-0.02598078],\n",
       "       [-0.02251667],\n",
       "       [-0.01905257],\n",
       "       [-0.01558847],\n",
       "       [-0.01212436],\n",
       "       [-0.00866026],\n",
       "       [-0.00519616],\n",
       "       [-0.00173205],\n",
       "       [ 0.00173205],\n",
       "       [ 0.00519616],\n",
       "       [ 0.00866026],\n",
       "       [ 0.01212436],\n",
       "       [ 0.01558847],\n",
       "       [ 0.01905257],\n",
       "       [ 0.02251667],\n",
       "       [ 0.02598078],\n",
       "       [ 0.02944488],\n",
       "       [ 0.03290898],\n",
       "       [ 0.03637309],\n",
       "       [ 0.03983719],\n",
       "       [ 0.04330129],\n",
       "       [ 0.0467654 ],\n",
       "       [ 0.0502295 ],\n",
       "       [ 0.0536936 ],\n",
       "       [ 0.05715771],\n",
       "       [ 0.06062181],\n",
       "       [ 0.06408591],\n",
       "       [ 0.06755002],\n",
       "       [ 0.07101412],\n",
       "       [ 0.07447822],\n",
       "       [ 0.07794233],\n",
       "       [ 0.08140643],\n",
       "       [ 0.08487053],\n",
       "       [ 0.08833464],\n",
       "       [ 0.09179874],\n",
       "       [ 0.09526284],\n",
       "       [ 0.09872695],\n",
       "       [ 0.10219105],\n",
       "       [ 0.10565515],\n",
       "       [ 0.10911926],\n",
       "       [ 0.11258336],\n",
       "       [ 0.11604746],\n",
       "       [ 0.11951157],\n",
       "       [ 0.12297567],\n",
       "       [ 0.12643977],\n",
       "       [ 0.12990388],\n",
       "       [ 0.13336798],\n",
       "       [ 0.13683208],\n",
       "       [ 0.14029619],\n",
       "       [ 0.14376029],\n",
       "       [ 0.14722439],\n",
       "       [ 0.1506885 ],\n",
       "       [ 0.1541526 ],\n",
       "       [ 0.1576167 ],\n",
       "       [ 0.16108081],\n",
       "       [ 0.16454491],\n",
       "       [ 0.16800901],\n",
       "       [ 0.17147312],\n",
       "       [ 0.17493722],\n",
       "       [ 0.17840132],\n",
       "       [ 0.18186543],\n",
       "       [ 0.18532953],\n",
       "       [ 0.18879363],\n",
       "       [ 0.19225774],\n",
       "       [ 0.19572184],\n",
       "       [ 0.19918594],\n",
       "       [ 0.20265005],\n",
       "       [ 0.20611415],\n",
       "       [ 0.20957825],\n",
       "       [ 0.21304236],\n",
       "       [ 0.21650646],\n",
       "       [ 0.21997056],\n",
       "       [ 0.22343467],\n",
       "       [ 0.22689877],\n",
       "       [ 0.23036287],\n",
       "       [ 0.23382698],\n",
       "       [ 0.23729108],\n",
       "       [ 0.24075518],\n",
       "       [ 0.24421929],\n",
       "       [ 0.24768339],\n",
       "       [ 0.25114749],\n",
       "       [ 0.2546116 ],\n",
       "       [ 0.2580757 ],\n",
       "       [ 0.2615398 ],\n",
       "       [ 0.26500391],\n",
       "       [ 0.26846801],\n",
       "       [ 0.27193211],\n",
       "       [ 0.27539622],\n",
       "       [ 0.27886032],\n",
       "       [ 0.28232442],\n",
       "       [ 0.28578853],\n",
       "       [ 0.28925263],\n",
       "       [ 0.29271673],\n",
       "       [ 0.29618084],\n",
       "       [ 0.29964494],\n",
       "       [ 0.30310904],\n",
       "       [ 0.30657315],\n",
       "       [ 0.31003725],\n",
       "       [ 0.31350135],\n",
       "       [ 0.31696546],\n",
       "       [ 0.32042956],\n",
       "       [ 0.32389366],\n",
       "       [ 0.32735777],\n",
       "       [ 0.33082187],\n",
       "       [ 0.33428597],\n",
       "       [ 0.33775008],\n",
       "       [ 0.34121418],\n",
       "       [ 0.34467828],\n",
       "       [ 0.34814239],\n",
       "       [ 0.35160649],\n",
       "       [ 0.35507059],\n",
       "       [ 0.3585347 ],\n",
       "       [ 0.3619988 ],\n",
       "       [ 0.3654629 ],\n",
       "       [ 0.36892701],\n",
       "       [ 0.37239111],\n",
       "       [ 0.37585521],\n",
       "       [ 0.37931932],\n",
       "       [ 0.38278342],\n",
       "       [ 0.38624752],\n",
       "       [ 0.38971163],\n",
       "       [ 0.39317573],\n",
       "       [ 0.39663983],\n",
       "       [ 0.40010394],\n",
       "       [ 0.40356804],\n",
       "       [ 0.40703214],\n",
       "       [ 0.41049625],\n",
       "       [ 0.41396035],\n",
       "       [ 0.41742445],\n",
       "       [ 0.42088856],\n",
       "       [ 0.42435266],\n",
       "       [ 0.42781676],\n",
       "       [ 0.43128087],\n",
       "       [ 0.43474497],\n",
       "       [ 0.43820907],\n",
       "       [ 0.44167318],\n",
       "       [ 0.44513728],\n",
       "       [ 0.44860138],\n",
       "       [ 0.45206549],\n",
       "       [ 0.45552959],\n",
       "       [ 0.45899369],\n",
       "       [ 0.4624578 ],\n",
       "       [ 0.4659219 ],\n",
       "       [ 0.469386  ],\n",
       "       [ 0.47285011],\n",
       "       [ 0.47631421],\n",
       "       [ 0.47977831],\n",
       "       [ 0.48324242],\n",
       "       [ 0.48670652],\n",
       "       [ 0.49017062],\n",
       "       [ 0.49363473],\n",
       "       [ 0.49709883],\n",
       "       [ 0.50056293],\n",
       "       [ 0.50402704],\n",
       "       [ 0.50749114],\n",
       "       [ 0.51095524],\n",
       "       [ 0.51441935],\n",
       "       [ 0.51788345],\n",
       "       [ 0.52134755],\n",
       "       [ 0.52481166],\n",
       "       [ 0.52827576],\n",
       "       [ 0.53173986],\n",
       "       [ 0.53520397],\n",
       "       [ 0.53866807],\n",
       "       [ 0.54213217],\n",
       "       [ 0.54559628],\n",
       "       [ 0.54906038],\n",
       "       [ 0.55252448],\n",
       "       [ 0.55598859],\n",
       "       [ 0.55945269],\n",
       "       [ 0.56291679],\n",
       "       [ 0.5663809 ],\n",
       "       [ 0.569845  ],\n",
       "       [ 0.5733091 ],\n",
       "       [ 0.57677321],\n",
       "       [ 0.58023731],\n",
       "       [ 0.58370141],\n",
       "       [ 0.58716552],\n",
       "       [ 0.59062962],\n",
       "       [ 0.59409372],\n",
       "       [ 0.59755783],\n",
       "       [ 0.60102193],\n",
       "       [ 0.60448603],\n",
       "       [ 0.60795014],\n",
       "       [ 0.61141424],\n",
       "       [ 0.61487834],\n",
       "       [ 0.61834245],\n",
       "       [ 0.62180655],\n",
       "       [ 0.62527065],\n",
       "       [ 0.62873476],\n",
       "       [ 0.63219886],\n",
       "       [ 0.63566296],\n",
       "       [ 0.63912707],\n",
       "       [ 0.64259117],\n",
       "       [ 0.64605527],\n",
       "       [ 0.64951938],\n",
       "       [ 0.65298348],\n",
       "       [ 0.65644758],\n",
       "       [ 0.65991169],\n",
       "       [ 0.66337579],\n",
       "       [ 0.66683989],\n",
       "       [ 0.670304  ],\n",
       "       [ 0.6737681 ],\n",
       "       [ 0.6772322 ],\n",
       "       [ 0.68069631],\n",
       "       [ 0.68416041],\n",
       "       [ 0.68762451],\n",
       "       [ 0.69108862],\n",
       "       [ 0.69455272],\n",
       "       [ 0.69801682],\n",
       "       [ 0.70148093],\n",
       "       [ 0.70494503],\n",
       "       [ 0.70840913],\n",
       "       [ 0.71187324],\n",
       "       [ 0.71533734],\n",
       "       [ 0.71880144],\n",
       "       [ 0.72226555],\n",
       "       [ 0.72572965],\n",
       "       [ 0.72919375],\n",
       "       [ 0.73265786],\n",
       "       [ 0.73612196],\n",
       "       [ 0.73958606],\n",
       "       [ 0.74305017],\n",
       "       [ 0.74651427],\n",
       "       [ 0.74997837],\n",
       "       [ 0.75344248],\n",
       "       [ 0.75690658],\n",
       "       [ 0.76037068],\n",
       "       [ 0.76383479],\n",
       "       [ 0.76729889],\n",
       "       [ 0.77076299],\n",
       "       [ 0.7742271 ],\n",
       "       [ 0.7776912 ],\n",
       "       [ 0.7811553 ],\n",
       "       [ 0.78461941],\n",
       "       [ 0.78808351],\n",
       "       [ 0.79154761],\n",
       "       [ 0.79501172],\n",
       "       [ 0.79847582],\n",
       "       [ 0.80193992],\n",
       "       [ 0.80540403],\n",
       "       [ 0.80886813],\n",
       "       [ 0.81233223],\n",
       "       [ 0.81579634],\n",
       "       [ 0.81926044],\n",
       "       [ 0.82272454],\n",
       "       [ 0.82618865],\n",
       "       [ 0.82965275],\n",
       "       [ 0.83311685],\n",
       "       [ 0.83658096],\n",
       "       [ 0.84004506],\n",
       "       [ 0.84350917],\n",
       "       [ 0.84697327],\n",
       "       [ 0.85043737],\n",
       "       [ 0.85390148],\n",
       "       [ 0.85736558],\n",
       "       [ 0.86082968],\n",
       "       [ 0.86429379],\n",
       "       [ 0.86775789],\n",
       "       [ 0.87122199],\n",
       "       [ 0.8746861 ],\n",
       "       [ 0.8781502 ],\n",
       "       [ 0.8816143 ],\n",
       "       [ 0.88507841],\n",
       "       [ 0.88854251],\n",
       "       [ 0.89200661],\n",
       "       [ 0.89547072],\n",
       "       [ 0.89893482],\n",
       "       [ 0.90239892],\n",
       "       [ 0.90586303],\n",
       "       [ 0.90932713],\n",
       "       [ 0.91279123],\n",
       "       [ 0.91625534],\n",
       "       [ 0.91971944],\n",
       "       [ 0.92318354],\n",
       "       [ 0.92664765],\n",
       "       [ 0.93011175],\n",
       "       [ 0.93357585],\n",
       "       [ 0.93703996],\n",
       "       [ 0.94050406],\n",
       "       [ 0.94396816],\n",
       "       [ 0.94743227],\n",
       "       [ 0.95089637],\n",
       "       [ 0.95436047],\n",
       "       [ 0.95782458],\n",
       "       [ 0.96128868],\n",
       "       [ 0.96475278],\n",
       "       [ 0.96821689],\n",
       "       [ 0.97168099],\n",
       "       [ 0.97514509],\n",
       "       [ 0.9786092 ],\n",
       "       [ 0.9820733 ],\n",
       "       [ 0.9855374 ],\n",
       "       [ 0.98900151],\n",
       "       [ 0.99246561],\n",
       "       [ 0.99592971],\n",
       "       [ 0.99939382],\n",
       "       [ 1.00285792],\n",
       "       [ 1.00632202],\n",
       "       [ 1.00978613],\n",
       "       [ 1.01325023],\n",
       "       [ 1.01671433],\n",
       "       [ 1.02017844],\n",
       "       [ 1.02364254],\n",
       "       [ 1.02710664],\n",
       "       [ 1.03057075],\n",
       "       [ 1.03403485],\n",
       "       [ 1.03749895],\n",
       "       [ 1.04096306],\n",
       "       [ 1.04442716],\n",
       "       [ 1.04789126],\n",
       "       [ 1.05135537],\n",
       "       [ 1.05481947],\n",
       "       [ 1.05828357],\n",
       "       [ 1.06174768],\n",
       "       [ 1.06521178],\n",
       "       [ 1.06867588],\n",
       "       [ 1.07213999],\n",
       "       [ 1.07560409],\n",
       "       [ 1.07906819],\n",
       "       [ 1.0825323 ],\n",
       "       [ 1.0859964 ],\n",
       "       [ 1.0894605 ],\n",
       "       [ 1.09292461],\n",
       "       [ 1.09638871],\n",
       "       [ 1.09985281],\n",
       "       [ 1.10331692],\n",
       "       [ 1.10678102],\n",
       "       [ 1.11024512],\n",
       "       [ 1.11370923],\n",
       "       [ 1.11717333],\n",
       "       [ 1.12063743],\n",
       "       [ 1.12410154],\n",
       "       [ 1.12756564],\n",
       "       [ 1.13102974],\n",
       "       [ 1.13449385],\n",
       "       [ 1.13795795],\n",
       "       [ 1.14142205],\n",
       "       [ 1.14488616],\n",
       "       [ 1.14835026],\n",
       "       [ 1.15181436],\n",
       "       [ 1.15527847],\n",
       "       [ 1.15874257],\n",
       "       [ 1.16220667],\n",
       "       [ 1.16567078],\n",
       "       [ 1.16913488],\n",
       "       [ 1.17259898],\n",
       "       [ 1.17606309],\n",
       "       [ 1.17952719],\n",
       "       [ 1.18299129],\n",
       "       [ 1.1864554 ],\n",
       "       [ 1.1899195 ],\n",
       "       [ 1.1933836 ],\n",
       "       [ 1.19684771],\n",
       "       [ 1.20031181],\n",
       "       [ 1.20377591],\n",
       "       [ 1.20724002],\n",
       "       [ 1.21070412],\n",
       "       [ 1.21416822],\n",
       "       [ 1.21763233],\n",
       "       [ 1.22109643],\n",
       "       [ 1.22456053],\n",
       "       [ 1.22802464],\n",
       "       [ 1.23148874],\n",
       "       [ 1.23495284],\n",
       "       [ 1.23841695],\n",
       "       [ 1.24188105],\n",
       "       [ 1.24534515],\n",
       "       [ 1.24880926],\n",
       "       [ 1.25227336],\n",
       "       [ 1.25573746],\n",
       "       [ 1.25920157],\n",
       "       [ 1.26266567],\n",
       "       [ 1.26612977],\n",
       "       [ 1.26959388],\n",
       "       [ 1.27305798],\n",
       "       [ 1.27652208],\n",
       "       [ 1.27998619],\n",
       "       [ 1.28345029],\n",
       "       [ 1.28691439],\n",
       "       [ 1.2903785 ],\n",
       "       [ 1.2938426 ],\n",
       "       [ 1.2973067 ],\n",
       "       [ 1.30077081],\n",
       "       [ 1.30423491],\n",
       "       [ 1.30769901],\n",
       "       [ 1.31116312],\n",
       "       [ 1.31462722],\n",
       "       [ 1.31809132],\n",
       "       [ 1.32155543],\n",
       "       [ 1.32501953],\n",
       "       [ 1.32848363],\n",
       "       [ 1.33194774],\n",
       "       [ 1.33541184],\n",
       "       [ 1.33887594],\n",
       "       [ 1.34234005],\n",
       "       [ 1.34580415],\n",
       "       [ 1.34926825],\n",
       "       [ 1.35273236],\n",
       "       [ 1.35619646],\n",
       "       [ 1.35966056],\n",
       "       [ 1.36312467],\n",
       "       [ 1.36658877],\n",
       "       [ 1.37005287],\n",
       "       [ 1.37351698],\n",
       "       [ 1.37698108],\n",
       "       [ 1.38044518],\n",
       "       [ 1.38390929],\n",
       "       [ 1.38737339],\n",
       "       [ 1.39083749],\n",
       "       [ 1.3943016 ],\n",
       "       [ 1.3977657 ],\n",
       "       [ 1.4012298 ],\n",
       "       [ 1.40469391],\n",
       "       [ 1.40815801],\n",
       "       [ 1.41162211],\n",
       "       [ 1.41508622],\n",
       "       [ 1.41855032],\n",
       "       [ 1.42201442],\n",
       "       [ 1.42547853],\n",
       "       [ 1.42894263],\n",
       "       [ 1.43240673],\n",
       "       [ 1.43587084],\n",
       "       [ 1.43933494],\n",
       "       [ 1.44279904],\n",
       "       [ 1.44626315],\n",
       "       [ 1.44972725],\n",
       "       [ 1.45319135],\n",
       "       [ 1.45665546],\n",
       "       [ 1.46011956],\n",
       "       [ 1.46358366],\n",
       "       [ 1.46704777],\n",
       "       [ 1.47051187],\n",
       "       [ 1.47397597],\n",
       "       [ 1.47744008],\n",
       "       [ 1.48090418],\n",
       "       [ 1.48436828],\n",
       "       [ 1.48783239],\n",
       "       [ 1.49129649],\n",
       "       [ 1.49476059],\n",
       "       [ 1.4982247 ],\n",
       "       [ 1.5016888 ],\n",
       "       [ 1.5051529 ],\n",
       "       [ 1.50861701],\n",
       "       [ 1.51208111],\n",
       "       [ 1.51554521],\n",
       "       [ 1.51900932],\n",
       "       [ 1.52247342],\n",
       "       [ 1.52593752],\n",
       "       [ 1.52940163],\n",
       "       [ 1.53286573],\n",
       "       [ 1.53632983],\n",
       "       [ 1.53979394],\n",
       "       [ 1.54325804],\n",
       "       [ 1.54672214],\n",
       "       [ 1.55018625],\n",
       "       [ 1.55365035],\n",
       "       [ 1.55711445],\n",
       "       [ 1.56057856],\n",
       "       [ 1.56404266],\n",
       "       [ 1.56750676],\n",
       "       [ 1.57097087],\n",
       "       [ 1.57443497],\n",
       "       [ 1.57789907],\n",
       "       [ 1.58136318],\n",
       "       [ 1.58482728],\n",
       "       [ 1.58829138],\n",
       "       [ 1.59175549],\n",
       "       [ 1.59521959],\n",
       "       [ 1.59868369],\n",
       "       [ 1.6021478 ],\n",
       "       [ 1.6056119 ],\n",
       "       [ 1.609076  ],\n",
       "       [ 1.61254011],\n",
       "       [ 1.61600421],\n",
       "       [ 1.61946831],\n",
       "       [ 1.62293242],\n",
       "       [ 1.62639652],\n",
       "       [ 1.62986062],\n",
       "       [ 1.63332473],\n",
       "       [ 1.63678883],\n",
       "       [ 1.64025293],\n",
       "       [ 1.64371704],\n",
       "       [ 1.64718114],\n",
       "       [ 1.65064524],\n",
       "       [ 1.65410935],\n",
       "       [ 1.65757345],\n",
       "       [ 1.66103755],\n",
       "       [ 1.66450166],\n",
       "       [ 1.66796576],\n",
       "       [ 1.67142987],\n",
       "       [ 1.67489397],\n",
       "       [ 1.67835807],\n",
       "       [ 1.68182218],\n",
       "       [ 1.68528628],\n",
       "       [ 1.68875038],\n",
       "       [ 1.69221449],\n",
       "       [ 1.69567859],\n",
       "       [ 1.69914269],\n",
       "       [ 1.7026068 ],\n",
       "       [ 1.7060709 ],\n",
       "       [ 1.709535  ],\n",
       "       [ 1.71299911],\n",
       "       [ 1.71646321],\n",
       "       [ 1.71992731],\n",
       "       [ 1.72339142],\n",
       "       [ 1.72685552],\n",
       "       [ 1.73031962]])"
      ]
     },
     "execution_count": 14,
     "metadata": {},
     "output_type": "execute_result"
    }
   ],
   "source": [
    "StandardScaler().fit(data).transform(data)"
   ]
  },
  {
   "cell_type": "code",
   "execution_count": null,
   "metadata": {
    "slideshow": {
     "slide_type": "subslide"
    }
   },
   "outputs": [],
   "source": [
    "StandardScaler().fit(data.reshape(-1, 1)).transform(data.reshape(-1, 1))"
   ]
  },
  {
   "cell_type": "code",
   "execution_count": 15,
   "metadata": {
    "slideshow": {
     "slide_type": "subslide"
    }
   },
   "outputs": [
    {
     "name": "stderr",
     "output_type": "stream",
     "text": [
      "/home/jens/.virtualenvs/keras/lib/python3.6/site-packages/sklearn/utils/validation.py:595: DataConversionWarning: Data with input dtype int64 was converted to float64 by StandardScaler.\n",
      "  warnings.warn(msg, DataConversionWarning)\n",
      "/home/jens/.virtualenvs/keras/lib/python3.6/site-packages/sklearn/utils/validation.py:595: DataConversionWarning: Data with input dtype int64 was converted to float64 by StandardScaler.\n",
      "  warnings.warn(msg, DataConversionWarning)\n"
     ]
    },
    {
     "data": {
      "text/plain": [
       "array([[-1.73031962],\n",
       "       [-1.72685552],\n",
       "       [-1.72339142],\n",
       "       [-1.71992731],\n",
       "       [-1.71646321],\n",
       "       [-1.71299911],\n",
       "       [-1.709535  ],\n",
       "       [-1.7060709 ],\n",
       "       [-1.7026068 ],\n",
       "       [-1.69914269],\n",
       "       [-1.69567859],\n",
       "       [-1.69221449],\n",
       "       [-1.68875038],\n",
       "       [-1.68528628],\n",
       "       [-1.68182218],\n",
       "       [-1.67835807],\n",
       "       [-1.67489397],\n",
       "       [-1.67142987],\n",
       "       [-1.66796576],\n",
       "       [-1.66450166],\n",
       "       [-1.66103755],\n",
       "       [-1.65757345],\n",
       "       [-1.65410935],\n",
       "       [-1.65064524],\n",
       "       [-1.64718114],\n",
       "       [-1.64371704],\n",
       "       [-1.64025293],\n",
       "       [-1.63678883],\n",
       "       [-1.63332473],\n",
       "       [-1.62986062],\n",
       "       [-1.62639652],\n",
       "       [-1.62293242],\n",
       "       [-1.61946831],\n",
       "       [-1.61600421],\n",
       "       [-1.61254011],\n",
       "       [-1.609076  ],\n",
       "       [-1.6056119 ],\n",
       "       [-1.6021478 ],\n",
       "       [-1.59868369],\n",
       "       [-1.59521959],\n",
       "       [-1.59175549],\n",
       "       [-1.58829138],\n",
       "       [-1.58482728],\n",
       "       [-1.58136318],\n",
       "       [-1.57789907],\n",
       "       [-1.57443497],\n",
       "       [-1.57097087],\n",
       "       [-1.56750676],\n",
       "       [-1.56404266],\n",
       "       [-1.56057856],\n",
       "       [-1.55711445],\n",
       "       [-1.55365035],\n",
       "       [-1.55018625],\n",
       "       [-1.54672214],\n",
       "       [-1.54325804],\n",
       "       [-1.53979394],\n",
       "       [-1.53632983],\n",
       "       [-1.53286573],\n",
       "       [-1.52940163],\n",
       "       [-1.52593752],\n",
       "       [-1.52247342],\n",
       "       [-1.51900932],\n",
       "       [-1.51554521],\n",
       "       [-1.51208111],\n",
       "       [-1.50861701],\n",
       "       [-1.5051529 ],\n",
       "       [-1.5016888 ],\n",
       "       [-1.4982247 ],\n",
       "       [-1.49476059],\n",
       "       [-1.49129649],\n",
       "       [-1.48783239],\n",
       "       [-1.48436828],\n",
       "       [-1.48090418],\n",
       "       [-1.47744008],\n",
       "       [-1.47397597],\n",
       "       [-1.47051187],\n",
       "       [-1.46704777],\n",
       "       [-1.46358366],\n",
       "       [-1.46011956],\n",
       "       [-1.45665546],\n",
       "       [-1.45319135],\n",
       "       [-1.44972725],\n",
       "       [-1.44626315],\n",
       "       [-1.44279904],\n",
       "       [-1.43933494],\n",
       "       [-1.43587084],\n",
       "       [-1.43240673],\n",
       "       [-1.42894263],\n",
       "       [-1.42547853],\n",
       "       [-1.42201442],\n",
       "       [-1.41855032],\n",
       "       [-1.41508622],\n",
       "       [-1.41162211],\n",
       "       [-1.40815801],\n",
       "       [-1.40469391],\n",
       "       [-1.4012298 ],\n",
       "       [-1.3977657 ],\n",
       "       [-1.3943016 ],\n",
       "       [-1.39083749],\n",
       "       [-1.38737339],\n",
       "       [-1.38390929],\n",
       "       [-1.38044518],\n",
       "       [-1.37698108],\n",
       "       [-1.37351698],\n",
       "       [-1.37005287],\n",
       "       [-1.36658877],\n",
       "       [-1.36312467],\n",
       "       [-1.35966056],\n",
       "       [-1.35619646],\n",
       "       [-1.35273236],\n",
       "       [-1.34926825],\n",
       "       [-1.34580415],\n",
       "       [-1.34234005],\n",
       "       [-1.33887594],\n",
       "       [-1.33541184],\n",
       "       [-1.33194774],\n",
       "       [-1.32848363],\n",
       "       [-1.32501953],\n",
       "       [-1.32155543],\n",
       "       [-1.31809132],\n",
       "       [-1.31462722],\n",
       "       [-1.31116312],\n",
       "       [-1.30769901],\n",
       "       [-1.30423491],\n",
       "       [-1.30077081],\n",
       "       [-1.2973067 ],\n",
       "       [-1.2938426 ],\n",
       "       [-1.2903785 ],\n",
       "       [-1.28691439],\n",
       "       [-1.28345029],\n",
       "       [-1.27998619],\n",
       "       [-1.27652208],\n",
       "       [-1.27305798],\n",
       "       [-1.26959388],\n",
       "       [-1.26612977],\n",
       "       [-1.26266567],\n",
       "       [-1.25920157],\n",
       "       [-1.25573746],\n",
       "       [-1.25227336],\n",
       "       [-1.24880926],\n",
       "       [-1.24534515],\n",
       "       [-1.24188105],\n",
       "       [-1.23841695],\n",
       "       [-1.23495284],\n",
       "       [-1.23148874],\n",
       "       [-1.22802464],\n",
       "       [-1.22456053],\n",
       "       [-1.22109643],\n",
       "       [-1.21763233],\n",
       "       [-1.21416822],\n",
       "       [-1.21070412],\n",
       "       [-1.20724002],\n",
       "       [-1.20377591],\n",
       "       [-1.20031181],\n",
       "       [-1.19684771],\n",
       "       [-1.1933836 ],\n",
       "       [-1.1899195 ],\n",
       "       [-1.1864554 ],\n",
       "       [-1.18299129],\n",
       "       [-1.17952719],\n",
       "       [-1.17606309],\n",
       "       [-1.17259898],\n",
       "       [-1.16913488],\n",
       "       [-1.16567078],\n",
       "       [-1.16220667],\n",
       "       [-1.15874257],\n",
       "       [-1.15527847],\n",
       "       [-1.15181436],\n",
       "       [-1.14835026],\n",
       "       [-1.14488616],\n",
       "       [-1.14142205],\n",
       "       [-1.13795795],\n",
       "       [-1.13449385],\n",
       "       [-1.13102974],\n",
       "       [-1.12756564],\n",
       "       [-1.12410154],\n",
       "       [-1.12063743],\n",
       "       [-1.11717333],\n",
       "       [-1.11370923],\n",
       "       [-1.11024512],\n",
       "       [-1.10678102],\n",
       "       [-1.10331692],\n",
       "       [-1.09985281],\n",
       "       [-1.09638871],\n",
       "       [-1.09292461],\n",
       "       [-1.0894605 ],\n",
       "       [-1.0859964 ],\n",
       "       [-1.0825323 ],\n",
       "       [-1.07906819],\n",
       "       [-1.07560409],\n",
       "       [-1.07213999],\n",
       "       [-1.06867588],\n",
       "       [-1.06521178],\n",
       "       [-1.06174768],\n",
       "       [-1.05828357],\n",
       "       [-1.05481947],\n",
       "       [-1.05135537],\n",
       "       [-1.04789126],\n",
       "       [-1.04442716],\n",
       "       [-1.04096306],\n",
       "       [-1.03749895],\n",
       "       [-1.03403485],\n",
       "       [-1.03057075],\n",
       "       [-1.02710664],\n",
       "       [-1.02364254],\n",
       "       [-1.02017844],\n",
       "       [-1.01671433],\n",
       "       [-1.01325023],\n",
       "       [-1.00978613],\n",
       "       [-1.00632202],\n",
       "       [-1.00285792],\n",
       "       [-0.99939382],\n",
       "       [-0.99592971],\n",
       "       [-0.99246561],\n",
       "       [-0.98900151],\n",
       "       [-0.9855374 ],\n",
       "       [-0.9820733 ],\n",
       "       [-0.9786092 ],\n",
       "       [-0.97514509],\n",
       "       [-0.97168099],\n",
       "       [-0.96821689],\n",
       "       [-0.96475278],\n",
       "       [-0.96128868],\n",
       "       [-0.95782458],\n",
       "       [-0.95436047],\n",
       "       [-0.95089637],\n",
       "       [-0.94743227],\n",
       "       [-0.94396816],\n",
       "       [-0.94050406],\n",
       "       [-0.93703996],\n",
       "       [-0.93357585],\n",
       "       [-0.93011175],\n",
       "       [-0.92664765],\n",
       "       [-0.92318354],\n",
       "       [-0.91971944],\n",
       "       [-0.91625534],\n",
       "       [-0.91279123],\n",
       "       [-0.90932713],\n",
       "       [-0.90586303],\n",
       "       [-0.90239892],\n",
       "       [-0.89893482],\n",
       "       [-0.89547072],\n",
       "       [-0.89200661],\n",
       "       [-0.88854251],\n",
       "       [-0.88507841],\n",
       "       [-0.8816143 ],\n",
       "       [-0.8781502 ],\n",
       "       [-0.8746861 ],\n",
       "       [-0.87122199],\n",
       "       [-0.86775789],\n",
       "       [-0.86429379],\n",
       "       [-0.86082968],\n",
       "       [-0.85736558],\n",
       "       [-0.85390148],\n",
       "       [-0.85043737],\n",
       "       [-0.84697327],\n",
       "       [-0.84350917],\n",
       "       [-0.84004506],\n",
       "       [-0.83658096],\n",
       "       [-0.83311685],\n",
       "       [-0.82965275],\n",
       "       [-0.82618865],\n",
       "       [-0.82272454],\n",
       "       [-0.81926044],\n",
       "       [-0.81579634],\n",
       "       [-0.81233223],\n",
       "       [-0.80886813],\n",
       "       [-0.80540403],\n",
       "       [-0.80193992],\n",
       "       [-0.79847582],\n",
       "       [-0.79501172],\n",
       "       [-0.79154761],\n",
       "       [-0.78808351],\n",
       "       [-0.78461941],\n",
       "       [-0.7811553 ],\n",
       "       [-0.7776912 ],\n",
       "       [-0.7742271 ],\n",
       "       [-0.77076299],\n",
       "       [-0.76729889],\n",
       "       [-0.76383479],\n",
       "       [-0.76037068],\n",
       "       [-0.75690658],\n",
       "       [-0.75344248],\n",
       "       [-0.74997837],\n",
       "       [-0.74651427],\n",
       "       [-0.74305017],\n",
       "       [-0.73958606],\n",
       "       [-0.73612196],\n",
       "       [-0.73265786],\n",
       "       [-0.72919375],\n",
       "       [-0.72572965],\n",
       "       [-0.72226555],\n",
       "       [-0.71880144],\n",
       "       [-0.71533734],\n",
       "       [-0.71187324],\n",
       "       [-0.70840913],\n",
       "       [-0.70494503],\n",
       "       [-0.70148093],\n",
       "       [-0.69801682],\n",
       "       [-0.69455272],\n",
       "       [-0.69108862],\n",
       "       [-0.68762451],\n",
       "       [-0.68416041],\n",
       "       [-0.68069631],\n",
       "       [-0.6772322 ],\n",
       "       [-0.6737681 ],\n",
       "       [-0.670304  ],\n",
       "       [-0.66683989],\n",
       "       [-0.66337579],\n",
       "       [-0.65991169],\n",
       "       [-0.65644758],\n",
       "       [-0.65298348],\n",
       "       [-0.64951938],\n",
       "       [-0.64605527],\n",
       "       [-0.64259117],\n",
       "       [-0.63912707],\n",
       "       [-0.63566296],\n",
       "       [-0.63219886],\n",
       "       [-0.62873476],\n",
       "       [-0.62527065],\n",
       "       [-0.62180655],\n",
       "       [-0.61834245],\n",
       "       [-0.61487834],\n",
       "       [-0.61141424],\n",
       "       [-0.60795014],\n",
       "       [-0.60448603],\n",
       "       [-0.60102193],\n",
       "       [-0.59755783],\n",
       "       [-0.59409372],\n",
       "       [-0.59062962],\n",
       "       [-0.58716552],\n",
       "       [-0.58370141],\n",
       "       [-0.58023731],\n",
       "       [-0.57677321],\n",
       "       [-0.5733091 ],\n",
       "       [-0.569845  ],\n",
       "       [-0.5663809 ],\n",
       "       [-0.56291679],\n",
       "       [-0.55945269],\n",
       "       [-0.55598859],\n",
       "       [-0.55252448],\n",
       "       [-0.54906038],\n",
       "       [-0.54559628],\n",
       "       [-0.54213217],\n",
       "       [-0.53866807],\n",
       "       [-0.53520397],\n",
       "       [-0.53173986],\n",
       "       [-0.52827576],\n",
       "       [-0.52481166],\n",
       "       [-0.52134755],\n",
       "       [-0.51788345],\n",
       "       [-0.51441935],\n",
       "       [-0.51095524],\n",
       "       [-0.50749114],\n",
       "       [-0.50402704],\n",
       "       [-0.50056293],\n",
       "       [-0.49709883],\n",
       "       [-0.49363473],\n",
       "       [-0.49017062],\n",
       "       [-0.48670652],\n",
       "       [-0.48324242],\n",
       "       [-0.47977831],\n",
       "       [-0.47631421],\n",
       "       [-0.47285011],\n",
       "       [-0.469386  ],\n",
       "       [-0.4659219 ],\n",
       "       [-0.4624578 ],\n",
       "       [-0.45899369],\n",
       "       [-0.45552959],\n",
       "       [-0.45206549],\n",
       "       [-0.44860138],\n",
       "       [-0.44513728],\n",
       "       [-0.44167318],\n",
       "       [-0.43820907],\n",
       "       [-0.43474497],\n",
       "       [-0.43128087],\n",
       "       [-0.42781676],\n",
       "       [-0.42435266],\n",
       "       [-0.42088856],\n",
       "       [-0.41742445],\n",
       "       [-0.41396035],\n",
       "       [-0.41049625],\n",
       "       [-0.40703214],\n",
       "       [-0.40356804],\n",
       "       [-0.40010394],\n",
       "       [-0.39663983],\n",
       "       [-0.39317573],\n",
       "       [-0.38971163],\n",
       "       [-0.38624752],\n",
       "       [-0.38278342],\n",
       "       [-0.37931932],\n",
       "       [-0.37585521],\n",
       "       [-0.37239111],\n",
       "       [-0.36892701],\n",
       "       [-0.3654629 ],\n",
       "       [-0.3619988 ],\n",
       "       [-0.3585347 ],\n",
       "       [-0.35507059],\n",
       "       [-0.35160649],\n",
       "       [-0.34814239],\n",
       "       [-0.34467828],\n",
       "       [-0.34121418],\n",
       "       [-0.33775008],\n",
       "       [-0.33428597],\n",
       "       [-0.33082187],\n",
       "       [-0.32735777],\n",
       "       [-0.32389366],\n",
       "       [-0.32042956],\n",
       "       [-0.31696546],\n",
       "       [-0.31350135],\n",
       "       [-0.31003725],\n",
       "       [-0.30657315],\n",
       "       [-0.30310904],\n",
       "       [-0.29964494],\n",
       "       [-0.29618084],\n",
       "       [-0.29271673],\n",
       "       [-0.28925263],\n",
       "       [-0.28578853],\n",
       "       [-0.28232442],\n",
       "       [-0.27886032],\n",
       "       [-0.27539622],\n",
       "       [-0.27193211],\n",
       "       [-0.26846801],\n",
       "       [-0.26500391],\n",
       "       [-0.2615398 ],\n",
       "       [-0.2580757 ],\n",
       "       [-0.2546116 ],\n",
       "       [-0.25114749],\n",
       "       [-0.24768339],\n",
       "       [-0.24421929],\n",
       "       [-0.24075518],\n",
       "       [-0.23729108],\n",
       "       [-0.23382698],\n",
       "       [-0.23036287],\n",
       "       [-0.22689877],\n",
       "       [-0.22343467],\n",
       "       [-0.21997056],\n",
       "       [-0.21650646],\n",
       "       [-0.21304236],\n",
       "       [-0.20957825],\n",
       "       [-0.20611415],\n",
       "       [-0.20265005],\n",
       "       [-0.19918594],\n",
       "       [-0.19572184],\n",
       "       [-0.19225774],\n",
       "       [-0.18879363],\n",
       "       [-0.18532953],\n",
       "       [-0.18186543],\n",
       "       [-0.17840132],\n",
       "       [-0.17493722],\n",
       "       [-0.17147312],\n",
       "       [-0.16800901],\n",
       "       [-0.16454491],\n",
       "       [-0.16108081],\n",
       "       [-0.1576167 ],\n",
       "       [-0.1541526 ],\n",
       "       [-0.1506885 ],\n",
       "       [-0.14722439],\n",
       "       [-0.14376029],\n",
       "       [-0.14029619],\n",
       "       [-0.13683208],\n",
       "       [-0.13336798],\n",
       "       [-0.12990388],\n",
       "       [-0.12643977],\n",
       "       [-0.12297567],\n",
       "       [-0.11951157],\n",
       "       [-0.11604746],\n",
       "       [-0.11258336],\n",
       "       [-0.10911926],\n",
       "       [-0.10565515],\n",
       "       [-0.10219105],\n",
       "       [-0.09872695],\n",
       "       [-0.09526284],\n",
       "       [-0.09179874],\n",
       "       [-0.08833464],\n",
       "       [-0.08487053],\n",
       "       [-0.08140643],\n",
       "       [-0.07794233],\n",
       "       [-0.07447822],\n",
       "       [-0.07101412],\n",
       "       [-0.06755002],\n",
       "       [-0.06408591],\n",
       "       [-0.06062181],\n",
       "       [-0.05715771],\n",
       "       [-0.0536936 ],\n",
       "       [-0.0502295 ],\n",
       "       [-0.0467654 ],\n",
       "       [-0.04330129],\n",
       "       [-0.03983719],\n",
       "       [-0.03637309],\n",
       "       [-0.03290898],\n",
       "       [-0.02944488],\n",
       "       [-0.02598078],\n",
       "       [-0.02251667],\n",
       "       [-0.01905257],\n",
       "       [-0.01558847],\n",
       "       [-0.01212436],\n",
       "       [-0.00866026],\n",
       "       [-0.00519616],\n",
       "       [-0.00173205],\n",
       "       [ 0.00173205],\n",
       "       [ 0.00519616],\n",
       "       [ 0.00866026],\n",
       "       [ 0.01212436],\n",
       "       [ 0.01558847],\n",
       "       [ 0.01905257],\n",
       "       [ 0.02251667],\n",
       "       [ 0.02598078],\n",
       "       [ 0.02944488],\n",
       "       [ 0.03290898],\n",
       "       [ 0.03637309],\n",
       "       [ 0.03983719],\n",
       "       [ 0.04330129],\n",
       "       [ 0.0467654 ],\n",
       "       [ 0.0502295 ],\n",
       "       [ 0.0536936 ],\n",
       "       [ 0.05715771],\n",
       "       [ 0.06062181],\n",
       "       [ 0.06408591],\n",
       "       [ 0.06755002],\n",
       "       [ 0.07101412],\n",
       "       [ 0.07447822],\n",
       "       [ 0.07794233],\n",
       "       [ 0.08140643],\n",
       "       [ 0.08487053],\n",
       "       [ 0.08833464],\n",
       "       [ 0.09179874],\n",
       "       [ 0.09526284],\n",
       "       [ 0.09872695],\n",
       "       [ 0.10219105],\n",
       "       [ 0.10565515],\n",
       "       [ 0.10911926],\n",
       "       [ 0.11258336],\n",
       "       [ 0.11604746],\n",
       "       [ 0.11951157],\n",
       "       [ 0.12297567],\n",
       "       [ 0.12643977],\n",
       "       [ 0.12990388],\n",
       "       [ 0.13336798],\n",
       "       [ 0.13683208],\n",
       "       [ 0.14029619],\n",
       "       [ 0.14376029],\n",
       "       [ 0.14722439],\n",
       "       [ 0.1506885 ],\n",
       "       [ 0.1541526 ],\n",
       "       [ 0.1576167 ],\n",
       "       [ 0.16108081],\n",
       "       [ 0.16454491],\n",
       "       [ 0.16800901],\n",
       "       [ 0.17147312],\n",
       "       [ 0.17493722],\n",
       "       [ 0.17840132],\n",
       "       [ 0.18186543],\n",
       "       [ 0.18532953],\n",
       "       [ 0.18879363],\n",
       "       [ 0.19225774],\n",
       "       [ 0.19572184],\n",
       "       [ 0.19918594],\n",
       "       [ 0.20265005],\n",
       "       [ 0.20611415],\n",
       "       [ 0.20957825],\n",
       "       [ 0.21304236],\n",
       "       [ 0.21650646],\n",
       "       [ 0.21997056],\n",
       "       [ 0.22343467],\n",
       "       [ 0.22689877],\n",
       "       [ 0.23036287],\n",
       "       [ 0.23382698],\n",
       "       [ 0.23729108],\n",
       "       [ 0.24075518],\n",
       "       [ 0.24421929],\n",
       "       [ 0.24768339],\n",
       "       [ 0.25114749],\n",
       "       [ 0.2546116 ],\n",
       "       [ 0.2580757 ],\n",
       "       [ 0.2615398 ],\n",
       "       [ 0.26500391],\n",
       "       [ 0.26846801],\n",
       "       [ 0.27193211],\n",
       "       [ 0.27539622],\n",
       "       [ 0.27886032],\n",
       "       [ 0.28232442],\n",
       "       [ 0.28578853],\n",
       "       [ 0.28925263],\n",
       "       [ 0.29271673],\n",
       "       [ 0.29618084],\n",
       "       [ 0.29964494],\n",
       "       [ 0.30310904],\n",
       "       [ 0.30657315],\n",
       "       [ 0.31003725],\n",
       "       [ 0.31350135],\n",
       "       [ 0.31696546],\n",
       "       [ 0.32042956],\n",
       "       [ 0.32389366],\n",
       "       [ 0.32735777],\n",
       "       [ 0.33082187],\n",
       "       [ 0.33428597],\n",
       "       [ 0.33775008],\n",
       "       [ 0.34121418],\n",
       "       [ 0.34467828],\n",
       "       [ 0.34814239],\n",
       "       [ 0.35160649],\n",
       "       [ 0.35507059],\n",
       "       [ 0.3585347 ],\n",
       "       [ 0.3619988 ],\n",
       "       [ 0.3654629 ],\n",
       "       [ 0.36892701],\n",
       "       [ 0.37239111],\n",
       "       [ 0.37585521],\n",
       "       [ 0.37931932],\n",
       "       [ 0.38278342],\n",
       "       [ 0.38624752],\n",
       "       [ 0.38971163],\n",
       "       [ 0.39317573],\n",
       "       [ 0.39663983],\n",
       "       [ 0.40010394],\n",
       "       [ 0.40356804],\n",
       "       [ 0.40703214],\n",
       "       [ 0.41049625],\n",
       "       [ 0.41396035],\n",
       "       [ 0.41742445],\n",
       "       [ 0.42088856],\n",
       "       [ 0.42435266],\n",
       "       [ 0.42781676],\n",
       "       [ 0.43128087],\n",
       "       [ 0.43474497],\n",
       "       [ 0.43820907],\n",
       "       [ 0.44167318],\n",
       "       [ 0.44513728],\n",
       "       [ 0.44860138],\n",
       "       [ 0.45206549],\n",
       "       [ 0.45552959],\n",
       "       [ 0.45899369],\n",
       "       [ 0.4624578 ],\n",
       "       [ 0.4659219 ],\n",
       "       [ 0.469386  ],\n",
       "       [ 0.47285011],\n",
       "       [ 0.47631421],\n",
       "       [ 0.47977831],\n",
       "       [ 0.48324242],\n",
       "       [ 0.48670652],\n",
       "       [ 0.49017062],\n",
       "       [ 0.49363473],\n",
       "       [ 0.49709883],\n",
       "       [ 0.50056293],\n",
       "       [ 0.50402704],\n",
       "       [ 0.50749114],\n",
       "       [ 0.51095524],\n",
       "       [ 0.51441935],\n",
       "       [ 0.51788345],\n",
       "       [ 0.52134755],\n",
       "       [ 0.52481166],\n",
       "       [ 0.52827576],\n",
       "       [ 0.53173986],\n",
       "       [ 0.53520397],\n",
       "       [ 0.53866807],\n",
       "       [ 0.54213217],\n",
       "       [ 0.54559628],\n",
       "       [ 0.54906038],\n",
       "       [ 0.55252448],\n",
       "       [ 0.55598859],\n",
       "       [ 0.55945269],\n",
       "       [ 0.56291679],\n",
       "       [ 0.5663809 ],\n",
       "       [ 0.569845  ],\n",
       "       [ 0.5733091 ],\n",
       "       [ 0.57677321],\n",
       "       [ 0.58023731],\n",
       "       [ 0.58370141],\n",
       "       [ 0.58716552],\n",
       "       [ 0.59062962],\n",
       "       [ 0.59409372],\n",
       "       [ 0.59755783],\n",
       "       [ 0.60102193],\n",
       "       [ 0.60448603],\n",
       "       [ 0.60795014],\n",
       "       [ 0.61141424],\n",
       "       [ 0.61487834],\n",
       "       [ 0.61834245],\n",
       "       [ 0.62180655],\n",
       "       [ 0.62527065],\n",
       "       [ 0.62873476],\n",
       "       [ 0.63219886],\n",
       "       [ 0.63566296],\n",
       "       [ 0.63912707],\n",
       "       [ 0.64259117],\n",
       "       [ 0.64605527],\n",
       "       [ 0.64951938],\n",
       "       [ 0.65298348],\n",
       "       [ 0.65644758],\n",
       "       [ 0.65991169],\n",
       "       [ 0.66337579],\n",
       "       [ 0.66683989],\n",
       "       [ 0.670304  ],\n",
       "       [ 0.6737681 ],\n",
       "       [ 0.6772322 ],\n",
       "       [ 0.68069631],\n",
       "       [ 0.68416041],\n",
       "       [ 0.68762451],\n",
       "       [ 0.69108862],\n",
       "       [ 0.69455272],\n",
       "       [ 0.69801682],\n",
       "       [ 0.70148093],\n",
       "       [ 0.70494503],\n",
       "       [ 0.70840913],\n",
       "       [ 0.71187324],\n",
       "       [ 0.71533734],\n",
       "       [ 0.71880144],\n",
       "       [ 0.72226555],\n",
       "       [ 0.72572965],\n",
       "       [ 0.72919375],\n",
       "       [ 0.73265786],\n",
       "       [ 0.73612196],\n",
       "       [ 0.73958606],\n",
       "       [ 0.74305017],\n",
       "       [ 0.74651427],\n",
       "       [ 0.74997837],\n",
       "       [ 0.75344248],\n",
       "       [ 0.75690658],\n",
       "       [ 0.76037068],\n",
       "       [ 0.76383479],\n",
       "       [ 0.76729889],\n",
       "       [ 0.77076299],\n",
       "       [ 0.7742271 ],\n",
       "       [ 0.7776912 ],\n",
       "       [ 0.7811553 ],\n",
       "       [ 0.78461941],\n",
       "       [ 0.78808351],\n",
       "       [ 0.79154761],\n",
       "       [ 0.79501172],\n",
       "       [ 0.79847582],\n",
       "       [ 0.80193992],\n",
       "       [ 0.80540403],\n",
       "       [ 0.80886813],\n",
       "       [ 0.81233223],\n",
       "       [ 0.81579634],\n",
       "       [ 0.81926044],\n",
       "       [ 0.82272454],\n",
       "       [ 0.82618865],\n",
       "       [ 0.82965275],\n",
       "       [ 0.83311685],\n",
       "       [ 0.83658096],\n",
       "       [ 0.84004506],\n",
       "       [ 0.84350917],\n",
       "       [ 0.84697327],\n",
       "       [ 0.85043737],\n",
       "       [ 0.85390148],\n",
       "       [ 0.85736558],\n",
       "       [ 0.86082968],\n",
       "       [ 0.86429379],\n",
       "       [ 0.86775789],\n",
       "       [ 0.87122199],\n",
       "       [ 0.8746861 ],\n",
       "       [ 0.8781502 ],\n",
       "       [ 0.8816143 ],\n",
       "       [ 0.88507841],\n",
       "       [ 0.88854251],\n",
       "       [ 0.89200661],\n",
       "       [ 0.89547072],\n",
       "       [ 0.89893482],\n",
       "       [ 0.90239892],\n",
       "       [ 0.90586303],\n",
       "       [ 0.90932713],\n",
       "       [ 0.91279123],\n",
       "       [ 0.91625534],\n",
       "       [ 0.91971944],\n",
       "       [ 0.92318354],\n",
       "       [ 0.92664765],\n",
       "       [ 0.93011175],\n",
       "       [ 0.93357585],\n",
       "       [ 0.93703996],\n",
       "       [ 0.94050406],\n",
       "       [ 0.94396816],\n",
       "       [ 0.94743227],\n",
       "       [ 0.95089637],\n",
       "       [ 0.95436047],\n",
       "       [ 0.95782458],\n",
       "       [ 0.96128868],\n",
       "       [ 0.96475278],\n",
       "       [ 0.96821689],\n",
       "       [ 0.97168099],\n",
       "       [ 0.97514509],\n",
       "       [ 0.9786092 ],\n",
       "       [ 0.9820733 ],\n",
       "       [ 0.9855374 ],\n",
       "       [ 0.98900151],\n",
       "       [ 0.99246561],\n",
       "       [ 0.99592971],\n",
       "       [ 0.99939382],\n",
       "       [ 1.00285792],\n",
       "       [ 1.00632202],\n",
       "       [ 1.00978613],\n",
       "       [ 1.01325023],\n",
       "       [ 1.01671433],\n",
       "       [ 1.02017844],\n",
       "       [ 1.02364254],\n",
       "       [ 1.02710664],\n",
       "       [ 1.03057075],\n",
       "       [ 1.03403485],\n",
       "       [ 1.03749895],\n",
       "       [ 1.04096306],\n",
       "       [ 1.04442716],\n",
       "       [ 1.04789126],\n",
       "       [ 1.05135537],\n",
       "       [ 1.05481947],\n",
       "       [ 1.05828357],\n",
       "       [ 1.06174768],\n",
       "       [ 1.06521178],\n",
       "       [ 1.06867588],\n",
       "       [ 1.07213999],\n",
       "       [ 1.07560409],\n",
       "       [ 1.07906819],\n",
       "       [ 1.0825323 ],\n",
       "       [ 1.0859964 ],\n",
       "       [ 1.0894605 ],\n",
       "       [ 1.09292461],\n",
       "       [ 1.09638871],\n",
       "       [ 1.09985281],\n",
       "       [ 1.10331692],\n",
       "       [ 1.10678102],\n",
       "       [ 1.11024512],\n",
       "       [ 1.11370923],\n",
       "       [ 1.11717333],\n",
       "       [ 1.12063743],\n",
       "       [ 1.12410154],\n",
       "       [ 1.12756564],\n",
       "       [ 1.13102974],\n",
       "       [ 1.13449385],\n",
       "       [ 1.13795795],\n",
       "       [ 1.14142205],\n",
       "       [ 1.14488616],\n",
       "       [ 1.14835026],\n",
       "       [ 1.15181436],\n",
       "       [ 1.15527847],\n",
       "       [ 1.15874257],\n",
       "       [ 1.16220667],\n",
       "       [ 1.16567078],\n",
       "       [ 1.16913488],\n",
       "       [ 1.17259898],\n",
       "       [ 1.17606309],\n",
       "       [ 1.17952719],\n",
       "       [ 1.18299129],\n",
       "       [ 1.1864554 ],\n",
       "       [ 1.1899195 ],\n",
       "       [ 1.1933836 ],\n",
       "       [ 1.19684771],\n",
       "       [ 1.20031181],\n",
       "       [ 1.20377591],\n",
       "       [ 1.20724002],\n",
       "       [ 1.21070412],\n",
       "       [ 1.21416822],\n",
       "       [ 1.21763233],\n",
       "       [ 1.22109643],\n",
       "       [ 1.22456053],\n",
       "       [ 1.22802464],\n",
       "       [ 1.23148874],\n",
       "       [ 1.23495284],\n",
       "       [ 1.23841695],\n",
       "       [ 1.24188105],\n",
       "       [ 1.24534515],\n",
       "       [ 1.24880926],\n",
       "       [ 1.25227336],\n",
       "       [ 1.25573746],\n",
       "       [ 1.25920157],\n",
       "       [ 1.26266567],\n",
       "       [ 1.26612977],\n",
       "       [ 1.26959388],\n",
       "       [ 1.27305798],\n",
       "       [ 1.27652208],\n",
       "       [ 1.27998619],\n",
       "       [ 1.28345029],\n",
       "       [ 1.28691439],\n",
       "       [ 1.2903785 ],\n",
       "       [ 1.2938426 ],\n",
       "       [ 1.2973067 ],\n",
       "       [ 1.30077081],\n",
       "       [ 1.30423491],\n",
       "       [ 1.30769901],\n",
       "       [ 1.31116312],\n",
       "       [ 1.31462722],\n",
       "       [ 1.31809132],\n",
       "       [ 1.32155543],\n",
       "       [ 1.32501953],\n",
       "       [ 1.32848363],\n",
       "       [ 1.33194774],\n",
       "       [ 1.33541184],\n",
       "       [ 1.33887594],\n",
       "       [ 1.34234005],\n",
       "       [ 1.34580415],\n",
       "       [ 1.34926825],\n",
       "       [ 1.35273236],\n",
       "       [ 1.35619646],\n",
       "       [ 1.35966056],\n",
       "       [ 1.36312467],\n",
       "       [ 1.36658877],\n",
       "       [ 1.37005287],\n",
       "       [ 1.37351698],\n",
       "       [ 1.37698108],\n",
       "       [ 1.38044518],\n",
       "       [ 1.38390929],\n",
       "       [ 1.38737339],\n",
       "       [ 1.39083749],\n",
       "       [ 1.3943016 ],\n",
       "       [ 1.3977657 ],\n",
       "       [ 1.4012298 ],\n",
       "       [ 1.40469391],\n",
       "       [ 1.40815801],\n",
       "       [ 1.41162211],\n",
       "       [ 1.41508622],\n",
       "       [ 1.41855032],\n",
       "       [ 1.42201442],\n",
       "       [ 1.42547853],\n",
       "       [ 1.42894263],\n",
       "       [ 1.43240673],\n",
       "       [ 1.43587084],\n",
       "       [ 1.43933494],\n",
       "       [ 1.44279904],\n",
       "       [ 1.44626315],\n",
       "       [ 1.44972725],\n",
       "       [ 1.45319135],\n",
       "       [ 1.45665546],\n",
       "       [ 1.46011956],\n",
       "       [ 1.46358366],\n",
       "       [ 1.46704777],\n",
       "       [ 1.47051187],\n",
       "       [ 1.47397597],\n",
       "       [ 1.47744008],\n",
       "       [ 1.48090418],\n",
       "       [ 1.48436828],\n",
       "       [ 1.48783239],\n",
       "       [ 1.49129649],\n",
       "       [ 1.49476059],\n",
       "       [ 1.4982247 ],\n",
       "       [ 1.5016888 ],\n",
       "       [ 1.5051529 ],\n",
       "       [ 1.50861701],\n",
       "       [ 1.51208111],\n",
       "       [ 1.51554521],\n",
       "       [ 1.51900932],\n",
       "       [ 1.52247342],\n",
       "       [ 1.52593752],\n",
       "       [ 1.52940163],\n",
       "       [ 1.53286573],\n",
       "       [ 1.53632983],\n",
       "       [ 1.53979394],\n",
       "       [ 1.54325804],\n",
       "       [ 1.54672214],\n",
       "       [ 1.55018625],\n",
       "       [ 1.55365035],\n",
       "       [ 1.55711445],\n",
       "       [ 1.56057856],\n",
       "       [ 1.56404266],\n",
       "       [ 1.56750676],\n",
       "       [ 1.57097087],\n",
       "       [ 1.57443497],\n",
       "       [ 1.57789907],\n",
       "       [ 1.58136318],\n",
       "       [ 1.58482728],\n",
       "       [ 1.58829138],\n",
       "       [ 1.59175549],\n",
       "       [ 1.59521959],\n",
       "       [ 1.59868369],\n",
       "       [ 1.6021478 ],\n",
       "       [ 1.6056119 ],\n",
       "       [ 1.609076  ],\n",
       "       [ 1.61254011],\n",
       "       [ 1.61600421],\n",
       "       [ 1.61946831],\n",
       "       [ 1.62293242],\n",
       "       [ 1.62639652],\n",
       "       [ 1.62986062],\n",
       "       [ 1.63332473],\n",
       "       [ 1.63678883],\n",
       "       [ 1.64025293],\n",
       "       [ 1.64371704],\n",
       "       [ 1.64718114],\n",
       "       [ 1.65064524],\n",
       "       [ 1.65410935],\n",
       "       [ 1.65757345],\n",
       "       [ 1.66103755],\n",
       "       [ 1.66450166],\n",
       "       [ 1.66796576],\n",
       "       [ 1.67142987],\n",
       "       [ 1.67489397],\n",
       "       [ 1.67835807],\n",
       "       [ 1.68182218],\n",
       "       [ 1.68528628],\n",
       "       [ 1.68875038],\n",
       "       [ 1.69221449],\n",
       "       [ 1.69567859],\n",
       "       [ 1.69914269],\n",
       "       [ 1.7026068 ],\n",
       "       [ 1.7060709 ],\n",
       "       [ 1.709535  ],\n",
       "       [ 1.71299911],\n",
       "       [ 1.71646321],\n",
       "       [ 1.71992731],\n",
       "       [ 1.72339142],\n",
       "       [ 1.72685552],\n",
       "       [ 1.73031962]])"
      ]
     },
     "execution_count": 15,
     "metadata": {},
     "output_type": "execute_result"
    }
   ],
   "source": [
    "StandardScaler().fit_transform(data.reshape(-1, 1))"
   ]
  },
  {
   "cell_type": "code",
   "execution_count": 16,
   "metadata": {
    "slideshow": {
     "slide_type": "subslide"
    }
   },
   "outputs": [
    {
     "name": "stderr",
     "output_type": "stream",
     "text": [
      "/home/jens/.virtualenvs/keras/lib/python3.6/site-packages/sklearn/utils/validation.py:595: DataConversionWarning: Data with input dtype int64 was converted to float64 by StandardScaler.\n",
      "  warnings.warn(msg, DataConversionWarning)\n",
      "/home/jens/.virtualenvs/keras/lib/python3.6/site-packages/sklearn/utils/validation.py:595: DataConversionWarning: Data with input dtype int64 was converted to float64 by StandardScaler.\n",
      "  warnings.warn(msg, DataConversionWarning)\n",
      "/home/jens/.virtualenvs/keras/lib/python3.6/site-packages/sklearn/utils/validation.py:595: DataConversionWarning: Data with input dtype int64 was converted to float64 by StandardScaler.\n",
      "  warnings.warn(msg, DataConversionWarning)\n",
      "/home/jens/.virtualenvs/keras/lib/python3.6/site-packages/sklearn/utils/validation.py:595: DataConversionWarning: Data with input dtype int64 was converted to float64 by StandardScaler.\n",
      "  warnings.warn(msg, DataConversionWarning)\n"
     ]
    }
   ],
   "source": [
    "scaled_spending = StandardScaler().fit_transform(df['US science spending'].values.reshape(-1, 1))\n",
    "scaled_suicides = StandardScaler().fit_transform(df['Suicides'].values.reshape(-1, 1))"
   ]
  },
  {
   "cell_type": "code",
   "execution_count": 18,
   "metadata": {
    "slideshow": {
     "slide_type": "subslide"
    }
   },
   "outputs": [
    {
     "name": "stdout",
     "output_type": "stream",
     "text": [
      "epoch:  0 loss: [0.96102465]\n",
      "a, b:  [0.01984163] [5.65204449e-18]\n",
      "epoch:  10 loss: [0.64683085]\n",
      "a, b:  [0.19769078] [4.76386607e-17]\n",
      "epoch:  20 loss: [0.43707256]\n",
      "a, b:  [0.34300647] [8.8010407e-17]\n",
      "epoch:  30 loss: [0.29703626]\n",
      "a, b:  [0.46173998] [1.20307804e-16]\n",
      "epoch:  40 loss: [0.20354691]\n",
      "a, b:  [0.5587539] [1.54825647e-16]\n",
      "epoch:  50 loss: [0.14113267]\n",
      "a, b:  [0.63802133] [1.80663565e-16]\n",
      "epoch:  60 loss: [0.09946443]\n",
      "a, b:  [0.7027886] [2.01656873e-16]\n",
      "epoch:  70 loss: [0.07164638]\n",
      "a, b:  [0.75570817] [2.19824159e-16]\n",
      "epoch:  80 loss: [0.05307483]\n",
      "a, b:  [0.79894731] [2.39202597e-16]\n",
      "epoch:  90 loss: [0.04067631]\n",
      "a, b:  [0.83427684] [2.57571742e-16]\n",
      "epoch:  100 loss: [0.03239896]\n",
      "a, b:  [0.86314364] [2.75739028e-16]\n",
      "epoch:  110 loss: [0.02687294]\n",
      "a, b:  [0.88672991] [2.88456128e-16]\n",
      "epoch:  120 loss: [0.02318372]\n",
      "a, b:  [0.90600161] [2.96833265e-16]\n",
      "epoch:  130 loss: [0.02072077]\n",
      "a, b:  [0.921748] [3.06623414e-16]\n",
      "epoch:  140 loss: [0.01907648]\n",
      "a, b:  [0.93461394] [3.16413562e-16]\n",
      "epoch:  150 loss: [0.01797875]\n",
      "a, b:  [0.94512635] [3.26607428e-16]\n",
      "epoch:  160 loss: [0.01724589]\n",
      "a, b:  [0.95371576] [3.33722948e-16]\n",
      "epoch:  170 loss: [0.01675662]\n",
      "a, b:  [0.96073393] [3.32461331e-16]\n",
      "epoch:  180 loss: [0.01642999]\n",
      "a, b:  [0.96646828] [3.33016443e-16]\n",
      "epoch:  190 loss: [0.01621192]\n",
      "a, b:  [0.97115367] [3.33722948e-16]\n"
     ]
    },
    {
     "data": {
      "image/png": "[encoded data removed]",
      "text/plain": [
       "<Figure size 432x288 with 1 Axes>"
      ]
     },
     "metadata": {
      "needs_background": "light"
     },
     "output_type": "display_data"
    },
    {
     "data": {
      "image/png": "[encoded data removed]",
      "text/plain": [
       "<Figure size 432x288 with 1 Axes>"
      ]
     },
     "metadata": {
      "needs_background": "light"
     },
     "output_type": "display_data"
    },
    {
     "data": {
      "image/png": "[encoded data removed]",
      "text/plain": [
       "<Figure size 432x288 with 1 Axes>"
      ]
     },
     "metadata": {
      "needs_background": "light"
     },
     "output_type": "display_data"
    },
    {
     "data": {
      "image/png": "[encoded data removed]",
      "text/plain": [
       "<Figure size 432x288 with 1 Axes>"
      ]
     },
     "metadata": {
      "needs_background": "light"
     },
     "output_type": "display_data"
    },
    {
     "data": {
      "image/png": "[encoded data removed]",
      "text/plain": [
       "<Figure size 432x288 with 1 Axes>"
      ]
     },
     "metadata": {
      "needs_background": "light"
     },
     "output_type": "display_data"
    },
    {
     "data": {
      "image/png": "[encoded data removed]",
      "text/plain": [
       "<Figure size 432x288 with 1 Axes>"
      ]
     },
     "metadata": {
      "needs_background": "light"
     },
     "output_type": "display_data"
    },
    {
     "data": {
      "image/png": "[encoded data removed]",
      "text/plain": [
       "<Figure size 432x288 with 1 Axes>"
      ]
     },
     "metadata": {
      "needs_background": "light"
     },
     "output_type": "display_data"
    },
    {
     "data": {
      "image/png": "[encoded data removed]",
      "text/plain": [
       "<Figure size 432x288 with 1 Axes>"
      ]
     },
     "metadata": {
      "needs_background": "light"
     },
     "output_type": "display_data"
    },
    {
     "data": {
      "image/png": "[encoded data removed]",
      "text/plain": [
       "<Figure size 432x288 with 1 Axes>"
      ]
     },
     "metadata": {
      "needs_background": "light"
     },
     "output_type": "display_data"
    },
    {
     "data": {
      "image/png": "[encoded data removed]",
      "text/plain": [
       "<Figure size 432x288 with 1 Axes>"
      ]
     },
     "metadata": {
      "needs_background": "light"
     },
     "output_type": "display_data"
    },
    {
     "data": {
      "image/png": "[encoded data removed]",
      "text/plain": [
       "<Figure size 432x288 with 1 Axes>"
      ]
     },
     "metadata": {
      "needs_background": "light"
     },
     "output_type": "display_data"
    },
    {
     "data": {
      "image/png": "[encoded data removed]",
      "text/plain": [
       "<Figure size 432x288 with 1 Axes>"
      ]
     },
     "metadata": {
      "needs_background": "light"
     },
     "output_type": "display_data"
    },
    {
     "data": {
      "image/png": "[encoded data removed]",
      "text/plain": [
       "<Figure size 432x288 with 1 Axes>"
      ]
     },
     "metadata": {
      "needs_background": "light"
     },
     "output_type": "display_data"
    },
    {
     "data": {
      "image/png": "[encoded data removed]",
      "text/plain": [
       "<Figure size 432x288 with 1 Axes>"
      ]
     },
     "metadata": {
      "needs_background": "light"
     },
     "output_type": "display_data"
    },
    {
     "data": {
      "image/png": "[encoded data removed]",
      "text/plain": [
       "<Figure size 432x288 with 1 Axes>"
      ]
     },
     "metadata": {
      "needs_background": "light"
     },
     "output_type": "display_data"
    },
    {
     "data": {
      "image/png": "[encoded data removed]",
      "text/plain": [
       "<Figure size 432x288 with 1 Axes>"
      ]
     },
     "metadata": {
      "needs_background": "light"
     },
     "output_type": "display_data"
    },
    {
     "data": {
      "image/png": "[encoded data removed]",
      "text/plain": [
       "<Figure size 432x288 with 1 Axes>"
      ]
     },
     "metadata": {
      "needs_background": "light"
     },
     "output_type": "display_data"
    },
    {
     "data": {
      "image/png": "[encoded data removed]",
      "text/plain": [
       "<Figure size 432x288 with 1 Axes>"
      ]
     },
     "metadata": {
      "needs_background": "light"
     },
     "output_type": "display_data"
    },
    {
     "data": {
      "image/png": "[encoded data removed]",
      "text/plain": [
       "<Figure size 432x288 with 1 Axes>"
      ]
     },
     "metadata": {
      "needs_background": "light"
     },
     "output_type": "display_data"
    },
    {
     "data": {
      "image/png": "[encoded data removed]",
      "text/plain": [
       "<Figure size 432x288 with 1 Axes>"
      ]
     },
     "metadata": {
      "needs_background": "light"
     },
     "output_type": "display_data"
    }
   ],
   "source": [
    "train(scaled_spending, scaled_suicides, 0, 0, 0.01, 200)"
   ]
  },
  {
   "cell_type": "markdown",
   "metadata": {
    "slideshow": {
     "slide_type": "subslide"
    }
   },
   "source": [
    "## Gradient descent in `sklearn`"
   ]
  },
  {
   "cell_type": "markdown",
   "metadata": {
    "slideshow": {
     "slide_type": "subslide"
    }
   },
   "source": [
    "## Gradient descent: summary\n",
    "\n",
    "* We have a loss function for our models\n",
    "  * We like our loss to be **small**\n",
    "* That loss function can be in multiple dimensions\n",
    "  * It's **hard** to predict where the loss function is small\n",
    "* Gradients gives us an idea on the *direction* the function is going\n",
    "  * Direction **small** is good because it means a small loss"
   ]
  },
  {
   "cell_type": "markdown",
   "metadata": {
    "slideshow": {
     "slide_type": "fragment"
    }
   },
   "source": [
    "* Gradient descent steps in the direction of the loss\n",
    "  * Until you find the smallest point"
   ]
  },
  {
   "cell_type": "code",
   "execution_count": 19,
   "metadata": {
    "slideshow": {
     "slide_type": "fragment"
    }
   },
   "outputs": [],
   "source": [
    "from sklearn.linear_model import SGDRegressor\n",
    "SGDRegressor?"
   ]
  },
  {
   "cell_type": "markdown",
   "metadata": {
    "slideshow": {
     "slide_type": "subslide"
    }
   },
   "source": [
    "## Gradient descent example in sklearn"
   ]
  },
  {
   "cell_type": "code",
   "execution_count": 20,
   "metadata": {
    "slideshow": {
     "slide_type": "fragment"
    }
   },
   "outputs": [
    {
     "data": {
      "text/html": [
       "<div>\n",
       "<style scoped>\n",
       "    .dataframe tbody tr th:only-of-type {\n",
       "        vertical-align: middle;\n",
       "    }\n",
       "\n",
       "    .dataframe tbody tr th {\n",
       "        vertical-align: top;\n",
       "    }\n",
       "\n",
       "    .dataframe thead th {\n",
       "        text-align: right;\n",
       "    }\n",
       "</style>\n",
       "<table border=\"1\" class=\"dataframe\">\n",
       "  <thead>\n",
       "    <tr style=\"text-align: right;\">\n",
       "      <th></th>\n",
       "      <th>Year</th>\n",
       "      <th>US science spending</th>\n",
       "      <th>Suicides</th>\n",
       "    </tr>\n",
       "  </thead>\n",
       "  <tbody>\n",
       "    <tr>\n",
       "      <th>0</th>\n",
       "      <td>1999</td>\n",
       "      <td>18079</td>\n",
       "      <td>5427</td>\n",
       "    </tr>\n",
       "    <tr>\n",
       "      <th>1</th>\n",
       "      <td>2000</td>\n",
       "      <td>18594</td>\n",
       "      <td>5688</td>\n",
       "    </tr>\n",
       "    <tr>\n",
       "      <th>2</th>\n",
       "      <td>2001</td>\n",
       "      <td>19753</td>\n",
       "      <td>6198</td>\n",
       "    </tr>\n",
       "    <tr>\n",
       "      <th>3</th>\n",
       "      <td>2002</td>\n",
       "      <td>20734</td>\n",
       "      <td>6462</td>\n",
       "    </tr>\n",
       "    <tr>\n",
       "      <th>4</th>\n",
       "      <td>2003</td>\n",
       "      <td>20831</td>\n",
       "      <td>6635</td>\n",
       "    </tr>\n",
       "    <tr>\n",
       "      <th>5</th>\n",
       "      <td>2004</td>\n",
       "      <td>23029</td>\n",
       "      <td>7336</td>\n",
       "    </tr>\n",
       "    <tr>\n",
       "      <th>6</th>\n",
       "      <td>2005</td>\n",
       "      <td>23597</td>\n",
       "      <td>7248</td>\n",
       "    </tr>\n",
       "    <tr>\n",
       "      <th>7</th>\n",
       "      <td>2006</td>\n",
       "      <td>23584</td>\n",
       "      <td>7491</td>\n",
       "    </tr>\n",
       "    <tr>\n",
       "      <th>8</th>\n",
       "      <td>2007</td>\n",
       "      <td>25525</td>\n",
       "      <td>8161</td>\n",
       "    </tr>\n",
       "    <tr>\n",
       "      <th>9</th>\n",
       "      <td>2008</td>\n",
       "      <td>27731</td>\n",
       "      <td>8578</td>\n",
       "    </tr>\n",
       "    <tr>\n",
       "      <th>10</th>\n",
       "      <td>2009</td>\n",
       "      <td>29449</td>\n",
       "      <td>9000</td>\n",
       "    </tr>\n",
       "  </tbody>\n",
       "</table>\n",
       "</div>"
      ],
      "text/plain": [
       "    Year  US science spending  Suicides\n",
       "0   1999                18079      5427\n",
       "1   2000                18594      5688\n",
       "2   2001                19753      6198\n",
       "3   2002                20734      6462\n",
       "4   2003                20831      6635\n",
       "5   2004                23029      7336\n",
       "6   2005                23597      7248\n",
       "7   2006                23584      7491\n",
       "8   2007                25525      8161\n",
       "9   2008                27731      8578\n",
       "10  2009                29449      9000"
      ]
     },
     "execution_count": 20,
     "metadata": {},
     "output_type": "execute_result"
    }
   ],
   "source": [
    "import pandas as pd\n",
    "data = pd.read_csv(\"science.csv\")\n",
    "data"
   ]
  },
  {
   "cell_type": "code",
   "execution_count": 21,
   "metadata": {
    "slideshow": {
     "slide_type": "subslide"
    }
   },
   "outputs": [],
   "source": [
    "xs = np.array(data['US science spending']).reshape(-1, 1)\n",
    "ys = np.array(data['Suicides']).reshape(-1, 1)"
   ]
  },
  {
   "cell_type": "code",
   "execution_count": 22,
   "metadata": {
    "slideshow": {
     "slide_type": "subslide"
    }
   },
   "outputs": [
    {
     "data": {
      "text/plain": [
       "<matplotlib.axes._subplots.AxesSubplot at 0x7f0d8182bda0>"
      ]
     },
     "execution_count": 22,
     "metadata": {},
     "output_type": "execute_result"
    },
    {
     "data": {
      "image/png": "[encoded data removed]",
      "text/plain": [
       "<Figure size 432x288 with 1 Axes>"
      ]
     },
     "metadata": {
      "needs_background": "light"
     },
     "output_type": "display_data"
    }
   ],
   "source": [
    "data.plot.scatter(x = 1, y = 2)"
   ]
  },
  {
   "cell_type": "code",
   "execution_count": 26,
   "metadata": {
    "slideshow": {
     "slide_type": "subslide"
    }
   },
   "outputs": [
    {
     "name": "stderr",
     "output_type": "stream",
     "text": [
      "/home/jens/.virtualenvs/keras/lib/python3.6/site-packages/sklearn/linear_model/stochastic_gradient.py:152: DeprecationWarning: n_iter parameter is deprecated in 0.19 and will be removed in 0.21. Use max_iter and tol instead.\n",
      "  DeprecationWarning)\n",
      "/home/jens/.virtualenvs/keras/lib/python3.6/site-packages/sklearn/utils/validation.py:761: DataConversionWarning: A column-vector y was passed when a 1d array was expected. Please change the shape of y to (n_samples, ), for example using ravel().\n",
      "  y = column_or_1d(y, warn=True)\n"
     ]
    },
    {
     "data": {
      "text/plain": [
       "SGDRegressor(alpha=0.0001, average=False, early_stopping=False, epsilon=0.1,\n",
       "       eta0=0.01, fit_intercept=True, l1_ratio=0.15,\n",
       "       learning_rate='invscaling', loss='squared_loss', max_iter=None,\n",
       "       n_iter=10000, n_iter_no_change=5, penalty='l2', power_t=0.25,\n",
       "       random_state=None, shuffle=True, tol=None, validation_fraction=0.1,\n",
       "       verbose=0, warm_start=False)"
      ]
     },
     "execution_count": 26,
     "metadata": {},
     "output_type": "execute_result"
    }
   ],
   "source": [
    "model = SGDRegressor(n_iter=10000)\n",
    "model.fit(xs, ys)"
   ]
  },
  {
   "cell_type": "code",
   "execution_count": 27,
   "metadata": {
    "slideshow": {
     "slide_type": "subslide"
    }
   },
   "outputs": [
    {
     "data": {
      "text/plain": [
       "array([-1.1709098e+15, -1.1709196e+17])"
      ]
     },
     "execution_count": 27,
     "metadata": {},
     "output_type": "execute_result"
    }
   ],
   "source": [
    "model.predict([[100], [10000]])"
   ]
  },
  {
   "cell_type": "code",
   "execution_count": 28,
   "metadata": {
    "slideshow": {
     "slide_type": "subslide"
    }
   },
   "outputs": [
    {
     "data": {
      "text/plain": [
       "[<matplotlib.lines.Line2D at 0x7f0d81878198>]"
      ]
     },
     "execution_count": 28,
     "metadata": {},
     "output_type": "execute_result"
    },
    {
     "data": {
      "image/png": "[encoded data removed]",
      "text/plain": [
       "<Figure size 432x288 with 1 Axes>"
      ]
     },
     "metadata": {
      "needs_background": "light"
     },
     "output_type": "display_data"
    }
   ],
   "source": [
    "data.plot.scatter(x = 1, y = 2)\n",
    "plt.plot(xs, model.predict(xs))"
   ]
  },
  {
   "cell_type": "markdown",
   "metadata": {
    "slideshow": {
     "slide_type": "subslide"
    }
   },
   "source": [
    "## Scaling data\n",
    "\n",
    "Gradient descent goes in the direction of the gradient with respect to x.\n",
    "If that gradient is very large, the steps we take are laaaarge.\n",
    "\n",
    "What can we do to fix that?\n",
    "Scale the data to be smaller!"
   ]
  },
  {
   "cell_type": "code",
   "execution_count": 29,
   "metadata": {
    "slideshow": {
     "slide_type": "subslide"
    }
   },
   "outputs": [],
   "source": [
    "from sklearn.preprocessing import StandardScaler"
   ]
  },
  {
   "cell_type": "code",
   "execution_count": 30,
   "metadata": {
    "slideshow": {
     "slide_type": "fragment"
    }
   },
   "outputs": [
    {
     "name": "stderr",
     "output_type": "stream",
     "text": [
      "/home/jens/.virtualenvs/keras/lib/python3.6/site-packages/sklearn/utils/validation.py:595: DataConversionWarning: Data with input dtype int64 was converted to float64 by StandardScaler.\n",
      "  warnings.warn(msg, DataConversionWarning)\n",
      "/home/jens/.virtualenvs/keras/lib/python3.6/site-packages/sklearn/utils/validation.py:595: DataConversionWarning: Data with input dtype int64 was converted to float64 by StandardScaler.\n",
      "  warnings.warn(msg, DataConversionWarning)\n"
     ]
    },
    {
     "data": {
      "text/plain": [
       "array([[-1.35206864],\n",
       "       [-1.2048759 ],\n",
       "       [-0.87362077],\n",
       "       [-0.59324003],\n",
       "       [-0.56551634],\n",
       "       [ 0.06269657],\n",
       "       [ 0.22503731],\n",
       "       [ 0.22132177],\n",
       "       [ 0.77608122],\n",
       "       [ 1.40658062],\n",
       "       [ 1.89760419]])"
      ]
     },
     "execution_count": 30,
     "metadata": {},
     "output_type": "execute_result"
    }
   ],
   "source": [
    "xs_scaled = StandardScaler().fit_transform(xs)\n",
    "xs_scaled"
   ]
  },
  {
   "cell_type": "code",
   "execution_count": 35,
   "metadata": {
    "slideshow": {
     "slide_type": "subslide"
    }
   },
   "outputs": [
    {
     "name": "stderr",
     "output_type": "stream",
     "text": [
      "/home/jens/.virtualenvs/keras/lib/python3.6/site-packages/sklearn/linear_model/stochastic_gradient.py:152: DeprecationWarning: n_iter parameter is deprecated in 0.19 and will be removed in 0.21. Use max_iter and tol instead.\n",
      "  DeprecationWarning)\n",
      "/home/jens/.virtualenvs/keras/lib/python3.6/site-packages/sklearn/utils/validation.py:761: DataConversionWarning: A column-vector y was passed when a 1d array was expected. Please change the shape of y to (n_samples, ), for example using ravel().\n",
      "  y = column_or_1d(y, warn=True)\n"
     ]
    },
    {
     "data": {
      "text/plain": [
       "SGDRegressor(alpha=0.0001, average=False, early_stopping=False, epsilon=0.1,\n",
       "       eta0=0.01, fit_intercept=True, l1_ratio=0.15,\n",
       "       learning_rate='invscaling', loss='squared_loss', max_iter=None,\n",
       "       n_iter=10000, n_iter_no_change=5, penalty='l2', power_t=0.25,\n",
       "       random_state=None, shuffle=True, tol=None, validation_fraction=0.1,\n",
       "       verbose=0, warm_start=False)"
      ]
     },
     "execution_count": 35,
     "metadata": {},
     "output_type": "execute_result"
    }
   ],
   "source": [
    "model = SGDRegressor(n_iter=10000)\n",
    "model.fit(xs_scaled, ys)"
   ]
  },
  {
   "cell_type": "code",
   "execution_count": 36,
   "metadata": {
    "slideshow": {
     "slide_type": "subslide"
    }
   },
   "outputs": [
    {
     "data": {
      "text/plain": [
       "[<matplotlib.lines.Line2D at 0x7f0d816e1be0>]"
      ]
     },
     "execution_count": 36,
     "metadata": {},
     "output_type": "execute_result"
    },
    {
     "data": {
      "image/png": "[encoded data removed]",
      "text/plain": [
       "<Figure size 432x288 with 1 Axes>"
      ]
     },
     "metadata": {
      "needs_background": "light"
     },
     "output_type": "display_data"
    }
   ],
   "source": [
    "plt.plot(xs_scaled, ys)\n",
    "plt.plot(xs_scaled, model.predict(xs_scaled))"
   ]
  },
  {
   "cell_type": "markdown",
   "metadata": {
    "slideshow": {
     "slide_type": "subslide"
    }
   },
   "source": [
    "## Why don't we get any good results?!\n",
    "\n",
    "To get the optimal solution, we have to take many steps towards the correct solution. "
   ]
  },
  {
   "cell_type": "markdown",
   "metadata": {
    "slideshow": {
     "slide_type": "subslide"
    }
   },
   "source": [
    "## Exercise: \n",
    "\n",
    "* Use the `SGDRegressor` to fit a model\n",
    "* Figure out how many steps the model is taking\n",
    "* Increase that step to, say, 1000 and see whether your prediction is better\n",
    "* What happens if you increase the steps to 10000?"
   ]
  },
  {
   "cell_type": "markdown",
   "metadata": {
    "slideshow": {
     "slide_type": "subslide"
    }
   },
   "source": [
    "## Recap\n",
    "\n",
    "* Derivatives\n",
    "  * The **rate of growth** for a function $f$\n",
    "  * Normally defined at points like $x$: $f'(x)$\n",
    "* Partial derivatives\n",
    "  * Derivatives in multiple dimensions"
   ]
  },
  {
   "cell_type": "markdown",
   "metadata": {
    "slideshow": {
     "slide_type": "fragment"
    }
   },
   "source": [
    "* Gradient\n",
    "  * A vector of derivatives, one for each dimension in a function $f$\n",
    "* Gradient descent\n",
    "  * A way to optimise a function by moving towards an optimum\n",
    "  * For instance minimising a loss function"
   ]
  }
 ],
 "metadata": {
  "celltoolbar": "Slideshow",
  "kernelspec": {
   "display_name": "Python 3",
   "language": "python",
   "name": "python3"
  },
  "language_info": {
   "codemirror_mode": {
    "name": "ipython",
    "version": 3
   },
   "file_extension": ".py",
   "mimetype": "text/x-python",
   "name": "python",
   "nbconvert_exporter": "python",
   "pygments_lexer": "ipython3",
   "version": "3.6.7"
  }
 },
 "nbformat": 4,
 "nbformat_minor": 2
}
