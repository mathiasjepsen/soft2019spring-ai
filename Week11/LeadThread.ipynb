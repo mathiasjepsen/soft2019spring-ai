{
 "cells": [
  {
   "cell_type": "markdown",
   "metadata": {
    "slideshow": {
     "slide_type": "slide"
    }
   },
   "source": [
    "# Leading You On ..."
   ]
  },
  {
   "cell_type": "markdown",
   "metadata": {
    "slideshow": {
     "slide_type": "fragment"
    }
   },
   "source": [
    "With a bottom heavy weigh-down on learning objectives..."
   ]
  },
  {
   "cell_type": "markdown",
   "metadata": {
    "slideshow": {
     "slide_type": "subslide"
    }
   },
   "source": [
    "### Learning Objectives\n",
    "##### _Knowledge_:\n",
    "* _'Python'_ programming language constructs and usage of external _'Python'_ APIs.\n",
    "* Basic linear algebra, regression, optimisation problems and techniques.\n",
    "* Theoretical concepts underlying supervised and unsupervised learning.\n",
    "* The general principles and common pitfalls of machine learning.\n",
    "* **Representative business questions as well as machine learning tools and models to answer them.**"
   ]
  },
  {
   "cell_type": "markdown",
   "metadata": {
    "slideshow": {
     "slide_type": "subslide"
    }
   },
   "source": [
    "### Learning Objectives\n",
    "##### _Skills_:\n",
    "* Writing Python scripts and programs using common language constructs in _'Jupyter Notebooks'_, as well as stand-alone programs.\n",
    "* Create various types of plots programmatically to share insight into data.\n",
    "* **Apply the Python libraries _'Scikit-learn'_, _'Numpy'_ and _'Pandas'_ to programmatically download, preprocess, and analyse data.**\n",
    "* **Construct, train and validate supervised and unsupervised machine learning / deep learning models, using the _'Scikit-learn'_ and _'Keras'_ libraries.**"
   ]
  },
  {
   "cell_type": "markdown",
   "metadata": {
    "slideshow": {
     "slide_type": "subslide"
    }
   },
   "source": [
    "### Learning Objectives\n",
    "##### _Competencies_:\n",
    "* **Recognise and describe possible applications of machine learning.**\n",
    "* **Compare, appraise and select machine learning models methods for specific tasks.**\n",
    "* **Present and visualise data and findings.**\n",
    "* **Solve real-world data mining and pattern recognition problems by using machine learning techniques.**"
   ]
  },
  {
   "cell_type": "markdown",
   "metadata": {
    "slideshow": {
     "slide_type": "subslide"
    }
   },
   "source": [
    "### Learning Objectives\n",
    "Should comprise _all_ learning objectives if we're to reach SOLO level 5. **Own the problem!**.\n",
    "\n",
    "![SOLO](images/lead/solo.png)"
   ]
  },
  {
   "cell_type": "markdown",
   "metadata": {
    "slideshow": {
     "slide_type": "subslide"
    }
   },
   "source": [
    "## What About Hand-in Assignments 4 & 5 -- then ??\n",
    "![owntheproblem](images/lead/MLWheel_Own_Your_Problem.png)"
   ]
  },
  {
   "cell_type": "markdown",
   "metadata": {
    "slideshow": {
     "slide_type": "subslide"
    }
   },
   "source": [
    "## Hand-in Assignment 4\n",
    "**This is the ideal scenario for project \\#4: find your own business case, or case study and work the data.**\n",
    "![mlwheelproject4](images/lead/MLWheel_Project_4.png)"
   ]
  },
  {
   "cell_type": "markdown",
   "metadata": {
    "slideshow": {
     "slide_type": "subslide"
    }
   },
   "source": [
    "## Hand-in Assignment 5\n",
    "**This is the ideal scenario for project \\#5: develop, train and _validate_ your ML model based on findings in Project \\#4.**\n",
    "![mlwheelproject4](images/lead/MLWheel_Project_5.png)"
   ]
  },
  {
   "cell_type": "markdown",
   "metadata": {},
   "source": [
    "## To be sure:\n",
    "Do not despair. We are in this together ;-)"
   ]
  }
 ],
 "metadata": {
  "celltoolbar": "Slideshow",
  "kernelspec": {
   "display_name": "Python 3",
   "language": "python",
   "name": "python3"
  },
  "language_info": {
   "codemirror_mode": {
    "name": "ipython",
    "version": 3
   },
   "file_extension": ".py",
   "mimetype": "text/x-python",
   "name": "python",
   "nbconvert_exporter": "python",
   "pygments_lexer": "ipython3",
   "version": "3.7.1"
  }
 },
 "nbformat": 4,
 "nbformat_minor": 2
}
