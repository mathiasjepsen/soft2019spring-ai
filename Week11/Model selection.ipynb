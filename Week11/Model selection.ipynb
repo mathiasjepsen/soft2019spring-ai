{
 "cells": [
  {
   "cell_type": "markdown",
   "metadata": {
    "slideshow": {
     "slide_type": "subslide"
    }
   },
   "source": [
    "## Cross validation recap\n",
    "\n",
    "\n"
   ]
  },
  {
   "cell_type": "markdown",
   "metadata": {
    "slideshow": {
     "slide_type": "slide"
    }
   },
   "source": [
    "## Model selection\n",
    "\n",
    "Which model to use? When to use it? \n",
    "\n",
    "Book suggests shortlisting algorithms."
   ]
  },
  {
   "cell_type": "markdown",
   "metadata": {
    "slideshow": {
     "slide_type": "subslide"
    }
   },
   "source": [
    "## Explainability\n",
    "\n",
    "* Can you explain the model?\n",
    "* Can you explain the model to a non-technical audience?"
   ]
  },
  {
   "cell_type": "markdown",
   "metadata": {
    "slideshow": {
     "slide_type": "subslide"
    }
   },
   "source": [
    "## Exercise\n",
    "\n",
    "**Without** using mathy terms,\n",
    "* Explain the decision tree algorithm to your neighbour in 30 seconds, then switch\n",
    "* Explain 'overfitting' to your neighbour in 30 seconds, then switch"
   ]
  },
  {
   "cell_type": "markdown",
   "metadata": {
    "slideshow": {
     "slide_type": "subslide"
    }
   },
   "source": [
    "## Memory concerns\n",
    "\n",
    "* Can you put it all into your RAM?\n",
    "* In memory vs. out-of-memory"
   ]
  },
  {
   "cell_type": "markdown",
   "metadata": {
    "slideshow": {
     "slide_type": "fragment"
    }
   },
   "source": [
    "* Incremental models\n",
    "  * Clustering\n",
    "  * Decision trees\n",
    "  * SGD\n",
    "* Bulk models\n",
    "  * Linear regression\n",
    "  * SVM"
   ]
  },
  {
   "cell_type": "markdown",
   "metadata": {
    "slideshow": {
     "slide_type": "subslide"
    }
   },
   "source": [
    "## Features\n",
    "\n",
    "What type of features do you have and how many?\n",
    "\n",
    "* Categorical / continuous?\n",
    "* Few vs. many?"
   ]
  },
  {
   "cell_type": "markdown",
   "metadata": {
    "slideshow": {
     "slide_type": "fragment"
    }
   },
   "source": [
    "* Few features\n",
    "  * SVM\n",
    "* Large number of features\n",
    "  * Regression models\n",
    "  * SGD\n",
    "  * Neural networks"
   ]
  },
  {
   "cell_type": "markdown",
   "metadata": {
    "slideshow": {
     "slide_type": "subslide"
    }
   },
   "source": [
    "## Non-linearity\n",
    "\n",
    "* Do you have strong linear patterns?"
   ]
  },
  {
   "cell_type": "markdown",
   "metadata": {
    "slideshow": {
     "slide_type": "fragment"
    }
   },
   "source": [
    "* If yes: linear models\n",
    "\n",
    "* If no: deep learning or ensembles"
   ]
  },
  {
   "cell_type": "markdown",
   "metadata": {
    "slideshow": {
     "slide_type": "subslide"
    }
   },
   "source": [
    "## Training speed\n",
    "\n",
    "How much time can you afford to train the model?\n",
    "\n",
    "* Deep learning: days\n",
    "* Regression models: seconds"
   ]
  },
  {
   "cell_type": "markdown",
   "metadata": {
    "slideshow": {
     "slide_type": "subslide"
    }
   },
   "source": [
    "## Recap\n",
    "\n",
    "Think about what you **need** from your model, given what you **have**.\n",
    "\n",
    "* Explainability\n",
    "* Memory\n",
    "* Features\n",
    "* Non-linearity\n",
    "* Training speed"
   ]
  }
 ],
 "metadata": {
  "celltoolbar": "Slideshow",
  "kernelspec": {
   "display_name": "Python 3",
   "language": "python",
   "name": "python3"
  },
  "language_info": {
   "codemirror_mode": {
    "name": "ipython",
    "version": 3
   },
   "file_extension": ".py",
   "mimetype": "text/x-python",
   "name": "python",
   "nbconvert_exporter": "python",
   "pygments_lexer": "ipython3",
   "version": "3.6.7"
  }
 },
 "nbformat": 4,
 "nbformat_minor": 2
}
